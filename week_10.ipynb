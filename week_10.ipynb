{
 "cells": [
  {
   "cell_type": "markdown",
   "id": "c8b9a711",
   "metadata": {},
   "source": [
    "## week_10 | 2022.05.16"
   ]
  },
  {
   "cell_type": "markdown",
   "id": "b059f871",
   "metadata": {},
   "source": [
    "## defaultdict\n",
    "- 값이 없으면 0으로 설정될 수 있게 해주는 딕셔너리\n",
    "- defaultdict(list)\n",
    "    - default 값이 빈 리스트 []"
   ]
  },
  {
   "cell_type": "code",
   "execution_count": 3,
   "id": "6492abc0",
   "metadata": {},
   "outputs": [],
   "source": [
    "from collections import defaultdict"
   ]
  },
  {
   "cell_type": "code",
   "execution_count": 4,
   "id": "0c999561",
   "metadata": {},
   "outputs": [],
   "source": [
    "letter = 'defaultdict'\n",
    "empty = {} # a : [a, a]\n",
    "for ch in letter:\n",
    "    # if empty[ch] = 0\n",
    "    # else 값을 넣어라\n",
    "    empty.setdefault(ch, 0) # a 키가 없으면 기본값으로 0을 넣어라\n",
    "    empty[ch] += 1 "
   ]
  },
  {
   "cell_type": "code",
   "execution_count": 5,
   "id": "8c7d0aed",
   "metadata": {},
   "outputs": [
    {
     "data": {
      "text/plain": [
       "{'d': 2, 'e': 1, 'f': 1, 'a': 1, 'u': 1, 'l': 1, 't': 2, 'i': 1, 'c': 1}"
      ]
     },
     "execution_count": 5,
     "metadata": {},
     "output_type": "execute_result"
    }
   ],
   "source": [
    "empty"
   ]
  },
  {
   "cell_type": "code",
   "execution_count": 4,
   "id": "d0a63db1",
   "metadata": {},
   "outputs": [
    {
     "data": {
      "text/plain": [
       "defaultdict(int,\n",
       "            {'d': 2,\n",
       "             'e': 1,\n",
       "             'f': 1,\n",
       "             'a': 1,\n",
       "             'u': 1,\n",
       "             'l': 1,\n",
       "             't': 2,\n",
       "             'i': 1,\n",
       "             'c': 1})"
      ]
     },
     "execution_count": 4,
     "metadata": {},
     "output_type": "execute_result"
    }
   ],
   "source": [
    "# 위의 코드를 간소화\n",
    "empty2 = defaultdict(int)\n",
    "for ch in letter:\n",
    "    empty2[ch] += 1\n",
    "empty2"
   ]
  },
  {
   "cell_type": "markdown",
   "id": "4589ca23",
   "metadata": {},
   "source": [
    "## 객체 Object & Class\n",
    "- 객체: 실제적인 물건, 개념\n",
    "- 속성과 행동을 가지는 개념\n",
    "- 자동차\n",
    "    - 속성: 엔진, 브랜드, 가격, 색상, 이름, ... => 변수\n",
    "    - 행동: 나가다, 정지하다, 좌회전, 우회전 => 메서드(함수)\n",
    "- 고양이\n",
    "    - 속성: 종, 이름, 컬러, 몸무게, 성별, ...\n",
    "    - 행동: 짖다, 뛰다, 걷다, 째려보다, ...\n",
    "- 사전\n",
    "    - 속성: 글자 수, 시작 글자, 출현 빈도수, ...\n",
    "    - 행동: 추가하다, 제외하다, ...\n",
    "- 관련 짓는 방법\n",
    "    - 예시) (사람)            (상점)                       (물건) (3가지 객체)\n",
    "    - 속성) (이름, 돈)        (재고, 이익, 고객명단)       (브랜드, 이름, 가격)\n",
    "    - 행동) (사다)            (회원등록, 팔다, 수익계산)\n",
    "- 객체 사용하는 이유: 코드 재사용 수월"
   ]
  },
  {
   "cell_type": "markdown",
   "id": "e79e79d5",
   "metadata": {},
   "source": [
    "## 클래스 class\n",
    "- 객체가 가져야 할 기본 정보를 담은 코드\n",
    "- 설계도, 틀, 프레임워크\n",
    "    - 서로 다른 속성을 하나의 틀 안에서 만들 수 있다\n",
    "- 붕어빵의 틀\n",
    "- 붕어빵 == 인스턴스\n",
    "- `class Car(대문자):`\n",
    "    - 클래스명은 언더바말고 카멜표기법을 쓴다."
   ]
  },
  {
   "cell_type": "code",
   "execution_count": 21,
   "id": "425c2c1c",
   "metadata": {},
   "outputs": [
    {
     "name": "stdout",
     "output_type": "stream",
     "text": [
      "<__main__.NiceCar object at 0x048999A0>\n",
      "<__main__.NiceCar object at 0x04899958>\n"
     ]
    }
   ],
   "source": [
    "## 1. 속성이 없는 class\n",
    "\n",
    "# 정의\n",
    "class NiceCar:\n",
    "    pass # 속성, 변수가 없음\n",
    "\n",
    "# 선언(괄호 꼭 쓸 것)\n",
    "car1 = NiceCar()\n",
    "print(car1)\n",
    "\n",
    "car2 = NiceCar()\n",
    "print(car2)"
   ]
  },
  {
   "cell_type": "code",
   "execution_count": 23,
   "id": "faf78343",
   "metadata": {},
   "outputs": [
    {
     "name": "stdout",
     "output_type": "stream",
     "text": [
      "<class '__main__.NiceCar'>\n",
      "<class '__main__.NiceCar'>\n"
     ]
    }
   ],
   "source": [
    "# 주소는 다르지만, 타입은 같다\n",
    "print(type(car1))\n",
    "print(type(car2)) # nltk.book type == Text"
   ]
  },
  {
   "cell_type": "code",
   "execution_count": 11,
   "id": "ae98cf0c",
   "metadata": {},
   "outputs": [
    {
     "name": "stdout",
     "output_type": "stream",
     "text": [
      "mercedes\n",
      "kia\n"
     ]
    }
   ],
   "source": [
    "# 속성 만들기\n",
    "car1.brand = 'mercedes'\n",
    "car2.brand = 'kia'\n",
    "\n",
    "for car in [car1, car2]:\n",
    "    print(car.brand)"
   ]
  },
  {
   "cell_type": "code",
   "execution_count": 12,
   "id": "ee2fef09",
   "metadata": {},
   "outputs": [
    {
     "data": {
      "text/plain": [
       "'mercedes'"
      ]
     },
     "execution_count": 12,
     "metadata": {},
     "output_type": "execute_result"
    }
   ],
   "source": [
    "## 2. 속성이 있는 class\n",
    "\n",
    "class Car:\n",
    "    brand = 'mercedes' # 속성이 정해짐\n",
    "\n",
    "car3 = Car() # 선언\n",
    "car3.brand"
   ]
  },
  {
   "cell_type": "code",
   "execution_count": 31,
   "id": "86cbfbb1",
   "metadata": {},
   "outputs": [
    {
     "data": {
      "text/plain": [
       "'toyota'"
      ]
     },
     "execution_count": 31,
     "metadata": {},
     "output_type": "execute_result"
    }
   ],
   "source": [
    "## 3.  원하는 속성으로 설정 (다양한 속성을 원한다)\n",
    "class Car:\n",
    "    def __init__(self, brand):\n",
    "        #속성을 초기화하는 함수 (self는 instane == mycar)\n",
    "        # __init__(첫번째 인수는 self, 다음은 원하는 속성)\n",
    "        # self.brand => 어떤 객체가 만들어지더라도 가져갈 브랜드명\n",
    "        # barnd = 객체 생성 시 설정되는 브랜드명 (처음에 들어오는 값)\n",
    "        self.brand = brand\n",
    "        # 변수\n",
    "        \n",
    "my_car = Car(brand = 'toyota') # brand를 꼭 넣어줘야함\n",
    "my_car.brand"
   ]
  },
  {
   "cell_type": "markdown",
   "id": "f3f401cd",
   "metadata": {},
   "source": [
    "### EX\n",
    "- class Car에 color, model 속성 초기화하기\n",
    "- 인스턴스 만들기"
   ]
  },
  {
   "cell_type": "code",
   "execution_count": 56,
   "id": "0a23a1c1",
   "metadata": {},
   "outputs": [],
   "source": [
    "class Car:\n",
    "    def __init__(self, brand, model, color):\n",
    "        self.brand = brand # self == instance\n",
    "        self.model = model\n",
    "        self.color = color\n",
    "\n",
    "    # action 정의하기\n",
    "    def drive(self):\n",
    "        # 출력: 내차(브랜드={})이 움직인다.\n",
    "        print(f'{self.brand} 이/가 움직인다.')\n",
    "    \n",
    "    def stop(self):\n",
    "        print('차가 멈춘다.')\n",
    "    \n",
    "    def change_color(self):\n",
    "        # self.color -> pink로 바꾼다\n",
    "        self.color = 'pink'"
   ]
  },
  {
   "cell_type": "code",
   "execution_count": 57,
   "id": "e7b84f79",
   "metadata": {},
   "outputs": [
    {
     "name": "stdout",
     "output_type": "stream",
     "text": [
      "red\n",
      "white\n",
      "pink\n"
     ]
    }
   ],
   "source": [
    "my_morning = Car('kia', 'morning', 'red')\n",
    "print(my_morning.color)\n",
    "\n",
    "my_morning.color = 'white' # 이 객체애 대해서만 속성 바꾸기\n",
    "# class밖에서 인스터스에서 변수 바꾸기\n",
    "print(my_morning.color)\n",
    "\n",
    "my_sorento = Car('kia', 'sorento', 'yellow')\n",
    "my_sorento.change_color() # yellow -> pink\n",
    "print(my_sorento.color)"
   ]
  },
  {
   "cell_type": "code",
   "execution_count": 37,
   "id": "02f9a84b",
   "metadata": {},
   "outputs": [],
   "source": [
    "#1. 내가 원하는 컬러로 바꾸기\n",
    "#2. 컬러가 있으면 있는 컬러, 업으면 orange로 기본값 설정하기\n",
    "#3  model 기본적으로는 값을 안 받아도 되게 설정하기\n",
    "\n",
    "class Car:\n",
    "    def __init__(self, brand, model = None, color = 'orange'):\n",
    "    # 컬러가 있으면 컬러, 없으면 orange로 기본값 설정\n",
    "        self.brand = brand\n",
    "        # self.brand => 어떤 객체가 만들어지더라도 가져갈 브랜드명\n",
    "        # barnd = 객체 생성 시 설정되는 브랜드명 (처음에 들어오는 값)\n",
    "        self.model = model\n",
    "        self.color = color\n",
    "        \n",
    "    # action 정의하기 (메서드(함수)로)\n",
    "    def drive(self):\n",
    "        # 출력: 내차(브랜드={})이 움직인다.\n",
    "        # print(f'내 차 (브랜드 = {self.brand})가 움직인다.')\n",
    "        print(f'{self.brand} 이/가 움직인다.')\n",
    "    \n",
    "    def stop(self):\n",
    "        print('차가 멈춘다.')\n",
    "    \n",
    "    def change_color(self, color):\n",
    "        # 입력되는 컬러로 설정하기 (클래스 안에서 변수 바꾸기)\n",
    "        self.color = color"
   ]
  },
  {
   "cell_type": "code",
   "execution_count": 29,
   "id": "0ea2a273",
   "metadata": {},
   "outputs": [
    {
     "name": "stdout",
     "output_type": "stream",
     "text": [
      "None\n",
      "orange\n"
     ]
    }
   ],
   "source": [
    "my_sorento = Car('kia')\n",
    "print(my_sorento.model)\n",
    "print(my_sorento.color)"
   ]
  },
  {
   "cell_type": "code",
   "execution_count": 30,
   "id": "25e376ec",
   "metadata": {},
   "outputs": [
    {
     "data": {
      "text/plain": [
       "'blue'"
      ]
     },
     "execution_count": 30,
     "metadata": {},
     "output_type": "execute_result"
    }
   ],
   "source": [
    "my_sorento.change_color('blue')\n",
    "my_sorento.color"
   ]
  },
  {
   "cell_type": "markdown",
   "id": "480fee24",
   "metadata": {},
   "source": [
    "### getter, setter\n",
    "- 캡슐화, 정보 은닉\n",
    "- 클래스 외부에서 변수 접근을 용이하지 못하게 하는 것\n",
    "- public -> private"
   ]
  },
  {
   "cell_type": "code",
   "execution_count": 59,
   "id": "8b8b4cc3",
   "metadata": {},
   "outputs": [],
   "source": [
    "#1. 틀(class안)에서 변수를 바꾸는 것\n",
    "\n",
    "#2. 클래스 밖에서 인스턴스에서 변수를 바꾸는 것\n",
    "# 위험 : 코드에 오류날 확률이 높음 => 캡슐화, 정보은닉이 필요"
   ]
  },
  {
   "cell_type": "code",
   "execution_count": 42,
   "id": "dc4e8fc9",
   "metadata": {},
   "outputs": [
    {
     "data": {
      "text/plain": [
       "'red'"
      ]
     },
     "execution_count": 42,
     "metadata": {},
     "output_type": "execute_result"
    }
   ],
   "source": [
    "class Fruit:\n",
    "    color = 'red'\n",
    "    \n",
    "apple = Fruit()\n",
    "apple.color"
   ]
  },
  {
   "cell_type": "code",
   "execution_count": 60,
   "id": "b64dcccc",
   "metadata": {},
   "outputs": [
    {
     "data": {
      "text/plain": [
       "'purple'"
      ]
     },
     "execution_count": 60,
     "metadata": {},
     "output_type": "execute_result"
    }
   ],
   "source": [
    "Fruit.color = 'purple'\n",
    "\n",
    "# 그 다음 객체에서 color가 purple로 바뀜\n",
    "orange = Fruit()\n",
    "orange.color"
   ]
  },
  {
   "cell_type": "code",
   "execution_count": 61,
   "id": "667b0cd6",
   "metadata": {},
   "outputs": [],
   "source": [
    "# 클래스 외부에서 변수 접근을 용이하지 못하게 하기\n",
    "class Car:\n",
    "    def __init__(self, input_brand):\n",
    "        self.brand = input_brand\n",
    "    \n",
    "    def get_brand(self):\n",
    "        # 원래 변수명에 접근하도록\n",
    "        print('from the getter')\n",
    "        return self.brand\n",
    "    \n",
    "    def set_brand(self, input_brand):\n",
    "        # 변수명을 바꾸는 작업\n",
    "        print('from the setter')\n",
    "        self.brand = input_brand"
   ]
  },
  {
   "cell_type": "code",
   "execution_count": 52,
   "id": "ba5a9adf",
   "metadata": {},
   "outputs": [
    {
     "data": {
      "text/plain": [
       "'toyota'"
      ]
     },
     "execution_count": 52,
     "metadata": {},
     "output_type": "execute_result"
    }
   ],
   "source": [
    "ex = Car('toyota')\n",
    "ex.brand"
   ]
  },
  {
   "cell_type": "code",
   "execution_count": 53,
   "id": "9852c248",
   "metadata": {},
   "outputs": [
    {
     "name": "stdout",
     "output_type": "stream",
     "text": [
      "from the getter\n"
     ]
    },
    {
     "data": {
      "text/plain": [
       "'toyota'"
      ]
     },
     "execution_count": 53,
     "metadata": {},
     "output_type": "execute_result"
    }
   ],
   "source": [
    "ex.get_brand()"
   ]
  },
  {
   "cell_type": "code",
   "execution_count": 49,
   "id": "f604dac1",
   "metadata": {},
   "outputs": [
    {
     "name": "stdout",
     "output_type": "stream",
     "text": [
      "from the setter\n"
     ]
    },
    {
     "data": {
      "text/plain": [
       "'mazuda'"
      ]
     },
     "execution_count": 49,
     "metadata": {},
     "output_type": "execute_result"
    }
   ],
   "source": [
    "ex.set_brand('mazuda')\n",
    "ex.brand"
   ]
  },
  {
   "cell_type": "code",
   "execution_count": 139,
   "id": "d61457a6",
   "metadata": {},
   "outputs": [],
   "source": [
    "Car.brand = 'bmw'"
   ]
  },
  {
   "cell_type": "code",
   "execution_count": 140,
   "id": "edf6345e",
   "metadata": {},
   "outputs": [
    {
     "data": {
      "text/plain": [
       "'toyota'"
      ]
     },
     "execution_count": 140,
     "metadata": {},
     "output_type": "execute_result"
    }
   ],
   "source": [
    "a = Car('toyota')\n",
    "a.brand"
   ]
  },
  {
   "cell_type": "code",
   "execution_count": 142,
   "id": "7d3f698d",
   "metadata": {},
   "outputs": [
    {
     "name": "stdout",
     "output_type": "stream",
     "text": [
      "from the getter\n"
     ]
    },
    {
     "data": {
      "text/plain": [
       "'toyota'"
      ]
     },
     "execution_count": 142,
     "metadata": {},
     "output_type": "execute_result"
    }
   ],
   "source": [
    "a.get_brand()"
   ]
  },
  {
   "cell_type": "markdown",
   "id": "8aed8adb",
   "metadata": {},
   "source": [
    "## 2. 변수명(self.brand) 바꾸기)\n",
    "- 1번보다 더 파이써닉하다"
   ]
  },
  {
   "cell_type": "code",
   "execution_count": 63,
   "id": "9d85776a",
   "metadata": {},
   "outputs": [
    {
     "data": {
      "text/plain": [
       "'kia'"
      ]
     },
     "execution_count": 63,
     "metadata": {},
     "output_type": "execute_result"
    }
   ],
   "source": [
    "class Car:\n",
    "    def __init__(self, input_brand):\n",
    "        self.hidden_brand = input_brand\n",
    "    \n",
    "    def get_brand(self):\n",
    "        return self.hidden_brand\n",
    "    \n",
    "    def set_brand(self, input_brand):\n",
    "        self.hidden_brand = input_brand\n",
    "    \n",
    "    # 내가 사용할 변수명 (property 예약어 사용)\n",
    "    brand = property(get_brand, set_brand)\n",
    "    \n",
    "c = Car('kia')\n",
    "c.brand"
   ]
  },
  {
   "cell_type": "code",
   "execution_count": 144,
   "id": "a1c972f8",
   "metadata": {},
   "outputs": [],
   "source": [
    "c.brand = 'hyundai'"
   ]
  },
  {
   "cell_type": "code",
   "execution_count": 66,
   "id": "1f3f206c",
   "metadata": {},
   "outputs": [],
   "source": [
    "Car.hidden_brand = 'toyota'"
   ]
  },
  {
   "cell_type": "code",
   "execution_count": 68,
   "id": "f9125e45",
   "metadata": {},
   "outputs": [],
   "source": [
    "Car.brand = 'aa'"
   ]
  },
  {
   "cell_type": "markdown",
   "id": "777bf6d3",
   "metadata": {},
   "source": [
    "### 3. 가장 파이써닉한 방법"
   ]
  },
  {
   "cell_type": "code",
   "execution_count": 65,
   "id": "a7ada65d",
   "metadata": {},
   "outputs": [
    {
     "data": {
      "text/plain": [
       "'aa'"
      ]
     },
     "execution_count": 65,
     "metadata": {},
     "output_type": "execute_result"
    }
   ],
   "source": [
    "# decorator : @로 시작하는 표식\n",
    "class Car:\n",
    "    def __init__(self, input_brand):\n",
    "        self.hidden_brand = input_brand\n",
    "    \n",
    "    @property\n",
    "    # 사용할 변수명 brand로 바꿈\n",
    "    def brand(self):\n",
    "        return self.hidden_brand\n",
    "    \n",
    "    @brand.setter\n",
    "    # 사용할 변수명 brand로 바꿈\n",
    "    def brand(self, input_brand):\n",
    "        self.hidden_brand = input_brand\n",
    "        \n",
    "c = Car('aa')\n",
    "c.brand"
   ]
  },
  {
   "cell_type": "markdown",
   "id": "fad75ec5",
   "metadata": {},
   "source": [
    "### 4. 진짜 접근하지 못하게, 변수명을 아예 바꿈"
   ]
  },
  {
   "cell_type": "code",
   "execution_count": 70,
   "id": "0dfea048",
   "metadata": {},
   "outputs": [
    {
     "data": {
      "text/plain": [
       "'bb'"
      ]
     },
     "execution_count": 70,
     "metadata": {},
     "output_type": "execute_result"
    }
   ],
   "source": [
    "class Car:\n",
    "    def __init__(self, input_brand):\n",
    "        self.__brand = input_brand\n",
    "    \n",
    "    @property\n",
    "    def brand(self):\n",
    "        return self.__brand\n",
    "    \n",
    "    @brand.setter\n",
    "    def brand(self, input_brand):\n",
    "        self.__brand = input_brand\n",
    "        \n",
    "c = Car('bb')\n",
    "# 오류 (아예 접근 불가) c.__brand\n",
    "c.brand"
   ]
  },
  {
   "cell_type": "code",
   "execution_count": 152,
   "id": "a8e56b77",
   "metadata": {},
   "outputs": [
    {
     "data": {
      "text/plain": [
       "10"
      ]
     },
     "execution_count": 152,
     "metadata": {},
     "output_type": "execute_result"
    }
   ],
   "source": [
    "class Circle:\n",
    "    def __init__(self, radius):\n",
    "        self.radius = radius\n",
    "        \n",
    "    @property\n",
    "    def diameter(self):\n",
    "        return self.radius *2\n",
    "    \n",
    "c = Circle(5)\n",
    "c.diameter"
   ]
  },
  {
   "cell_type": "markdown",
   "id": "f145d139",
   "metadata": {},
   "source": [
    "### 실습\n",
    "- 객체: 메모장(노트),                      메모\n",
    "- 변수: (제목, 페이지번호, 메모)           (글귀)\n",
    "- 메서드: (추가, 삭제, 페이지번호)         (쓰기, 지우기)\n",
    "\n",
    "\n",
    "- getter, setter 메모장 제목에 설정하기\n",
    "- '메모' 객체에 글귀를 추가한다\n",
    "- '메모장' 개체에 메모 추가\n",
    "- 페이지번호가 늘어난다.\n",
    "- 메모를 삭제하면 페이지번호가 줄어들고\n",
    "- 페이지가 300을 넘으면 메모 추가 못하게 막기\n",
    "- 페이지번호로 메모 찾기"
   ]
  },
  {
   "cell_type": "code",
   "execution_count": 159,
   "id": "4a47f2ba",
   "metadata": {},
   "outputs": [
    {
     "name": "stdout",
     "output_type": "stream",
     "text": [
      "\n",
      " << 메모 내용 >> \n",
      "\n",
      "Page 1: 꿈을 이루고자 하는 용기만 있다면 모든 꿈을 이룰 수 있다\n",
      "Page 2: 웃음이 없는 하루는 버린 하루다\n",
      "Page 3: 승리는 가장 끈기 있는 사람에게 돌아간다\n",
      "None\n",
      "\n",
      " << 메모장 내용 >> \n",
      "\n",
      "Page 1: <__main__.Note object at 0x007D50E8>\n",
      "None\n",
      "\n",
      " 페이지 번호: 1\n"
     ]
    }
   ],
   "source": [
    "class Notebook:\n",
    "    def __init__(self, title = None, page_num = 0, note = []):\n",
    "        self.title = title\n",
    "        self.page_num = page_num\n",
    "        self.note = note # 제목, 페이지번호, 메모 == Note(예)\n",
    "    \n",
    "    def title(self):\n",
    "        return self.title\n",
    "    \n",
    "    def add_note(self, memo):\n",
    "        if self.page_num < 300:\n",
    "            self.note.append(memo)\n",
    "            self.page_num += 1\n",
    "        else:\n",
    "            print('더 이상 메모를 추가하지 못합니다.')\n",
    "        \n",
    "    def remove_note(self, memo):\n",
    "        self.note.remove(memo)\n",
    "        self.page_num -= 1\n",
    "    \n",
    "    def get_page_num(self):\n",
    "        return self.page_num\n",
    "            \n",
    "    def show_note(self):\n",
    "        print('\\n << 메모장 내용 >> \\n')\n",
    "        for page, note in enumerate(self.note):\n",
    "            print(f'Page {page + 1}: {note}')\n",
    "            \n",
    "class Note:   \n",
    "    def __init__(self, notes = []):\n",
    "        self.notes = notes #글귀\n",
    "    \n",
    "    def write(self, writing):\n",
    "        self.notes.append(writing)\n",
    "    \n",
    "    def erase(self, writing):\n",
    "        self.notes.remove(writing)\n",
    "        \n",
    "    def show_notes(self):\n",
    "        print('\\n << 메모 내용 >> \\n')\n",
    "        for page, notes in enumerate(self.notes):\n",
    "            print(f'Page {page + 1}: {notes}')   \n",
    "        \n",
    "# 메모 쓰기\n",
    "memo1 = '꿈을 이루고자 하는 용기만 있다면 모든 꿈을 이룰 수 있다'\n",
    "memo2 = '웃음이 없는 하루는 버린 하루다'\n",
    "memo3 = '승리는 가장 끈기 있는 사람에게 돌아간다'\n",
    "\n",
    "# 메모 쓰기\n",
    "note = Note()\n",
    "note.write(memo1)\n",
    "note.write(memo2)\n",
    "note.write(memo3)\n",
    "print(note.show_notes())\n",
    "\n",
    "# 메모장에 메모 추가하기\n",
    "my_book = Notebook('메모장')\n",
    "my_book.add_note(note)\n",
    "print(my_book.show_note())\n",
    "\n",
    "# 페이지 번호 확인하기\n",
    "print(f'\\n 페이지 번호: {my_book.get_page_num()}')\n",
    "\n",
    "#왜 출력물에 None이 나오는지 해결을 하지 못했습니다..."
   ]
  }
 ],
 "metadata": {
  "kernelspec": {
   "display_name": "Python 3 (ipykernel)",
   "language": "python",
   "name": "python3"
  },
  "language_info": {
   "codemirror_mode": {
    "name": "ipython",
    "version": 3
   },
   "file_extension": ".py",
   "mimetype": "text/x-python",
   "name": "python",
   "nbconvert_exporter": "python",
   "pygments_lexer": "ipython3",
   "version": "3.9.7"
  }
 },
 "nbformat": 4,
 "nbformat_minor": 5
}
