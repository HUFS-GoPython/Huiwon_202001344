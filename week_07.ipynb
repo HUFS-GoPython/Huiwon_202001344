{
 "cells": [
  {
   "cell_type": "markdown",
   "id": "7e955176",
   "metadata": {},
   "source": [
    "## WEEK_07 | 2022.04.1 5(금)"
   ]
  },
  {
   "cell_type": "markdown",
   "id": "0ff3b1d4",
   "metadata": {},
   "source": [
    "## 함수"
   ]
  },
  {
   "cell_type": "markdown",
   "id": "51ab8caa",
   "metadata": {},
   "source": [
    "### 1. 정의\n",
    "- 코드의 덩어리, 묶음\n",
    "- 코드의 (편리한) 재사용이 주된, 목적\n",
    "- 정의하기(define) -> 호출하기(call)\n",
    "- 입력값과 출력값은 없어도, 많아도 가능하다\n",
    "    \n",
    "`< 구조 (띄어쓰기 주의) >`\n",
    "\n",
    "`- 정의하기`\n",
    "\n",
    "    def 함수명(매개변수 1, 2, 3, ...):\n",
    "        수행문1\n",
    "        수행문2\n",
    "        ...\n",
    "        return 출력값\n",
    "\n",
    "   `- 호출하기 (def와 들여쓰기 맞추기)`  \n",
    "   \n",
    "    함수이름(인수1, 2, 3, ...)\n",
    "        - 내부의 수행문 = \"인터페이스\"\n",
    "        - 인터페이스 잘 설정하면, 내부를 몰라도 함수를 쉽게 쓸 수 있다.\n",
    "\n",
    "            \n",
    "### 2. 함수 이름 짓기\n",
    "- 소문자 사용한다.\n",
    "- 카멜표기법 < 언더바 선호\n",
    "- `동사 + 명사 : print_output, save_model, split_text` (명사는 클래스 선언 시)\n",
    "- 줄임말 쓰지 말기 pr_output(x) 명료하게"
   ]
  },
  {
   "cell_type": "code",
   "execution_count": null,
   "id": "bf27aac1",
   "metadata": {},
   "outputs": [],
   "source": [
    "y = x + 1 # x=매개변수, y=출력값"
   ]
  },
  {
   "cell_type": "code",
   "execution_count": null,
   "id": "8f92d7cb",
   "metadata": {},
   "outputs": [],
   "source": [
    "# 내장함수\n",
    "# split()\n",
    "def split():\n",
    "    ####\n",
    "    return"
   ]
  },
  {
   "cell_type": "code",
   "execution_count": null,
   "id": "7607dee9",
   "metadata": {},
   "outputs": [],
   "source": [
    "# 1. 매개변수 X, 반환 X\n",
    "def make_a_sound():\n",
    "    print('quack')\n",
    "    # return None\n",
    "    \n",
    "make_a_sound()\n",
    "\n",
    "\n",
    "# 2. 매개변수 X, 반환 있음 O\n",
    "def agree():\n",
    "    return True\n",
    "    #True만 반환\n",
    "    \n",
    "agree()\n",
    "\n",
    "\n",
    "#3. 매개변수 O, 반환 X\n",
    "def echo(anything):\n",
    "    print('{0} {0}'.format(anything))\n",
    "\n",
    "echo('hello')\n",
    "\n",
    "\n",
    "#4. 매개변수 O, 반환 O\n",
    "def echo(anything):   \n",
    "    return'{0} {0}'.format(anything)\n",
    "    # string 으로 반환됨\n",
    "    # 변수로 받아서 사용 가능\n",
    "    \n",
    "echo = echo('hello')\n",
    "echo\n",
    "\n",
    "# 3과 4의 차이 = hello를 변수(echo)에 담을 수 없다 / 있다"
   ]
  },
  {
   "cell_type": "code",
   "execution_count": null,
   "id": "aa619b7a",
   "metadata": {},
   "outputs": [],
   "source": [
    "# 2번 설명\n",
    "if agree():\n",
    "    print('Splendid')\n",
    "else:\n",
    "    print('that was unexpected')"
   ]
  },
  {
   "cell_type": "markdown",
   "id": "a2ff07c6",
   "metadata": {},
   "source": [
    "### 3. 인수와 매개변수\n",
    "\n",
    "- 1) `매개변수: 정의 부분에 사용, 인너페이스 내에서만 유효`\n",
    "    - 코드내에서만 사용할 수 있고, 벗어나면 그 인수를 사용할 수 없다\n",
    "    - echo(anything)의 anything\n",
    "    \n",
    "    \n",
    "- 2) `인수: 호출 부분에 사용 (매개변수에 대입하는 변수)`\n",
    "    - echo('hello')\n",
    "    \n",
    "    \n",
    "- 3) `함수 호출 시 인수에 할당된 값이 매개변수에 복제됨`\n",
    "    - 매개변수와 인수가 같은 것을 참조하고 있다\n",
    "    - line = 'hello'\n",
    "    - anytinng = line (anyting에 line이 할당된다)\n",
    "        - 중요 (copy되는 부분, hello가 아니라 line이 들어감)\n",
    "    - anything은 사라짐"
   ]
  },
  {
   "cell_type": "code",
   "execution_count": null,
   "id": "927279a0",
   "metadata": {},
   "outputs": [],
   "source": [
    "# 3-  3) 함수 호출 시 인수에 할당된 값이 매개변수에 복제됨\n",
    "def comentary(color):\n",
    "    # pass\n",
    "    # 나중에 설정하고 싶을 때\n",
    "    if color == 'g':\n",
    "        return 'green'\n",
    "    else:\n",
    "        return 'black'\n",
    "\n",
    "color = 'white'\n",
    "comentary(color)"
   ]
  },
  {
   "cell_type": "code",
   "execution_count": null,
   "id": "0ea3b79f",
   "metadata": {},
   "outputs": [],
   "source": [
    "colors = ['g', 'r', 'b']\n",
    "for c in colors:\n",
    "    print(comentary(c))"
   ]
  },
  {
   "cell_type": "markdown",
   "id": "9f49c4b8",
   "metadata": {},
   "source": [
    "- 1. `위치 인수`:\n",
    "    - positional argument\n",
    "    - 값을 순서대로 상응하는 매개변수에 복사하는 것\n",
    "- 2. `키워드 인수`\n",
    "    - keyword argument\n",
    "    - `매개변수에 상응하는 이름`으로 인수에 지정한다.\n",
    "    - 위치가 달라도 됨\n",
    "- 3. `디폴트 인수`\n",
    "    - default argument\n",
    "    - 정의할 때 매개변수의 기본 값 설정\n",
    "    - 호출 시 `인수가 없으면 기본값`으로 적용됨\n",
    "    - `default 값은 non-default 값 뒤에 와야한다`\n",
    "        - 위치 중요 : 앞 매개변수에만 default 설정하면 오류\n",
    "        - def menu2(`wine = 'merlot'`, entree, dessert):"
   ]
  },
  {
   "cell_type": "code",
   "execution_count": null,
   "id": "0224b7e7",
   "metadata": {},
   "outputs": [],
   "source": [
    "def menu(wine, entree, dessert):\n",
    "    return {'wine':wine, 'entree':entree, 'dessert':dessert}"
   ]
  },
  {
   "cell_type": "code",
   "execution_count": null,
   "id": "8650bbf9",
   "metadata": {},
   "outputs": [],
   "source": [
    "# 1. 위치 인수\n",
    "menu('rioja', 'cake', 'egg')"
   ]
  },
  {
   "cell_type": "code",
   "execution_count": null,
   "id": "41cdc39e",
   "metadata": {},
   "outputs": [],
   "source": [
    "# 2. 키워드 인수\n",
    "menu(entree = 'egg', wine = 'rioja', dessert = 'pancake')"
   ]
  },
  {
   "cell_type": "code",
   "execution_count": null,
   "id": "1bd49f67",
   "metadata": {},
   "outputs": [],
   "source": [
    "# 위치인수, 키워드인수 혼용할 때 주의, 위치 고려함\n",
    "\n",
    "# 불가 : entree를 앞에 빼면, 뒷 순서가 엉킴\n",
    "# menu(entree = 'egg','rioja','pancake')\n",
    "\n",
    "# 가능\n",
    "menu('egg','rioja', dessert = 'pancake')"
   ]
  },
  {
   "cell_type": "code",
   "execution_count": null,
   "id": "9557ba61",
   "metadata": {},
   "outputs": [],
   "source": [
    "# 3. 디폴트 인수\n",
    "\n",
    "\"\"\"\n",
    "# 불가: 맨 앞의 매개변수 wine만 default로 설정되어 있어 오류\n",
    "def menu2(wine = 'merlot', entree, dessert):\n",
    "    return {'wine':wine, 'entree':entree, 'dessert':dessert}\n",
    "\n",
    "menu2('rioja', 'cake', 'egg')\n",
    "\n",
    "# 불가\n",
    "def menu2(wine, entree = 'no', dessert):\n",
    "    return {'wine':wine, 'entree':entree, 'dessert':dessert}\n",
    "\n",
    "menu2('rioja', 'cake', 'egg')\n",
    "\"\"\"\n",
    "\n",
    "# 가능\n",
    "def menu2(wine, entree, dessert = 'scone'):\n",
    "# dessert를 정의할 때 미리 지정\n",
    "    return {'wine':wine, 'entree':entree, 'dessert':dessert}\n",
    "\n",
    "menu2('rioja', 'cake', 'egg')"
   ]
  },
  {
   "cell_type": "code",
   "execution_count": null,
   "id": "dbc72cdf",
   "metadata": {},
   "outputs": [],
   "source": [
    "menu2('merlot', 'egg')\n",
    "# dessert는 default 인수 'scone'"
   ]
  },
  {
   "cell_type": "markdown",
   "id": "97d5dad4",
   "metadata": {},
   "source": [
    "### 함수 연습 1\n",
    "\n",
    "- 나이 입력받아 ->> 연도\n",
    "- input 입력 받아서 함수 사용해서 출력하기\n",
    "\n",
    "    def fx()\n",
    "        입력값 = 나이\n",
    "        반환값 = 출생년도"
   ]
  },
  {
   "cell_type": "code",
   "execution_count": null,
   "id": "042509c7",
   "metadata": {},
   "outputs": [],
   "source": [
    "def calc_birthyear(age):\n",
    "    return 2022 - age + 1\n",
    "\n",
    "calc_birthyear(23)"
   ]
  },
  {
   "cell_type": "code",
   "execution_count": null,
   "id": "e7f93b36",
   "metadata": {},
   "outputs": [],
   "source": [
    "# 좋은 예\n",
    "def calc_birth_year(years_old):\n",
    "    this_year = 2022\n",
    "    return this_year - years_old + 1\n",
    "\n",
    "age = int(input())\n",
    "calc_birth_year(age)"
   ]
  },
  {
   "cell_type": "markdown",
   "id": "113166ff",
   "metadata": {},
   "source": [
    "### 함수 연습 2\n",
    "\n",
    "- 사각형 너비 구하기\n",
    "    - 입력: 두 변 길이\n",
    "    - 반환: string = \"xx cm\""
   ]
  },
  {
   "cell_type": "code",
   "execution_count": null,
   "id": "0d301f5f",
   "metadata": {},
   "outputs": [],
   "source": [
    "def calc_squrewidth(side1, side2):\n",
    "    area = side1 * side2\n",
    "    return f'{area} cm^2'\n",
    "\n",
    "side1 = float(input(\"첫 번째 변의 길이: \"))\n",
    "side2 = float(input(\"두 번째 변의 길이: \"))\n",
    "print(calc_squrewidth(side1, side2))"
   ]
  },
  {
   "cell_type": "markdown",
   "id": "dbda0e32",
   "metadata": {},
   "source": [
    "### 호출방식: \n",
    "\n",
    " - 정의된 부분 = 메모리에 업로드 되지만 실행은 안된다.\n",
    " - 실행 = 함수호출 시\n",
    " \n",
    " \n",
    " - 값을 넘기는 방식 = 참조에 의한 호출(call by reference)\n",
    "     - 값을 넘기지 않고, 값을 참조하고 있는 변수를 넘김\n",
    "     - 메모리 주소를 넘김\n",
    "     \n",
    "     \n",
    " - 메모리 주소가 복사되기 때문에 -> 가변객체가 매개변수로 들어갈 때 주의할 것\n",
    "    - 리스트가 들어가면, 이게 계속 쌓임"
   ]
  },
  {
   "cell_type": "code",
   "execution_count": null,
   "id": "265f5590",
   "metadata": {},
   "outputs": [],
   "source": [
    "def calc_area(side1, side2): # define\n",
    "    print('1')\n",
    "    return side1 * side2\n",
    "\n",
    "print('2')\n",
    "garo = 2\n",
    "sero = 43\n",
    "print('3')\n",
    "calc_area(garo, sero) # call\n",
    "print('4')"
   ]
  },
  {
   "cell_type": "code",
   "execution_count": null,
   "id": "592543fa",
   "metadata": {},
   "outputs": [],
   "source": [
    "# 메모리 주소\n",
    "# 가변객체가 매개변수로 들어갈 때\n",
    "\n",
    "def buggy(arg, result = []):\n",
    "    result.append(arg)\n",
    "    print(result)\n",
    "\n",
    "buggy('a') # [a]\n",
    "buggy('b') # [b]를 기대하지만 쌓임, 얕은복사(계속해서 메모리가 참조되기 때문)"
   ]
  },
  {
   "cell_type": "code",
   "execution_count": null,
   "id": "02d9aeb0",
   "metadata": {
    "scrolled": true
   },
   "outputs": [],
   "source": [
    "def buggy(arg, result = []):\n",
    "    result = [] # 비운 뒤\n",
    "    result.append(arg)\n",
    "    print(result)\n",
    "\n",
    "buggy('a') # [a]\n",
    "buggy('b') # [b]"
   ]
  },
  {
   "cell_type": "code",
   "execution_count": null,
   "id": "85c4c65f",
   "metadata": {},
   "outputs": [],
   "source": [
    "# eggs 는 리스트\n",
    "\n",
    "def spam(eggs):\n",
    "    eggs.append(1)\n",
    "    print(eggs, 'eggs')\n",
    "    \n",
    "ham = [0]\n",
    "spam(ham)\n",
    "print(ham, 'ham')"
   ]
  },
  {
   "cell_type": "code",
   "execution_count": null,
   "id": "ce23faa1",
   "metadata": {},
   "outputs": [],
   "source": [
    "def spam(eggs):\n",
    "    eggs.append(1)\n",
    "    eggs = [2, 3]\n",
    "    print(eggs, 'eggs')\n",
    "    \n",
    "ham = [0]\n",
    "spam(ham)\n",
    "print(ham, 'ham')"
   ]
  },
  {
   "cell_type": "code",
   "execution_count": null,
   "id": "8b9a125e",
   "metadata": {},
   "outputs": [],
   "source": [
    "# none = 그냥 비어있는 객체\n",
    "\n",
    "thing = None\n",
    "\n",
    "if thing:\n",
    "    print('a') # True\n",
    "else:\n",
    "    print('b') # False"
   ]
  },
  {
   "cell_type": "code",
   "execution_count": null,
   "id": "a11ee4ec",
   "metadata": {},
   "outputs": [],
   "source": [
    "# is none\n",
    "\n",
    "thing = None\n",
    "\n",
    "if thing is None:\n",
    "    print('a') # None\n",
    "elif thing:\n",
    "    print('b') # Fase\n",
    "else:\n",
    "    print('c') # True"
   ]
  },
  {
   "cell_type": "markdown",
   "id": "26980b26",
   "metadata": {},
   "source": [
    "### def nonbuggy(arg, result):\n",
    "- 목표: 리스트 쌓이거나 비우는 옵션 모두 설정하도록 None 사용해서 함수 재정의\n",
    "- result is None이면 빈 리스트\n",
    "- 아니면 코드 그대로"
   ]
  },
  {
   "cell_type": "code",
   "execution_count": null,
   "id": "588f789b",
   "metadata": {},
   "outputs": [],
   "source": [
    "def nonbuggy(arg, result = None):\n",
    "    if result is None:\n",
    "        result = []\n",
    "    result.append(arg) # result가 none이 아니면 append\n",
    "    print(result)\n",
    "\n",
    "nonbuggy('a')\n",
    "nonbuggy('b')\n",
    "\n",
    "# 아무것도 안 넣었기 때문에, 비움"
   ]
  },
  {
   "cell_type": "code",
   "execution_count": null,
   "id": "c674024e",
   "metadata": {},
   "outputs": [],
   "source": [
    "def nonbuggy(arg, result = None):\n",
    "    if result is None:\n",
    "        result = []\n",
    "    result.append(arg) \n",
    "    print(result)\n",
    "\n",
    "list_a = []\n",
    "nonbuggy('a', list_a)\n",
    "nonbuggy('b', list_a)"
   ]
  },
  {
   "cell_type": "markdown",
   "id": "b1743294",
   "metadata": {},
   "source": [
    "### 전역변수 vs 지역변수\n",
    "- 지역변수 : 함수 내에서만 사용가능\n",
    "    -  매개변수\n",
    "- 전역변수 : 프로그램 전체에서 사용 가능\n",
    "    - global ###"
   ]
  },
  {
   "cell_type": "code",
   "execution_count": null,
   "id": "9c79e71c",
   "metadata": {},
   "outputs": [],
   "source": [
    "# 지역변수\n",
    "def fx():\n",
    "    city = 'london'\n",
    "    print(city)\n",
    "\n",
    "city = 'paris'\n",
    "fx() \n",
    "print(city) #city가 london으로 바뀌지 않음"
   ]
  },
  {
   "cell_type": "code",
   "execution_count": null,
   "id": "d386935b",
   "metadata": {},
   "outputs": [],
   "source": [
    "# 전역변수\n",
    "def fx():\n",
    "    global city # city는 어디에서는 london이 됨\n",
    "    city = 'london'\n",
    "    print(city)\n",
    "\n",
    "city = 'paris'\n",
    "fx() # city가 london 바뀌지 않음\n",
    "print(city)"
   ]
  },
  {
   "cell_type": "code",
   "execution_count": null,
   "id": "40f3aa48",
   "metadata": {},
   "outputs": [],
   "source": [
    "city = 'paris' # 다시 바꿈\n",
    "print(city)"
   ]
  },
  {
   "cell_type": "code",
   "execution_count": null,
   "id": "0849e7cd",
   "metadata": {},
   "outputs": [],
   "source": [
    "# 독스트링\n",
    "\n",
    "def fx():\n",
    "    \"\"\"\n",
    "    doc string = 함수에 대한 설명\n",
    "    주로 매개변수에 대한 설명, 타입, 함수의 의도\n",
    "    코드 제출만 쓰고, 손코딩에는 안 써도 됨\n",
    "    \"\"\"\n",
    "    global city # city는 어디에서는 london이 됨\n",
    "    city = 'london'\n",
    "    print(city)\n",
    "\n",
    "city = 'paris'\n",
    "fx() # city가 london 바뀌지 않음\n",
    "print(city)"
   ]
  },
  {
   "cell_type": "code",
   "execution_count": null,
   "id": "37dd8128",
   "metadata": {},
   "outputs": [],
   "source": [
    "# 독스트링 (괄호 빼고 함수명만 넣음)\n",
    "\n",
    "#1.\n",
    "print(help(fx))\n",
    "\n",
    "#2.\n",
    "print(fx.__doc__)"
   ]
  },
  {
   "cell_type": "markdown",
   "id": "f0addfba",
   "metadata": {},
   "source": [
    "### 브라운 코퍼스 정제"
   ]
  },
  {
   "cell_type": "code",
   "execution_count": null,
   "id": "5f08d5e0",
   "metadata": {},
   "outputs": [],
   "source": [
    "import nltk\n",
    "nltk.download(['inaugural', 'brown'])\n",
    "\n",
    "# 1. 데이터셋 가져오기\n",
    "brown = nltk.corpus.brown.raw(categories = 'romance')\n",
    "romance = brown[:5000]"
   ]
  },
  {
   "cell_type": "code",
   "execution_count": null,
   "id": "a5eced84",
   "metadata": {},
   "outputs": [],
   "source": [
    "romance  # [[]. [], [], ...]"
   ]
  },
  {
   "cell_type": "markdown",
   "id": "d5e63463",
   "metadata": {},
   "source": [
    "### 1. 문장분절 기준\n",
    "-  .\n",
    "- ./. (권장)\n",
    "-  \\n\n",
    "- \\n\\n\\n\\t 문단기준으로 나뉨"
   ]
  },
  {
   "cell_type": "code",
   "execution_count": null,
   "id": "a0a41d23",
   "metadata": {},
   "outputs": [],
   "source": [
    "sentence = [sentence.strip() for sentence in romance.split('./.')]\n",
    "\n",
    "# ?, ! 끝나는 문장은 이 문제에서 제외함\n",
    "# [word for word in sentence if '?' in sentence]\n",
    "sentence[0]"
   ]
  },
  {
   "cell_type": "markdown",
   "id": "284c4bb3",
   "metadata": {},
   "source": [
    "### 2. 단어분절"
   ]
  },
  {
   "cell_type": "code",
   "execution_count": null,
   "id": "a6357ec5",
   "metadata": {},
   "outputs": [],
   "source": [
    "# 단어분절 + pos tag 제거\n",
    "example = sentence[0]\n",
    "[word for word in example.split()]\n",
    "# split을 공백으로 기준으로 하면 pos tag이 남음\n",
    "# / 로 가져가도 좋지 않음\n",
    "\n",
    "# 방법 1.\n",
    "[word.split('/')[0] for word in example.split()]\n",
    "\n",
    "# 방법 2.\n",
    "[word[:word.find('/')] for word in example.split(' ') if word.find('/')]\n",
    "# if 조건은 [:word.find('/')]가 -1 일 때를 막기 위해서"
   ]
  },
  {
   "cell_type": "code",
   "execution_count": null,
   "id": "64b71276",
   "metadata": {},
   "outputs": [],
   "source": [
    "# 전체문장에 반영 : 단어분절 + pos tag 제거\n",
    "sentence_tokens = [[word.split('/')[0] for word in s.split()] for s in sentence]\n",
    "sentence_tokens[0]"
   ]
  },
  {
   "cell_type": "markdown",
   "id": "9866c0e7",
   "metadata": {},
   "source": [
    "###  3. 문장부호 제거"
   ]
  },
  {
   "cell_type": "code",
   "execution_count": null,
   "id": "9f09a35b",
   "metadata": {
    "scrolled": true
   },
   "outputs": [],
   "source": [
    "#1. sentence_tokens 에서 string.punctuation 없애기\n",
    "import string\n",
    "punctuation = list(string.punctuation)\n",
    "\n",
    "# 단어분절 + pos tsg 제거 + 문장부호 제거 (위에 2단계 건너뛰어 OK)\n",
    "sentence_tokens = [[word.split('/')[0] for word in s.split() \\\n",
    "                   if word.split('/')[0] not in punctuation] \\\n",
    "                   for s in sentence]"
   ]
  },
  {
   "cell_type": "code",
   "execution_count": null,
   "id": "063a475f",
   "metadata": {},
   "outputs": [],
   "source": [
    "#2. -- 와 같은 punctuation에 없는 punctuation 찾아서 리스트에 추가\n",
    "    # 문장부호 먼저 찾고 -> punctuation 리스트 없데이트\n",
    "    # 위의 라인에 적용하기 user_punct로 선언\n",
    "    \n",
    "text_punct = set([word for sent in sentence_tokens\n",
    "                  for word in sent\n",
    "                  if not word[0].isalnum()])\n",
    "\n",
    "# punctuation 에 추가\n",
    "punctuation.extend(list(text_punct))\n",
    "user_punct = list(set(punctuation))\n",
    "user_punct"
   ]
  },
  {
   "cell_type": "code",
   "execution_count": null,
   "id": "419a7a41",
   "metadata": {},
   "outputs": [],
   "source": [
    "# sentence 후 이 단계로 넘어오기\n",
    "# 단어분절 + pos tsg 제거 + 문장부호 제거 (punctuation에 없는 것도 포함)\n",
    "sentence_tokens = [[word.split('/')[0] for word in s.split() \\\n",
    "                   if word.split('/')[0] not in user_punct] \\\n",
    "                   for s in sentence]"
   ]
  },
  {
   "cell_type": "markdown",
   "id": "e75994d1",
   "metadata": {},
   "source": [
    "### 4. 어퍼스트로피 s\n",
    "### 5. 하이픈 분리"
   ]
  },
  {
   "cell_type": "code",
   "execution_count": null,
   "id": "234716bd",
   "metadata": {},
   "outputs": [],
   "source": [
    "# hyphen\n",
    "'fur-piece'.split('-') # -> list extend"
   ]
  },
  {
   "cell_type": "code",
   "execution_count": null,
   "id": "d7d09ce3",
   "metadata": {
    "scrolled": true
   },
   "outputs": [],
   "source": [
    "# apostrophe -> she's, don't / she , is 나 she, 's\n",
    "word = 'she\\'s'\n",
    "index = word.find('\\'')\n",
    "word[:index], word[index:]"
   ]
  },
  {
   "cell_type": "code",
   "execution_count": null,
   "id": "ae7b31ba",
   "metadata": {},
   "outputs": [],
   "source": [
    "#  방법 1\n",
    "[[word for word in sent] for sent in sentence_tokens]\n",
    "\n",
    "# 방법 2\n",
    "for loop:\n",
    "    if index:\n",
    "        # hypen\n",
    "        # 's   \n",
    "        # fur - pieces's"
   ]
  },
  {
   "cell_type": "code",
   "execution_count": null,
   "id": "8016686f",
   "metadata": {},
   "outputs": [],
   "source": [
    "output = []\n",
    "\n",
    "for sentence in sentence_tokens:\n",
    "    temp = []\n",
    "    \n",
    "    for word in sentence:\n",
    "        # 문장부호 아닌지 다시 확인\n",
    "        if word not in user_punct and word: # not empty\n",
    "            if '\\'' in word:\n",
    "                # She's -> [She, 's] \n",
    "                index = word.find('\\'')\n",
    "                words = word[:index], word[index:]\n",
    "            else: \n",
    "                words = [word]\n",
    "        \n",
    "            # Change hypens: fur-piece -> [fur, piece]\n",
    "            for word in words:\n",
    "                if '-' in word:\n",
    "                    index = word.find('-')\n",
    "                    words = word[:index], word[index+1:]\n",
    "                else:\n",
    "                    words = [word]\n",
    "            temp.extend(words)       \n",
    "    output.append(temp)\n",
    "\n",
    "output"
   ]
  },
  {
   "cell_type": "code",
   "execution_count": null,
   "id": "d6889a49",
   "metadata": {},
   "outputs": [],
   "source": [
    "stopwords = nltk.corpus.stopwords.words('english')\n",
    "# 불용어 : 빈도수만 많고, 의미없는\n",
    "[word not in stopwords]"
   ]
  },
  {
   "cell_type": "code",
   "execution_count": null,
   "id": "fc27d6cd",
   "metadata": {},
   "outputs": [],
   "source": []
  }
 ],
 "metadata": {
  "kernelspec": {
   "display_name": "Python 3 (ipykernel)",
   "language": "python",
   "name": "python3"
  },
  "language_info": {
   "codemirror_mode": {
    "name": "ipython",
    "version": 3
   },
   "file_extension": ".py",
   "mimetype": "text/x-python",
   "name": "python",
   "nbconvert_exporter": "python",
   "pygments_lexer": "ipython3",
   "version": "3.9.7"
  }
 },
 "nbformat": 4,
 "nbformat_minor": 5
}
