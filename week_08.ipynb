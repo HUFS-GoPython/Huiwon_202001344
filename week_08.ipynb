{
 "cells": [
  {
   "cell_type": "markdown",
   "id": "f8e24a15",
   "metadata": {},
   "source": [
    "## Week 08 | 2022.04.29(Fri)"
   ]
  },
  {
   "cell_type": "markdown",
   "id": "02ab4b8c",
   "metadata": {},
   "source": [
    "### DIctionary\n",
    "- 영어 사전이라고 생각하면, 단어: 뜻\n",
    "- `키: 값을 찾음`\n",
    "    - 키 값은 고유하다\n",
    "- `순서가 없음` => 오프셋 없음\n",
    "- 가변 객체(수정, 추가, 삭제 가능)\n",
    "- 타입: dict, dict()\n",
    "- 생성: {key1: value, k2 :v2, ...} 중괄호 사용\n",
    "- value에는 리스트, 튜플, 딕셔너리도 들어갈 수 있음.\n"
   ]
  },
  {
   "cell_type": "code",
   "execution_count": 1,
   "id": "fc8cdbf9",
   "metadata": {},
   "outputs": [
    {
     "data": {
      "text/plain": [
       "{}"
      ]
     },
     "execution_count": 1,
     "metadata": {},
     "output_type": "execute_result"
    }
   ],
   "source": [
    "empty = dict()\n",
    "empty = {}\n",
    "empty"
   ]
  },
  {
   "cell_type": "code",
   "execution_count": 5,
   "id": "b2194a09",
   "metadata": {},
   "outputs": [
    {
     "data": {
      "text/plain": [
       "set()"
      ]
     },
     "execution_count": 5,
     "metadata": {},
     "output_type": "execute_result"
    }
   ],
   "source": [
    "a = [1, 2, 3]\n",
    "set(a) # 출력 : {1, 2, 3}\n",
    "a = {} # dictionary\n",
    "a = set()\n",
    "a"
   ]
  },
  {
   "cell_type": "code",
   "execution_count": 1,
   "id": "0d688515",
   "metadata": {},
   "outputs": [
    {
     "name": "stdout",
     "output_type": "stream",
     "text": [
      "{'first': 'wile', 'middle': 'E', 'last': 'coyote'}\n",
      "{'first': 'wile', 'middle': 'F', 'last': 'coyote'}\n"
     ]
    }
   ],
   "source": [
    "# 방법 1\n",
    "customer = {'first' : 'wile', \"middle\" : 'E', 'last' : 'coyote'}\n",
    "print(customer)\n",
    "\n",
    "# 방법 2\n",
    "customer2 = dict(first = 'wile', middle = 'F', last = 'coyote')\n",
    "print(customer2)"
   ]
  },
  {
   "cell_type": "markdown",
   "id": "11d8b2e9",
   "metadata": {},
   "source": [
    "### Ex. 출석부 딕셔너리 만들기\n",
    "- 이름, 학번, 학과\n",
    "    - 제임스 202201 경영학과\n",
    "    - 줄리엣 202202 아랍어과\n",
    "    - 로버트 202203 ELTT과"
   ]
  },
  {
   "cell_type": "code",
   "execution_count": 41,
   "id": "1360f079",
   "metadata": {},
   "outputs": [
    {
     "name": "stdout",
     "output_type": "stream",
     "text": [
      "{'202201': ('제임스', '경영학과'), '202202': ('줄리엣', '아랍어과'), '202203': ('로버트', 'ELLT과')}\n",
      "('줄리엣', '아랍어과')\n"
     ]
    }
   ],
   "source": [
    "# key = 중복되지 않는 학번이 적절\n",
    "student_dict = {'202201' : ('제임스', '경영학과'), '202202' : ('줄리엣', '아랍어과'), '202203' : ('로버트', 'ELLT과')}\n",
    "print(student_dict)\n",
    "print(student_dict['202202'])"
   ]
  },
  {
   "cell_type": "markdown",
   "id": "192e4c22",
   "metadata": {},
   "source": [
    "### 형변환\n",
    "- 짝을 이뤄야 딕셔너리 형태로 변환 가능"
   ]
  },
  {
   "cell_type": "code",
   "execution_count": 42,
   "id": "6e2b36ac",
   "metadata": {},
   "outputs": [
    {
     "name": "stdout",
     "output_type": "stream",
     "text": [
      "{1: 2, 3: 4, 5: 6}\n",
      "{1: 2, 3: 4, 5: 6}\n",
      "{'a': 'b', 'b': 'c', 'c': 'd'}\n"
     ]
    }
   ],
   "source": [
    "#dict()\n",
    "\n",
    "# 2차원 리스트\n",
    "ex1 = [[1, 2], [3, 4], [5, 6]]\n",
    "print(dict(ex1))\n",
    "\n",
    "# 튜플\n",
    "ex2 = [(1, 2), (3, 4), (5, 6)]\n",
    "print(dict(ex2))\n",
    "\n",
    "# 문자열 - 2글자 가능\n",
    "ex3 = ['ab', 'bc', 'cd'] # 불가 ['andd', 'bcdd', 'cddd']\n",
    "print(dict(ex3))"
   ]
  },
  {
   "cell_type": "markdown",
   "id": "458456c6",
   "metadata": {},
   "source": [
    "### 항목 조회 & 변경\n",
    "- 키로 항목을 찾아 값을 할당한다.\n",
    "- 이미 존재하는 키이면 값을 변경한다.\n",
    "- 키가 없으면 새로 생성한다."
   ]
  },
  {
   "cell_type": "code",
   "execution_count": 93,
   "id": "a4c02dcc",
   "metadata": {},
   "outputs": [
    {
     "data": {
      "text/plain": [
       "{'Champman': 'Graham',\n",
       " 'Cleese': 'John',\n",
       " 'Idle': 'Eric',\n",
       " 'Jones': 'Terry',\n",
       " 'Palin': 'Josh',\n",
       " 'Kim': 'Laura'}"
      ]
     },
     "execution_count": 93,
     "metadata": {},
     "output_type": "execute_result"
    }
   ],
   "source": [
    "pythons = {\n",
    "    'Champman' : 'Graham',\n",
    "    'Cleese' : 'John',\n",
    "    'Idle' : 'Eric',\n",
    "    'Jones' : 'Terry',\n",
    "    'Palin' : 'Michael'\n",
    "}\n",
    "\n",
    "# 1. 항목 조회 : 인덱스가 아닌, 키로 value를 찾는다\n",
    "pythons['Idle']\n",
    "\n",
    "# 2. 항목 변경\n",
    "pythons['Palin'] = 'Josh'\n",
    "\n",
    "# 3. 항목 생성\n",
    "pythons['Kim'] = 'Laura'\n",
    "pythons"
   ]
  },
  {
   "cell_type": "code",
   "execution_count": 46,
   "id": "df870555",
   "metadata": {},
   "outputs": [
    {
     "data": {
      "text/plain": [
       "False"
      ]
     },
     "execution_count": 46,
     "metadata": {},
     "output_type": "execute_result"
    }
   ],
   "source": [
    "# 멤버쉼 연산자 : value값이 있는지 확인후에 항목 조회\n",
    "'Lee' in pythons"
   ]
  },
  {
   "cell_type": "code",
   "execution_count": 81,
   "id": "a2a22aa2",
   "metadata": {},
   "outputs": [
    {
     "data": {
      "text/plain": [
       "'Laura'"
      ]
     },
     "execution_count": 81,
     "metadata": {},
     "output_type": "execute_result"
    }
   ],
   "source": [
    "pythons.get('Lee') # None 반환\n",
    "pythons.get('Kim') # value 반환"
   ]
  },
  {
   "cell_type": "code",
   "execution_count": 44,
   "id": "bc25f3c8",
   "metadata": {},
   "outputs": [
    {
     "data": {
      "text/plain": [
       "0"
      ]
     },
     "execution_count": 44,
     "metadata": {},
     "output_type": "execute_result"
    }
   ],
   "source": [
    "pythons.get('Choi', 0) # 없을때 원하는 값 지정 -> 0 반환"
   ]
  },
  {
   "cell_type": "markdown",
   "id": "a496a0dd",
   "metadata": {},
   "source": [
    "### keys(), values(), items()\n",
    "- keys\n",
    "- values\n",
    "- items 둘다 반환"
   ]
  },
  {
   "cell_type": "code",
   "execution_count": 61,
   "id": "a5579c2c",
   "metadata": {},
   "outputs": [
    {
     "name": "stdout",
     "output_type": "stream",
     "text": [
      "dict_keys(['Champman', 'Cleese', 'Idle', 'Jones', 'Palin', 'Kim'])\n",
      "dict_values(['Graham', 'John', 'Eric', 'Terry', 'Josh', 'Laura'])\n",
      "dict_items([('Champman', 'Graham'), ('Cleese', 'John'), ('Idle', 'Eric'), ('Jones', 'Terry'), ('Palin', 'Josh'), ('Kim', 'Laura')])\n"
     ]
    },
    {
     "data": {
      "text/plain": [
       "['Champman', 'Cleese', 'Idle', 'Jones', 'Palin', 'Kim']"
      ]
     },
     "execution_count": 61,
     "metadata": {},
     "output_type": "execute_result"
    }
   ],
   "source": [
    "# keys()\n",
    "print(pythons.keys())\n",
    "\n",
    "# values()\n",
    "print(pythons.values())\n",
    "\n",
    "# items()\n",
    "print(pythons.items())\n",
    "\n",
    "# 리스트 안에 튜플 형식으로 담기지만 딕셔너리이다.\n",
    "# 리스트로 형변환 -> 인덱싱 가능\n",
    "list(pythons.keys())"
   ]
  },
  {
   "cell_type": "code",
   "execution_count": 65,
   "id": "92d521d5",
   "metadata": {},
   "outputs": [
    {
     "name": "stdout",
     "output_type": "stream",
     "text": [
      "[('Champman', 'Graham'), ('Cleese', 'John'), ('Idle', 'Eric'), ('Jones', 'Terry'), ('Palin', 'Josh'), ('Kim', 'Laura')]\n",
      "['Champman', 'Cleese', 'Idle', 'Jones', 'Palin', 'Kim']\n",
      "['Graham', 'John', 'Eric', 'Terry', 'Josh', 'Laura']\n"
     ]
    }
   ],
   "source": [
    "# list comprehension으로 indexing 가능\n",
    "print([x for x in pythons.items()])\n",
    "\n",
    "# key\n",
    "print([x[0] for x in pythons.items()])\n",
    "\n",
    "# value\n",
    "print([x[1] for x in pythons.items()])"
   ]
  },
  {
   "cell_type": "markdown",
   "id": "4b748e0b",
   "metadata": {},
   "source": [
    "### Ex2. \n",
    "for loop 이용해 animal : leg로 이뤄진 딕셔너리 만들기"
   ]
  },
  {
   "cell_type": "code",
   "execution_count": 66,
   "id": "b04b0efb",
   "metadata": {},
   "outputs": [],
   "source": [
    "animal = 'cat snake monkey ant spider'.split()\n",
    "legs = 4, 0, 2, 4, 8"
   ]
  },
  {
   "cell_type": "code",
   "execution_count": 68,
   "id": "b5817a40",
   "metadata": {},
   "outputs": [
    {
     "name": "stdout",
     "output_type": "stream",
     "text": [
      "{'cat': 4, 'snake': 0, 'monkey': 2, 'ant': 4, 'spider': 8}\n",
      "{'cat': 4, 'snake': 0, 'monkey': 2, 'ant': 4, 'spider': 8}\n"
     ]
    }
   ],
   "source": [
    "# sol 1.\n",
    "animals = {}\n",
    "for i in range(len(animal)):\n",
    "    animals[animal[i]] = legs[i]\n",
    "print(animals)\n",
    "\n",
    "# sol 2. \n",
    "animal_dict = {}\n",
    "for k, v in zip(animal, legs):\n",
    "    animal_dict[k] = v\n",
    "print(animal_dict)"
   ]
  },
  {
   "cell_type": "markdown",
   "id": "050fc641",
   "metadata": {},
   "source": [
    "### Ex.3\n",
    "pythons에서 성:이름 => 리스트 컴프리헨션 이용해서 [(성 첫글자 : 이름의 글자수)]"
   ]
  },
  {
   "cell_type": "code",
   "execution_count": 133,
   "id": "5ff15a23",
   "metadata": {},
   "outputs": [
    {
     "data": {
      "text/plain": [
       "[('C', 6), ('C', 4), ('I', 4), ('J', 5), ('P', 4), ('K', 5)]"
      ]
     },
     "execution_count": 133,
     "metadata": {},
     "output_type": "execute_result"
    }
   ],
   "source": [
    "[(k[0], len(v)) for k, v in pythons.items()]"
   ]
  },
  {
   "cell_type": "markdown",
   "id": "8830536c",
   "metadata": {},
   "source": [
    "### 값 수정, 삭제, 복제, 비교"
   ]
  },
  {
   "cell_type": "code",
   "execution_count": 94,
   "id": "c84d1429",
   "metadata": {},
   "outputs": [
    {
     "data": {
      "text/plain": [
       "{'Marx': 'Groucho',\n",
       " 'Howard': 'Moe',\n",
       " 'Champman': 'Graham',\n",
       " 'Cleese': 'John',\n",
       " 'Idle': 'Eric',\n",
       " 'Jones': 'Terry',\n",
       " 'Palin': 'Josh',\n",
       " 'Kim': 'Laura'}"
      ]
     },
     "execution_count": 94,
     "metadata": {},
     "output_type": "execute_result"
    }
   ],
   "source": [
    "# 1. 딕셔너리 추가\n",
    "others = {\n",
    "    'Marx' : 'Groucho',\n",
    "    'Howard' : 'Moe'\n",
    "}\n",
    "\n",
    "# 방법 1. update() : 뒤에 추가\n",
    "pythons.update(others)\n",
    "pythons\n",
    "\n",
    "# 방법 2. 앞에 추가\n",
    "{**others, **pythons}"
   ]
  },
  {
   "cell_type": "code",
   "execution_count": 95,
   "id": "98cdd49f",
   "metadata": {},
   "outputs": [],
   "source": [
    "# 2. 값 삭제\n",
    "\n",
    "# del\n",
    "del pythons['Kim']\n",
    "\n",
    "# pop\n",
    "pythons.pop('Marx') # Marx의 값을 반환한 후 삭제됨\n",
    "\n",
    "#전부 삭제 (clear 또는 {})\n",
    "pythons.clear()\n",
    "pythons = {}"
   ]
  },
  {
   "cell_type": "code",
   "execution_count": 96,
   "id": "d9ba91d5",
   "metadata": {},
   "outputs": [
    {
     "data": {
      "text/plain": [
       "0"
      ]
     },
     "execution_count": 96,
     "metadata": {},
     "output_type": "execute_result"
    }
   ],
   "source": [
    "# 없는 값을 삭제할 때의 오류 방지\n",
    "pythons.pop('Marx', 0) #get과 비슷한 성질\n",
    "pythons.pop('Kim', 0)"
   ]
  },
  {
   "cell_type": "code",
   "execution_count": 97,
   "id": "426fb6e7",
   "metadata": {},
   "outputs": [],
   "source": [
    "# 3. 복제 copy\n",
    "\n",
    "    #1. 할당\n",
    "    #2. 얕은 복사\n",
    "    #3. 깊은 복사"
   ]
  },
  {
   "cell_type": "code",
   "execution_count": 5,
   "id": "ca116140",
   "metadata": {},
   "outputs": [
    {
     "name": "stdout",
     "output_type": "stream",
     "text": [
      "{1: 10, 2: 3, 3: 4} {1: 10, 2: 3, 3: 4}\n",
      "{1: 100, 2: 3, 3: 4} {1: 10, 2: 3, 3: 4}\n"
     ]
    }
   ],
   "source": [
    "# 3-1. 할당\n",
    "a = {1:2, 2:3, 3:4}\n",
    "b = a\n",
    "a[1] = 10\n",
    "print(a, b) # 같은 주소 참조, 둘 다 바뀐다\n",
    "\n",
    "# 3-2. 얕은 복사\n",
    "b = a.copy()\n",
    "a[1] = 100\n",
    "print(a, b) # 다른 값 출력"
   ]
  },
  {
   "cell_type": "code",
   "execution_count": 6,
   "id": "d810fd5c",
   "metadata": {},
   "outputs": [
    {
     "name": "stdout",
     "output_type": "stream",
     "text": [
      "{1: [100, 2, 2], 2: [1, 1, 1]} {1: [100, 2, 2], 2: [1, 1, 1]}\n",
      "{1: [9, 2, 2], 2: [1, 1, 1]} {1: [100, 2, 2], 2: [1, 1, 1]}\n"
     ]
    }
   ],
   "source": [
    "# 그러나, 가변객체 안에 있는 가변객체는 copy에서 제외됨\n",
    "a = {1:[2, 2, 2,], 2: [1, 1, 1]}\n",
    "b = a.copy()\n",
    "a[1][0] = 100\n",
    "print(a, b) # 값이 동일함\n",
    "\n",
    "# 3-3. 깊은 복사 (해결안)\n",
    "import copy\n",
    "b = copy.deepcopy(a)\n",
    "a[1][0] = 9\n",
    "print(a, b)"
   ]
  },
  {
   "cell_type": "code",
   "execution_count": 7,
   "id": "681aa34a",
   "metadata": {},
   "outputs": [
    {
     "data": {
      "text/plain": [
       "False"
      ]
     },
     "execution_count": 7,
     "metadata": {},
     "output_type": "execute_result"
    }
   ],
   "source": [
    "# 4. 값 비교\n",
    "# 크다, 작다는 안되고 같다, 다르다는 가능\n",
    "a == b"
   ]
  },
  {
   "cell_type": "markdown",
   "id": "62d13119",
   "metadata": {},
   "source": [
    "### Ex 4.\n",
    "- 두개 리스트를 딕셔너리로 만든다 {한국어 : 영어}\n",
    "- 명왕성 : 명왕성 pluto 추가하기\n",
    "- '성'으로 끝나지 않는 단어 삭제하기\n",
    "    del sdict['태양'] => 하드코딩 안됨\n",
    "- sorted i) kor ii) eng"
   ]
  },
  {
   "cell_type": "code",
   "execution_count": 12,
   "id": "473ff531",
   "metadata": {},
   "outputs": [],
   "source": [
    "solar_kor = '태양 수성 금성 지구 화성 목성 토성 천왕성 해왕성'.split()\n",
    "solar_eng = 'sun mercury venus earth mars jupitar saturn uranus neptune'.split()"
   ]
  },
  {
   "cell_type": "code",
   "execution_count": 43,
   "id": "0f60b99a",
   "metadata": {},
   "outputs": [
    {
     "data": {
      "text/plain": [
       "[('금성', 'venus'),\n",
       " ('목성', 'jupitar'),\n",
       " ('수성', 'mercury'),\n",
       " ('지구', 'earth'),\n",
       " ('천왕성', 'uranus'),\n",
       " ('태양', 'sun'),\n",
       " ('토성', 'saturn'),\n",
       " ('해왕성', 'neptune'),\n",
       " ('화성', 'mars')]"
      ]
     },
     "execution_count": 43,
     "metadata": {},
     "output_type": "execute_result"
    }
   ],
   "source": [
    "solar_dict= {}\n",
    "\n",
    "# 1.1 두 리스트를 딕셔너리로 만들기\n",
    "for i in range(len(solar_kor)):\n",
    "    solar_dict[solar_kor[i]] = solar_eng[i]\n",
    "    \n",
    "# 1.2    \n",
    "for ko, en in zip(solar_kor, solar_eng):\n",
    "    solar_dict[ko] = en\n",
    "\n",
    "# 2.1 명왕성 pluto 추가\n",
    "solar_dict['명왕성'] = 'pluto'\n",
    "\n",
    "# 2.2 update 는 비효율적\n",
    "other = {'명왕성' : 'pluto'}\n",
    "solar_dict.update(other)\n",
    "\n",
    "# 3.1 '성'으로 끝나지 않는 단어 삭제하기\n",
    "{k : v for k, v in solar_dict.items() if k.endswith('성')}\n",
    "\n",
    "# 3.2\n",
    "{k:solar_dict[k] for k in solar_system if k.endswith('성')}\n",
    "# key만 출력 {k:solar_dict[k] for k in solar_dict}\n",
    "\n",
    "# 4.1 정렬(kor 기준)\n",
    "sorted(solar_system.items(), key = function)"
   ]
  },
  {
   "cell_type": "code",
   "execution_count": 46,
   "id": "5d1393cc",
   "metadata": {},
   "outputs": [
    {
     "data": {
      "text/plain": [
       "[('지구', 'earth'),\n",
       " ('목성', 'jupitar'),\n",
       " ('화성', 'mars'),\n",
       " ('수성', 'mercury'),\n",
       " ('해왕성', 'neptune'),\n",
       " ('토성', 'saturn'),\n",
       " ('태양', 'sun'),\n",
       " ('천왕성', 'uranus'),\n",
       " ('금성', 'venus')]"
      ]
     },
     "execution_count": 46,
     "metadata": {},
     "output_type": "execute_result"
    }
   ],
   "source": [
    "# key = function이란 s[0]을 기준으로 sorted\n",
    "def function(s):\n",
    "    return s[0]\n",
    "\n",
    "# 4.2 정렬(eng 기준)\n",
    "# function 함수를 lamda(익명함수)로 표현\n",
    "sorted(solar_system.items(), key = lambda x: x[1])"
   ]
  },
  {
   "cell_type": "markdown",
   "id": "5183f7bb",
   "metadata": {},
   "source": [
    "### Ex 5."
   ]
  },
  {
   "cell_type": "code",
   "execution_count": 26,
   "id": "e97bcfe1",
   "metadata": {},
   "outputs": [
    {
     "name": "stdout",
     "output_type": "stream",
     "text": [
      "room has the contens ballroom\n",
      "weapon has the contens lead pipe\n",
      "person has the contens Col.Mustard\n"
     ]
    },
    {
     "data": {
      "text/plain": [
       "{'a': 1, 'l': 1, 'e': 1, 'p': 2}"
      ]
     },
     "execution_count": 26,
     "metadata": {},
     "output_type": "execute_result"
    }
   ],
   "source": [
    "# for loop\n",
    "accusation = {'room' : 'ballroom', 'weapon' : 'lead pipe', 'person': 'Col.Mustard'}\n",
    "for k, v in accusation.items():\n",
    "    print(f'{k} has the contens {v}')\n",
    "    \n",
    "# 딕셔너리 컴프리헨션\n",
    "letter = 'apple'\n",
    "#(a:1, p:2, ...)\n",
    "{ch: letter.count(ch) for ch in set(letter)}"
   ]
  },
  {
   "cell_type": "code",
   "execution_count": 32,
   "id": "090b2fb9",
   "metadata": {},
   "outputs": [
    {
     "name": "stdout",
     "output_type": "stream",
     "text": [
      "{'a': 2, 'e': 1, 'i': 1, 'o': 4, 'u': 0}\n",
      "{'o': 4, 'a': 2, 'i': 1, 'e': 1}\n"
     ]
    }
   ],
   "source": [
    "# 주어진 단어의 모음 세기\n",
    "vowels = 'aeiou'\n",
    "word = 'onomatopoeia'\n",
    "\n",
    "\n",
    "# 조건 1. 딕셔너리 컴프리헨션\n",
    "# 조건 2. vowels, word 각각 기준 잡아서\n",
    "\n",
    "# 1. vowels 순환\n",
    "# {v for v in vowels}\n",
    "print({v : word.count(v) for v in vowels})\n",
    "\n",
    "# 2. word 순환\n",
    "# {ch for ch in word}\n",
    "print({ch : word.count(ch) for ch in set(word) if ch in vowels})"
   ]
  },
  {
   "cell_type": "markdown",
   "id": "ccf1c9ca",
   "metadata": {},
   "source": [
    "### set\n",
    "- 딕셔너리에서 키만 모아놓음 => 중복 없음\n",
    "- 수학의 집합 개념 => 교집합, 합집합, 차집합, ...\n",
    "- 데이터 자루, 순서 없고, 인덱싱 없고"
   ]
  },
  {
   "cell_type": "code",
   "execution_count": 56,
   "id": "b5ca2464",
   "metadata": {},
   "outputs": [
    {
     "data": {
      "text/plain": [
       "(set(), {})"
      ]
     },
     "execution_count": 56,
     "metadata": {},
     "output_type": "execute_result"
    }
   ],
   "source": [
    "empty = set()\n",
    "empty1 = {} #dict\n",
    "empty, empty1"
   ]
  },
  {
   "cell_type": "code",
   "execution_count": 55,
   "id": "12c9b6b9",
   "metadata": {},
   "outputs": [
    {
     "data": {
      "text/plain": [
       "set"
      ]
     },
     "execution_count": 55,
     "metadata": {},
     "output_type": "execute_result"
    }
   ],
   "source": [
    "a = {1, 2, 3}\n",
    "type(a)"
   ]
  },
  {
   "cell_type": "code",
   "execution_count": 57,
   "id": "6274f8ee",
   "metadata": {},
   "outputs": [
    {
     "data": {
      "text/plain": [
       "({1, 2, 3}, {1, 2, 3})"
      ]
     },
     "execution_count": 57,
     "metadata": {},
     "output_type": "execute_result"
    }
   ],
   "source": [
    "# 묶음으로 가져가야 한다\n",
    "# 불가 b = set(1, 2, 3)\n",
    "b = set((1, 2, 3))\n",
    "c = set([1, 2, 3, 3, 3]) # 중복 없음\n",
    "b, c"
   ]
  },
  {
   "cell_type": "code",
   "execution_count": 58,
   "id": "20190780",
   "metadata": {},
   "outputs": [
    {
     "data": {
      "text/plain": [
       "{1, 2}"
      ]
     },
     "execution_count": 58,
     "metadata": {},
     "output_type": "execute_result"
    }
   ],
   "source": [
    "# 추가하기 add\n",
    "a.add(4)\n",
    "\n",
    "# 삭제하기 remove, discard\n",
    "a.remove(4)\n",
    "a.discard(3)\n",
    "a"
   ]
  },
  {
   "cell_type": "markdown",
   "id": "30a4131d",
   "metadata": {},
   "source": [
    "### Ex 6."
   ]
  },
  {
   "cell_type": "code",
   "execution_count": 68,
   "id": "adbead0d",
   "metadata": {},
   "outputs": [
    {
     "name": "stdout",
     "output_type": "stream",
     "text": [
      "martini\n",
      "black russian\n",
      "white russian\n",
      "screwdriver\n",
      "{'screwdriver', 'black russian'}\n",
      "black russian\n",
      "screwdriver\n"
     ]
    }
   ],
   "source": [
    "drinks = {\n",
    "    'martini' : {'vodka', 'vermouth'},\n",
    "    'black russian' : {'vodka', 'kahlua'},\n",
    "    'white russian' : {'vodka', 'cream', 'kalua'},\n",
    "    'mahattan' : {'rye', 'vermouth', 'bitters'},\n",
    "    'screwdriver' : {'orange juice', 'vodka'}\n",
    "}\n",
    "    \n",
    "# 1. vodka가 있는 거 골라내기(출력)\n",
    "for k, v in drinks.items():\n",
    "    if 'vodka' in v:\n",
    "        print(k)\n",
    "     \n",
    "# 2. vodka 있는데 크림이나 버무스가 있으면 프린트 하지 않기\n",
    "# 2. 1 컴프리헨션\n",
    "print({k for k, v in drinks.items() \\\n",
    " if 'vodka' in v and 'cream' not in v and 'vermouth' not in v})\n",
    "\n",
    "# 2. 2 for loop\n",
    "for k, v in drinks.items():\n",
    "    if 'vodka' in v and not ('cream' in v or 'vermouth' in v):\n",
    "        print(k)"
   ]
  },
  {
   "cell_type": "markdown",
   "id": "b21d848f",
   "metadata": {},
   "source": [
    "### 교집합, 합집합, 차집합\n",
    "a = {1, 2, 3}\n",
    "b = {2, 3, 4}\n",
    "\n",
    "- 교집합 :intersection\n",
    "    - a.intersection(b)\n",
    "    - a & b\n",
    "\n",
    "- 합집합\n",
    "    - a.union(b)\n",
    "    - a | b\n",
    "\n",
    "- 차집합 (순서가 있음)\n",
    "    - a.differnce(b)\n",
    "    - a - b"
   ]
  },
  {
   "cell_type": "code",
   "execution_count": 75,
   "id": "8a01f0e0",
   "metadata": {},
   "outputs": [
    {
     "name": "stdout",
     "output_type": "stream",
     "text": [
      "set()\n",
      "{1, 2, 3, 4, 5, 6}\n",
      "{1, 2, 3}\n",
      "{4, 5, 6}\n"
     ]
    },
    {
     "data": {
      "text/plain": [
       "{1, 2, 3}"
      ]
     },
     "execution_count": 75,
     "metadata": {},
     "output_type": "execute_result"
    }
   ],
   "source": [
    "a = {1, 2, 3}\n",
    "b = {4, 5, 6}\n",
    "\n",
    "print(a & b)\n",
    "print(a | b)\n",
    "print(a - b)\n",
    "print(b - a)\n",
    "\n",
    "# 컴프리헨션\n",
    "{s for s in a}"
   ]
  },
  {
   "cell_type": "code",
   "execution_count": 69,
   "id": "a1a8b355",
   "metadata": {},
   "outputs": [
    {
     "name": "stdout",
     "output_type": "stream",
     "text": [
      "black russian\n",
      "screwdriver\n",
      "black russian\n",
      "screwdriver\n"
     ]
    }
   ],
   "source": [
    "# 예시\n",
    "for k, v in drinks.items():\n",
    "    if 'vodka' in v and not ('cream' in v or 'vermouth' in v):\n",
    "        print(k)\n",
    "\n",
    "for k, v in drinks.items():\n",
    "    if 'vodka' in v and not v & {'cream','vermouth'}:\n",
    "        print(k)"
   ]
  },
  {
   "cell_type": "code",
   "execution_count": 71,
   "id": "a9ae30a2",
   "metadata": {},
   "outputs": [
    {
     "data": {
      "text/plain": [
       "frozenset({1, 2, 3})"
      ]
     },
     "execution_count": 71,
     "metadata": {},
     "output_type": "execute_result"
    }
   ],
   "source": [
    "# 참고\n",
    "\n",
    "# frozen set (가변객체를 불변객체로)\n",
    "fs = frozenset([1, 2, 3])\n",
    "fs"
   ]
  },
  {
   "cell_type": "markdown",
   "id": "c744056f",
   "metadata": {},
   "source": [
    "### 프로젝트\n",
    "- 팀단위로 코드를 짜서 제출\n",
    "- pylint -> 코드 리뷰\n",
    "- pydocstyle -> syle 리뷰"
   ]
  },
  {
   "cell_type": "code",
   "execution_count": null,
   "id": "4e452eec",
   "metadata": {},
   "outputs": [],
   "source": [
    "!pip install pylint\n",
    "!pylint example.py(파일 이름)\n",
    "\n",
    "!pip install pydocstyle\n",
    "!pydocstyle example.py"
   ]
  }
 ],
 "metadata": {
  "kernelspec": {
   "display_name": "Python 3 (ipykernel)",
   "language": "python",
   "name": "python3"
  },
  "language_info": {
   "codemirror_mode": {
    "name": "ipython",
    "version": 3
   },
   "file_extension": ".py",
   "mimetype": "text/x-python",
   "name": "python",
   "nbconvert_exporter": "python",
   "pygments_lexer": "ipython3",
   "version": "3.9.7"
  }
 },
 "nbformat": 4,
 "nbformat_minor": 5
}
