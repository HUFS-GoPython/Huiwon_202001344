{
 "cells": [
  {
   "cell_type": "markdown",
   "id": "e8d83208",
   "metadata": {},
   "source": [
    "## week_12 | 2022.05.20"
   ]
  },
  {
   "cell_type": "markdown",
   "id": "76400f31",
   "metadata": {},
   "source": [
    "## 함수 II"
   ]
  },
  {
   "cell_type": "markdown",
   "id": "3a8ed95a",
   "metadata": {},
   "source": [
    "### asterisk (stars) *, **"
   ]
  },
  {
   "cell_type": "code",
   "execution_count": 7,
   "id": "32e8a465",
   "metadata": {},
   "outputs": [
    {
     "name": "stdout",
     "output_type": "stream",
     "text": [
      "('hey', 'hello', 'hi')\n"
     ]
    }
   ],
   "source": [
    "def print_arg(*args): # * = 여러가지가 들어갈 수 있음\n",
    "    # 인자(arg)를 튜플로 묶어서 활용하는 역할\n",
    "    print(args)\n",
    "    \n",
    "print_arg('hey', 'hello', 'hi')"
   ]
  },
  {
   "cell_type": "code",
   "execution_count": 1,
   "id": "408a463e",
   "metadata": {},
   "outputs": [
    {
     "name": "stdout",
     "output_type": "stream",
     "text": [
      "hey hello hi\n"
     ]
    }
   ],
   "source": [
    "def print_arg(*args): # 1. 패킹 (인자 -> 튜플로)\n",
    "    print(*args) # 2. 언패킹 (튜플 -> 인자로)\n",
    "    \n",
    "print_arg('hey', 'hello', 'hi')"
   ]
  },
  {
   "cell_type": "code",
   "execution_count": 10,
   "id": "e5a42a01",
   "metadata": {},
   "outputs": [
    {
     "name": "stdout",
     "output_type": "stream",
     "text": [
      "obligatory book\n",
      "1 2 3 4\n"
     ]
    }
   ],
   "source": [
    "def print_arg2(name, *args):\n",
    "    print('obligatory', name)\n",
    "    print(*args)\n",
    "    \n",
    "print_arg2('book',  1, 2, 3, 4)"
   ]
  },
  {
   "cell_type": "code",
   "execution_count": 12,
   "id": "8e08a777",
   "metadata": {},
   "outputs": [
    {
     "name": "stdout",
     "output_type": "stream",
     "text": [
      "obligatory book\n",
      "1 2 3 4\n",
      "obligatory book\n",
      "(1, 2, 3, 4)\n",
      "obligatory book\n",
      "1 2 3 4\n"
     ]
    }
   ],
   "source": [
    "def print_arg2(name, *args):\n",
    "    print('obligatory', name)\n",
    "    print(*args) #*args[0] 인덱싱도 가능...?\n",
    "    \n",
    "print_arg2('book',  1, 2, 3, 4)\n",
    "\n",
    "nums = (1, 2, 3, 4)\n",
    "x = print_arg2('book', nums)\n",
    "y = print_arg2('book', *nums)"
   ]
  },
  {
   "cell_type": "markdown",
   "id": "4c1aa631",
   "metadata": {},
   "source": [
    "### 외부에서 활용하기\n",
    "- 컬렉션 자료형 언패킹 출력 시\n",
    "- zip()\n",
    "- 키워드 전용 인수 선언\n",
    "    - 별 뒤에 오는 매개별수들은 반드시 키워드 인수로 들어오도록 설정하는 역할\n",
    "    -  kargs와 혼선을 빚지 않기 위해"
   ]
  },
  {
   "cell_type": "code",
   "execution_count": 9,
   "id": "9690c515",
   "metadata": {},
   "outputs": [
    {
     "name": "stdout",
     "output_type": "stream",
     "text": [
      "[0, 1, 2, 3, 4]\n",
      "0 1 2 3 4\n"
     ]
    }
   ],
   "source": [
    "# 1. 컬렉션 자료형 언패킹 출력\n",
    "nums = list(range(5))\n",
    "print(nums)\n",
    "\n",
    "nums = list(range(5))\n",
    "print(*nums) # 함수 안이 아닌 밖에서도 활용 가능"
   ]
  },
  {
   "cell_type": "code",
   "execution_count": 13,
   "id": "ce5860f9",
   "metadata": {},
   "outputs": [
    {
     "name": "stdout",
     "output_type": "stream",
     "text": [
      "[1, 2]\n",
      "[3, 4]\n",
      "[5, 6]\n",
      "(1, 3, 5)\n",
      "(2, 4, 6)\n"
     ]
    }
   ],
   "source": [
    "#2. zip()\n",
    "a = [\n",
    "    [1, 2],\n",
    "    [3, 4],\n",
    "    [5, 6,]\n",
    "]\n",
    "\n",
    "# 1, 3, 5 / 2, 4, 6 (열을 순회하고 싶다)\n",
    "for row in a:\n",
    "    print(row)"
   ]
  },
  {
   "cell_type": "code",
   "execution_count": 14,
   "id": "e8ff332a",
   "metadata": {},
   "outputs": [
    {
     "name": "stdout",
     "output_type": "stream",
     "text": [
      "(1, 3, 5)\n",
      "(2, 4, 6)\n"
     ]
    }
   ],
   "source": [
    "for row in zip(*a):\n",
    "    print(row)"
   ]
  },
  {
   "cell_type": "code",
   "execution_count": 18,
   "id": "5b328f48",
   "metadata": {},
   "outputs": [
    {
     "name": "stdout",
     "output_type": "stream",
     "text": [
      "2\n",
      "3\n"
     ]
    }
   ],
   "source": [
    "# 3. 키워드 전용 인수 선언\n",
    "def print_data(data, *, start, end): # start, end -> start = 0으로 설정\n",
    "    for value in data[start:end]:\n",
    "        print(value)\n",
    "        \n",
    "print_data(nums, start = 1, end = 3)"
   ]
  },
  {
   "cell_type": "markdown",
   "id": "1aed1ccb",
   "metadata": {},
   "source": [
    "## ** 란? keyword arguments(kargs)"
   ]
  },
  {
   "cell_type": "code",
   "execution_count": 35,
   "id": "b45629fe",
   "metadata": {},
   "outputs": [
    {
     "name": "stdout",
     "output_type": "stream",
     "text": [
      "{'wine': 'merlot', 'dessert': 'cake'}\n"
     ]
    }
   ],
   "source": [
    "def print_kargs(**kargs):\n",
    "    print(kargs) # 변수를 딕셔너리로 묶는다\n",
    "    #print(**kargs) # 불가 : 언패킹 기능 없음\n",
    "\n",
    "print_kargs(wine = 'merlot', dessert = 'cake')"
   ]
  },
  {
   "cell_type": "code",
   "execution_count": 20,
   "id": "3fe9c490",
   "metadata": {},
   "outputs": [
    {
     "name": "stdout",
     "output_type": "stream",
     "text": [
      "{'wine': 'merlot', 'dessert': 'cake'}\n",
      "merlot is semi-sweet\n"
     ]
    }
   ],
   "source": [
    "def print_kargs(**kargs):\n",
    "    print(kargs)\n",
    "    print(kargs['wine'], 'is semi-sweet') # 에러 발생 시: get(key, default)\n",
    "\n",
    "print_kargs(wine = 'merlot', dessert = 'cake')"
   ]
  },
  {
   "cell_type": "code",
   "execution_count": 36,
   "id": "cb860d6f",
   "metadata": {},
   "outputs": [
    {
     "name": "stdout",
     "output_type": "stream",
     "text": [
      "{'wine': 'merlot', 'dessert': 'scone'}\n",
      "{'wine': 'cabernet', 'dessert': 'scone'}\n",
      "{'wine': 'crianza', 'dessert': 'scone'}\n"
     ]
    }
   ],
   "source": [
    "wine_list = 'merlot cabernet crianza'.split()\n",
    "for wine in wine_list:\n",
    "    print_kargs(wine = wine, dessert = 'scone')"
   ]
  },
  {
   "cell_type": "code",
   "execution_count": 22,
   "id": "1d1414d6",
   "metadata": {},
   "outputs": [
    {
     "name": "stdout",
     "output_type": "stream",
     "text": [
      "15\n",
      "{'first': 1, 'second': 2}\n"
     ]
    }
   ],
   "source": [
    "def print_both(one, two, *args, **kargs): # 순서주의: 위치인수 -> args -> kargs\n",
    "    print(one + two + sum(args))\n",
    "    print(kargs)\n",
    "    \n",
    "print_both(1, 2, 3, 4, 5, first = 1, second = 2) # 3, 4, 5가 args"
   ]
  },
  {
   "cell_type": "markdown",
   "id": "353dc977",
   "metadata": {},
   "source": [
    "### 딕셔너리 결합할 때 사용할 수 있다 (3.5이상)"
   ]
  },
  {
   "cell_type": "code",
   "execution_count": 26,
   "id": "70db7813",
   "metadata": {},
   "outputs": [
    {
     "data": {
      "text/plain": [
       "{1: 'a', 2: 'c', 3: 'd'}"
      ]
     },
     "execution_count": 26,
     "metadata": {},
     "output_type": "execute_result"
    }
   ],
   "source": [
    "x = {1: 'a', 2: 'b'}\n",
    "y = {2: 'c', 3: 'd'} # 겹치는 값 -> 뒤의 값으로 전환\n",
    "{**x, **y}"
   ]
  },
  {
   "cell_type": "markdown",
   "id": "950c7038",
   "metadata": {},
   "source": [
    "### 일급객체\n",
    "- first class object / first class citizen\n",
    "- 함수도 객체다.\n",
    "    - 1. 함수의 인자로 전달 가능\n",
    "    - 2. 반환값이 될 수 있다\n",
    "    - 3. 수정, 할당될 수 있다"
   ]
  },
  {
   "cell_type": "code",
   "execution_count": 32,
   "id": "526797da",
   "metadata": {},
   "outputs": [
    {
     "name": "stdout",
     "output_type": "stream",
     "text": [
      "43\n",
      "43\n"
     ]
    }
   ],
   "source": [
    "def answer():\n",
    "    print(43)\n",
    "\n",
    "# 1. 함수를 인자로 받음\n",
    "def run_something(func): # 파이썬에서만, 함수가 객체이므로\n",
    "    func() # func을 실행\n",
    "    \n",
    "run_something(answer)\n",
    "\n",
    "# 1. + 2. 반환값이 될 수 있다\n",
    "def run_anything(func):\n",
    "    return func\n",
    "\n",
    "run_anything(answer)() # 괄호 => 실행"
   ]
  },
  {
   "cell_type": "code",
   "execution_count": 33,
   "id": "aff16f05",
   "metadata": {},
   "outputs": [
    {
     "data": {
      "text/plain": [
       "13"
      ]
     },
     "execution_count": 33,
     "metadata": {},
     "output_type": "execute_result"
    }
   ],
   "source": [
    "def sum_args(*args):\n",
    "    return sum(args)\n",
    "\n",
    "def run_with_positional_args(func, *args):\n",
    "    return func(*args) # 언패킹\n",
    "\n",
    "run_with_positional_args(sum_args, 1, 3, 4, 5)"
   ]
  },
  {
   "cell_type": "code",
   "execution_count": 47,
   "id": "9116578e",
   "metadata": {},
   "outputs": [],
   "source": [
    "# 가변 인자일 때 => 초기화하지 않으면 변수내용이 변할 수 있음\n",
    "\n",
    "def func(num_list):\n",
    "    # 변할 수 있음을 문서화할 것, 혹은 다른 방법 찾아볼 것\n",
    "    sum_num = sum(num_list)\n",
    "    num_list.append(sum_num)\n",
    "    \n",
    "a = [1, 3, 5]\n",
    "func(a)"
   ]
  },
  {
   "cell_type": "code",
   "execution_count": 48,
   "id": "b306a6a1",
   "metadata": {},
   "outputs": [
    {
     "data": {
      "text/plain": [
       "[1, 3, 5, 9]"
      ]
     },
     "execution_count": 48,
     "metadata": {},
     "output_type": "execute_result"
    }
   ],
   "source": [
    "a"
   ]
  },
  {
   "cell_type": "code",
   "execution_count": 49,
   "id": "62ebb637",
   "metadata": {},
   "outputs": [],
   "source": [
    "func(a)"
   ]
  },
  {
   "cell_type": "code",
   "execution_count": 50,
   "id": "41f29fac",
   "metadata": {},
   "outputs": [
    {
     "data": {
      "text/plain": [
       "[1, 3, 5, 9, 18]"
      ]
     },
     "execution_count": 50,
     "metadata": {},
     "output_type": "execute_result"
    }
   ],
   "source": [
    "a"
   ]
  },
  {
   "cell_type": "markdown",
   "id": "7fef0303",
   "metadata": {},
   "source": [
    "### 익명함수(람다)\n",
    "- lambda\n",
    "- 함수인데 이름이 없음 (def, return 등의 예약어를 사용 안 함)\n",
    "- 왜 사용? 단순한 함수를 사용할 때\n",
    "- 단, 잦은 사용은 권장하지 않는다. => 직관적이지 않고 재활용 불가.\n",
    "- `1ambda x(사용할 변수 선언): <x를 요리할 코드>`"
   ]
  },
  {
   "cell_type": "code",
   "execution_count": 51,
   "id": "f0b7b544",
   "metadata": {},
   "outputs": [
    {
     "data": {
      "text/plain": [
       "'ok'"
      ]
     },
     "execution_count": 51,
     "metadata": {},
     "output_type": "execute_result"
    }
   ],
   "source": [
    "#lambda x: x.lower()\n",
    "\n",
    "def f(x, y):\n",
    "    return x.lower()\n",
    "\n",
    "f2 = lambda x: x.lower()\n",
    "f2('OK')"
   ]
  },
  {
   "cell_type": "code",
   "execution_count": 34,
   "id": "346f6141",
   "metadata": {},
   "outputs": [
    {
     "data": {
      "text/plain": [
       "'ok'"
      ]
     },
     "execution_count": 34,
     "metadata": {},
     "output_type": "execute_result"
    }
   ],
   "source": [
    "# 이름 없이도 사용 가능\n",
    "(lambda x: x.lower())('OK')"
   ]
  },
  {
   "cell_type": "code",
   "execution_count": 54,
   "id": "0bfbc953",
   "metadata": {},
   "outputs": [
    {
     "data": {
      "text/plain": [
       "10"
      ]
     },
     "execution_count": 54,
     "metadata": {},
     "output_type": "execute_result"
    }
   ],
   "source": [
    "f3 = lambda x, y: x + y\n",
    "f3(5, 5)"
   ]
  },
  {
   "cell_type": "code",
   "execution_count": 62,
   "id": "4a6fc705",
   "metadata": {},
   "outputs": [
    {
     "data": {
      "text/plain": [
       "'Abc!'"
      ]
     },
     "execution_count": 62,
     "metadata": {},
     "output_type": "execute_result"
    }
   ],
   "source": [
    "# abc가 들어오면 -> Abc!\n",
    "f4 = lambda x: x[0].upper() + x[1:] + '!'\n",
    "# capitalize(), title() + '!'\n",
    "f4('abc')"
   ]
  }
 ],
 "metadata": {
  "kernelspec": {
   "display_name": "Python 3 (ipykernel)",
   "language": "python",
   "name": "python3"
  },
  "language_info": {
   "codemirror_mode": {
    "name": "ipython",
    "version": 3
   },
   "file_extension": ".py",
   "mimetype": "text/x-python",
   "name": "python",
   "nbconvert_exporter": "python",
   "pygments_lexer": "ipython3",
   "version": "3.9.7"
  }
 },
 "nbformat": 4,
 "nbformat_minor": 5
}
