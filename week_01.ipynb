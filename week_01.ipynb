{
 "cells": [
  {
   "cell_type": "markdown",
   "id": "4abaeb04-beb6-4a45-85e2-3d80f79b5463",
   "metadata": {},
   "source": [
    "markdown 영역 (앞에 부분 누르고 +m)"
   ]
  },
  {
   "cell_type": "markdown",
   "id": "905d45d6-ce16-4a90-ba72-11c7a74e6da3",
   "metadata": {
    "tags": []
   },
   "source": [
    "### heading (앞에 부분 누르고 + 3)\n",
    "- 아이템 1 (dotted line)"
   ]
  },
  {
   "cell_type": "code",
   "execution_count": 2,
   "id": "11f0da8c-c373-4a95-b0a5-02f765dd0305",
   "metadata": {},
   "outputs": [
    {
     "name": "stdout",
     "output_type": "stream",
     "text": [
      "hello\n"
     ]
    }
   ],
   "source": [
    "print(\"hello\")"
   ]
  },
  {
   "cell_type": "markdown",
   "id": "79fb85b0-22d7-4039-a241-aba87f453351",
   "metadata": {
    "jupyter": {
     "outputs_hidden": true
    },
    "tags": []
   },
   "source": [
    "### 프로그래밍이란? (이해하고 넘어가기)\n",
    "- programming : 프로그래밍 언어를 사용하여 프로그램을 개발하는 것.\n",
    "- program : 일련의 작업을 자동화하는 것.\n",
    "- python : 프로그래밍 언어 중 하나. 인간이 컴퓨터에게 작업을 명령하기 위해 사용하는 컴퓨터가 이해할 수 있는 언어"
   ]
  },
  {
   "cell_type": "markdown",
   "id": "79d205ea-0232-4264-8919-1acca2624da0",
   "metadata": {
    "tags": []
   },
   "source": [
    "## Ch2. Data: Types, Values, Variables, and Names"
   ]
  },
  {
   "cell_type": "code",
   "execution_count": 3,
   "id": "8a0856b0-4991-4601-8e38-66a49573a478",
   "metadata": {},
   "outputs": [],
   "source": [
    "a = 2"
   ]
  },
  {
   "cell_type": "markdown",
   "id": "50a754dc-ac7c-4fe8-bbe5-ec0fb42bce77",
   "metadata": {},
   "source": [
    "- markdown = m+\n",
    "- 변수 | variable (i.e a) : 특정 값을 저장하는 공간 (즉, a라는 공간에 2를 넣은 것)\n",
    "- 값 | value : 2\n",
    "- 자료형(타입) | type : 2가 어떤 타입인가? 데이터의 형태. (i.e, integer (int 타입)\n",
    "- 할당하다 | assign : 2를 a에 넣는 과정\n",
    "    - a가 2다? a == 2 (equal)"
   ]
  },
  {
   "cell_type": "code",
   "execution_count": 4,
   "id": "7161d284-264c-4c2b-a984-29dc1d85ee9f",
   "metadata": {},
   "outputs": [
    {
     "data": {
      "text/plain": [
       "2"
      ]
     },
     "execution_count": 4,
     "metadata": {},
     "output_type": "execute_result"
    }
   ],
   "source": [
    "a"
   ]
  },
  {
   "cell_type": "code",
   "execution_count": 5,
   "id": "05f2c4b2-b2e8-4735-9b56-55c628122001",
   "metadata": {},
   "outputs": [
    {
     "data": {
      "text/plain": [
       "True"
      ]
     },
     "execution_count": 5,
     "metadata": {},
     "output_type": "execute_result"
    }
   ],
   "source": [
    "a==2"
   ]
  },
  {
   "cell_type": "markdown",
   "id": "7ec49bd4-ef47-4eff-9a6f-08e49c5cb025",
   "metadata": {},
   "source": [
    "### 변수의 타입\n",
    "- boolean | 불리언 : True, False (`bool`)\n",
    "- integer | 정수 : 1, 2 (`int`)\n",
    "- floating point number | 부동소수점 : 1.0, 2.0 (`float`)\n",
    "- string | 문자열 : \"apple\", 'apple' (`str`)"
   ]
  },
  {
   "cell_type": "code",
   "execution_count": 6,
   "id": "ea756b3e-0c08-4df6-9939-63b9062a6e74",
   "metadata": {},
   "outputs": [
    {
     "data": {
      "text/plain": [
       "4"
      ]
     },
     "execution_count": 6,
     "metadata": {},
     "output_type": "execute_result"
    }
   ],
   "source": [
    "num = 4\n",
    "4"
   ]
  },
  {
   "cell_type": "code",
   "execution_count": 7,
   "id": "65bd0470-7462-407d-b0c6-92a868039bac",
   "metadata": {},
   "outputs": [
    {
     "name": "stdout",
     "output_type": "stream",
     "text": [
      "4\n"
     ]
    }
   ],
   "source": [
    "print(num)"
   ]
  },
  {
   "cell_type": "code",
   "execution_count": 8,
   "id": "a95ff956-295a-4849-ad43-024cbcc9dbcf",
   "metadata": {},
   "outputs": [
    {
     "data": {
      "text/plain": [
       "int"
      ]
     },
     "execution_count": 8,
     "metadata": {},
     "output_type": "execute_result"
    }
   ],
   "source": [
    "type(num)"
   ]
  },
  {
   "cell_type": "code",
   "execution_count": 9,
   "id": "c3957ed5-178a-4717-9e82-ca973d143d9b",
   "metadata": {},
   "outputs": [
    {
     "data": {
      "text/plain": [
       "float"
      ]
     },
     "execution_count": 9,
     "metadata": {},
     "output_type": "execute_result"
    }
   ],
   "source": [
    "type(1.0)"
   ]
  },
  {
   "cell_type": "code",
   "execution_count": 10,
   "id": "e21b79cc-f354-4393-8631-7bd401a01a94",
   "metadata": {},
   "outputs": [
    {
     "data": {
      "text/plain": [
       "bool"
      ]
     },
     "execution_count": 10,
     "metadata": {},
     "output_type": "execute_result"
    }
   ],
   "source": [
    "type(a==2)"
   ]
  },
  {
   "cell_type": "code",
   "execution_count": 11,
   "id": "f5cb3d31-13df-4509-81c2-52a368308ec4",
   "metadata": {},
   "outputs": [
    {
     "name": "stdout",
     "output_type": "stream",
     "text": [
      "my name\n"
     ]
    }
   ],
   "source": [
    "name = 'my name'\n",
    "# string은 따옴표(쿼트)를 꼭 해야함\n",
    "print(name)"
   ]
  },
  {
   "cell_type": "code",
   "execution_count": 18,
   "id": "362cc243-d3c2-41cd-8918-aae39b7cdfbd",
   "metadata": {},
   "outputs": [
    {
     "ename": "NameError",
     "evalue": "name 'my_name' is not defined",
     "output_type": "error",
     "traceback": [
      "\u001b[1;31m---------------------------------------------------------------------------\u001b[0m",
      "\u001b[1;31mNameError\u001b[0m                                 Traceback (most recent call last)",
      "\u001b[1;32mC:\\Users\\WIN102~1\\AppData\\Local\\Temp/ipykernel_11608/2683283253.py\u001b[0m in \u001b[0;36m<module>\u001b[1;34m\u001b[0m\n\u001b[1;32m----> 1\u001b[1;33m \u001b[0mmy_name\u001b[0m\u001b[1;33m\u001b[0m\u001b[1;33m\u001b[0m\u001b[0m\n\u001b[0m\u001b[0;32m      2\u001b[0m \u001b[1;31m# string 아닌 변수명으로 인식\u001b[0m\u001b[1;33m\u001b[0m\u001b[1;33m\u001b[0m\u001b[0m\n\u001b[0;32m      3\u001b[0m \u001b[1;31m# 이러한 변수가 없기 때문에 에러\u001b[0m\u001b[1;33m\u001b[0m\u001b[1;33m\u001b[0m\u001b[0m\n",
      "\u001b[1;31mNameError\u001b[0m: name 'my_name' is not defined"
     ]
    }
   ],
   "source": [
    "my_name\n",
    "# string 아닌 변수명으로 인식\n",
    "# 이러한 변수가 없기 때문에 에러"
   ]
  },
  {
   "cell_type": "code",
   "execution_count": 14,
   "id": "b24e877a-54fd-4efc-bd18-d34c13b2340c",
   "metadata": {},
   "outputs": [
    {
     "ename": "SyntaxError",
     "evalue": "invalid syntax (Temp/ipykernel_11608/2749310588.py, line 1)",
     "output_type": "error",
     "traceback": [
      "\u001b[1;36m  File \u001b[1;32m\"C:\\Users\\WIN102~1\\AppData\\Local\\Temp/ipykernel_11608/2749310588.py\"\u001b[1;36m, line \u001b[1;32m1\u001b[0m\n\u001b[1;33m    'I'm sam.' = 에러\u001b[0m\n\u001b[1;37m       ^\u001b[0m\n\u001b[1;31mSyntaxError\u001b[0m\u001b[1;31m:\u001b[0m invalid syntax\n"
     ]
    }
   ],
   "source": [
    "'I'm sam.'"
   ]
  },
  {
   "cell_type": "code",
   "execution_count": 17,
   "id": "45e7aacf-a55a-4323-afd1-43238a3ad869",
   "metadata": {},
   "outputs": [
    {
     "name": "stdout",
     "output_type": "stream",
     "text": [
      "I'm Sam.\n",
      "I'm Sam.\n"
     ]
    }
   ],
   "source": [
    "# string quote 안에 single quote를 문자로 인식하는 방법\n",
    "\n",
    "#1.\\ 슬래쉬 사용\n",
    "print('I\\'m Sam.')\n",
    "\n",
    "#2. \"\" (밖에 큰따옴표 double quote사용)\n",
    "print(\"I'm Sam.\")"
   ]
  },
  {
   "cell_type": "markdown",
   "id": "972da0bf-134d-44c4-a149-ef5bbd9cee80",
   "metadata": {},
   "source": [
    "### 변수명 정하기\n",
    "- 소문자, 대문자, 숫자, 언더바(_) 사용한다.\n",
    "- 그러나 대문자는 특별한 경우가 있기에 소문자 사용이 좋음\n",
    "    - 예: 'name', 'my_name', 'name3' 'NAME', 'Name'\n",
    "    - 불가능한 예: 'my-name'(하이픈), '3name'(숫자로 시작)\n",
    "    \n",
    "- 변수명으로 사용할 수 없는 케이스\n",
    "    1. 숫자로 시작할 수 없다.\n",
    "    2. 예약어는 사용할 수 없다. (정해져 있는 문법을 위해 사용되는 단어)"
   ]
  },
  {
   "cell_type": "code",
   "execution_count": 19,
   "id": "53318138-5621-4733-b168-98d93e9c73e4",
   "metadata": {},
   "outputs": [
    {
     "data": {
      "text/plain": [
       "'lee'"
      ]
     },
     "execution_count": 19,
     "metadata": {},
     "output_type": "execute_result"
    }
   ],
   "source": [
    "name = 'lee'\n",
    "name"
   ]
  },
  {
   "cell_type": "code",
   "execution_count": 20,
   "id": "530d3379-6a29-4420-b1e6-32de8338db89",
   "metadata": {},
   "outputs": [
    {
     "ename": "SyntaxError",
     "evalue": "invalid syntax (Temp/ipykernel_11608/2942085305.py, line 1)",
     "output_type": "error",
     "traceback": [
      "\u001b[1;36m  File \u001b[1;32m\"C:\\Users\\WIN102~1\\AppData\\Local\\Temp/ipykernel_11608/2942085305.py\"\u001b[1;36m, line \u001b[1;32m1\u001b[0m\n\u001b[1;33m    3name = 'kim'\u001b[0m\n\u001b[1;37m     ^\u001b[0m\n\u001b[1;31mSyntaxError\u001b[0m\u001b[1;31m:\u001b[0m invalid syntax\n"
     ]
    }
   ],
   "source": [
    "3name = 'kim' # 숫자는 변수명 맨 앞에 올 수 없다."
   ]
  },
  {
   "cell_type": "code",
   "execution_count": 21,
   "id": "3459f7fb-0104-40a0-b5bf-0c9dd9097039",
   "metadata": {},
   "outputs": [
    {
     "ename": "SyntaxError",
     "evalue": "invalid syntax (Temp/ipykernel_11608/2378706993.py, line 1)",
     "output_type": "error",
     "traceback": [
      "\u001b[1;36m  File \u001b[1;32m\"C:\\Users\\WIN102~1\\AppData\\Local\\Temp/ipykernel_11608/2378706993.py\"\u001b[1;36m, line \u001b[1;32m1\u001b[0m\n\u001b[1;33m    def = 'Hwang'\u001b[0m\n\u001b[1;37m        ^\u001b[0m\n\u001b[1;31mSyntaxError\u001b[0m\u001b[1;31m:\u001b[0m invalid syntax\n"
     ]
    }
   ],
   "source": [
    "def = 'Hwang' #예약어는 변수명으로 사용할 수 없다."
   ]
  },
  {
   "cell_type": "code",
   "execution_count": 30,
   "id": "de77654b-e6c9-423d-9918-21695e9075b5",
   "metadata": {},
   "outputs": [
    {
     "name": "stdout",
     "output_type": "stream",
     "text": [
      "\n",
      "Here is a list of the Python keywords.  Enter any keyword to get more help.\n",
      "\n",
      "False               break               for                 not\n",
      "None                class               from                or\n",
      "True                continue            global              pass\n",
      "__peg_parser__      def                 if                  raise\n",
      "and                 del                 import              return\n",
      "as                  elif                in                  try\n",
      "assert              else                is                  while\n",
      "async               except              lambda              with\n",
      "await               finally             nonlocal            yield\n",
      "\n"
     ]
    }
   ],
   "source": [
    "# 예약어인지 확인하는 방법\n",
    "help(\"keywords\")"
   ]
  },
  {
   "cell_type": "markdown",
   "id": "8c257c61-61d0-42e6-9d0f-ef23ef3fd083",
   "metadata": {},
   "source": [
    "- 주의할 점 (특별한 용도가 있어서 일반적으로 사용하지 않는 변수명 타입)\n",
    "    1. 언더바로 시작하는 변수명\n",
    "        예: _name\n",
    "    2. 언더바가 2개 있는 변수명\n",
    "        예: _name_\n",
    "    3. 대문자로 시작하는 변수명 (보통 클래스를 지칭 시 사용)\n",
    "        예: Car\n",
    "    4. 전체가 대문자인 변수명\n",
    "        예 : CAR"
   ]
  },
  {
   "cell_type": "code",
   "execution_count": 22,
   "id": "65b4d550-08fe-4bd2-8681-c497264a2fdc",
   "metadata": {},
   "outputs": [],
   "source": [
    "# number != Number\n",
    "word1 = 'number'\n",
    "word2 = 'Number'"
   ]
  },
  {
   "cell_type": "code",
   "execution_count": 24,
   "id": "26dd4e11-7d8e-4fea-952f-60089e93e6d3",
   "metadata": {},
   "outputs": [
    {
     "data": {
      "text/plain": [
       "False"
      ]
     },
     "execution_count": 24,
     "metadata": {},
     "output_type": "execute_result"
    }
   ],
   "source": [
    "word1 == word2 # 대소문자 구분한다."
   ]
  },
  {
   "cell_type": "code",
   "execution_count": 25,
   "id": "fdebfb8b-54d7-4b03-b6fb-dd133d0f4fb0",
   "metadata": {},
   "outputs": [
    {
     "data": {
      "text/plain": [
       "True"
      ]
     },
     "execution_count": 25,
     "metadata": {},
     "output_type": "execute_result"
    }
   ],
   "source": [
    "word1 != word2"
   ]
  },
  {
   "cell_type": "code",
   "execution_count": 29,
   "id": "f73d721f-039d-48f7-ac75-2cb0f6594339",
   "metadata": {},
   "outputs": [],
   "source": [
    "# 좋은 변수명이란 코드가 소설처럼 읽히는 것\n",
    "\n",
    "    # a, b : 안 좋은 케이스\n",
    "    # 남이 읽을 때 이해가 쉬울 것."
   ]
  },
  {
   "cell_type": "markdown",
   "id": "f5c4b957-caef-4226-91db-3e7804456614",
   "metadata": {},
   "source": [
    "### 할당하기\n",
    "- 수학에서는 =가 양변이 같음을 의미하는데, 프로그램에서는 할당을 의미한다.\n",
    "    예: name = 'lee'\n",
    "    - lee라는 값을 name에 넣는 것. (순서: 오른쪽에서 왼쪽)\n",
    "    \n",
    "- 오른쪽에 있는 모든 것은 값을 가져야 한다. (\"초기화\")\n",
    "- 변수 타입은 따로 지정하지 않는다."
   ]
  },
  {
   "cell_type": "code",
   "execution_count": 31,
   "id": "6e20d082-8168-4813-a449-ab68caf13579",
   "metadata": {},
   "outputs": [],
   "source": [
    "car = 'hyundai'"
   ]
  },
  {
   "cell_type": "code",
   "execution_count": 34,
   "id": "12dbf20c-61c5-42b9-a76e-520d090cff7b",
   "metadata": {},
   "outputs": [],
   "source": [
    "kia = 'kia' # 값을 처음 설정해 줘야 한다. (초기화)\n",
    "truck = kia"
   ]
  },
  {
   "cell_type": "code",
   "execution_count": 41,
   "id": "ab0a43b9-9732-4c3a-b06f-a6c4caa1a266",
   "metadata": {},
   "outputs": [
    {
     "name": "stdout",
     "output_type": "stream",
     "text": [
      "2 12\n"
     ]
    }
   ],
   "source": [
    "x = 2\n",
    "y= x + 10 # name 'x' is not defined\n",
    "print(x, y)"
   ]
  },
  {
   "cell_type": "code",
   "execution_count": 38,
   "id": "ed867bf8-c674-442c-ac0d-05e9f895d43f",
   "metadata": {},
   "outputs": [
    {
     "data": {
      "text/plain": [
       "str"
      ]
     },
     "execution_count": 38,
     "metadata": {},
     "output_type": "execute_result"
    }
   ],
   "source": [
    "type(car)"
   ]
  },
  {
   "cell_type": "code",
   "execution_count": 42,
   "id": "96188f6a-376f-4857-858f-5c117dca25d7",
   "metadata": {},
   "outputs": [],
   "source": [
    "# str car = 'kia' 라고 타입 지정하지 않아도 된다.\n",
    "car = 'kia' # hyundai에서 kia로 값이 변화하였다."
   ]
  },
  {
   "cell_type": "code",
   "execution_count": 40,
   "id": "775c0710-419c-47e4-b568-82252ecc0c60",
   "metadata": {},
   "outputs": [
    {
     "data": {
      "text/plain": [
       "'kia'"
      ]
     },
     "execution_count": 40,
     "metadata": {},
     "output_type": "execute_result"
    }
   ],
   "source": [
    "car"
   ]
  }
 ],
 "metadata": {
  "kernelspec": {
   "display_name": "Python 3 (ipykernel)",
   "language": "python",
   "name": "python3"
  },
  "language_info": {
   "codemirror_mode": {
    "name": "ipython",
    "version": 3
   },
   "file_extension": ".py",
   "mimetype": "text/x-python",
   "name": "python",
   "nbconvert_exporter": "python",
   "pygments_lexer": "ipython3",
   "version": "3.9.7"
  }
 },
 "nbformat": 4,
 "nbformat_minor": 5
}
