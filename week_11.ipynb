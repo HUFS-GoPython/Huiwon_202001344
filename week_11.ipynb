{
 "cells": [
  {
   "cell_type": "markdown",
   "id": "e4598973",
   "metadata": {},
   "source": [
    "## week_11 | 2022.05.13"
   ]
  },
  {
   "cell_type": "markdown",
   "id": "956bf480",
   "metadata": {},
   "source": [
    "### 상속 | inheritance\n",
    "- 클래스가 여러개가 있을 때\n",
    "- 이전 클래스의 내용을 추가, 변경해야 할 경우\n",
    "- 코드 재사용에 유용\n",
    "    - 너무 독립적이지 못한 것은 좋지 않다\n",
    "- 기준 클래스: vehicle. parent, super, base, 부모클래스\n",
    "- 상속 받는 클래스: child, sub, derived, 자식클래스\n",
    "    - Vehicle 클래스 <- Car 클래스 (상속 받음)\n",
    "    - 부모클래스를 자식클래스가 구체화시킨다.\n",
    "    - 부모클래스는 general, 자식클래스는 더 specific\n",
    "        - Car is-a-Vehicle (is-a 관계: 얽혀있기에 주의!)\n",
    "        - has-a 관계: Notebook has-a-Note\n"
   ]
  },
  {
   "cell_type": "code",
   "execution_count": 6,
   "id": "6b32cb8e",
   "metadata": {},
   "outputs": [
    {
     "name": "stdout",
     "output_type": "stream",
     "text": [
      "15km/h의 속력으로 달린다.\n"
     ]
    }
   ],
   "source": [
    "class Vehicle:\n",
    "    def __init__(self, speed):\n",
    "        self.speed = speed\n",
    "        \n",
    "    def go(self):\n",
    "        print(f'{self.speed}의 속력으로 달린다.')\n",
    "        \n",
    "#자식클래스\n",
    "class Car(Vehicle): # 부모클래스를 괄호안에\n",
    "    pass\n",
    "\n",
    "car = Car('15km/h') #speed를 넣어줘야함\n",
    "car.go() # 부모 메서드를 사용가능"
   ]
  },
  {
   "cell_type": "markdown",
   "id": "99b713ba",
   "metadata": {},
   "source": [
    "### 추가, 변경\n",
    "- 속성 (변수)"
   ]
  },
  {
   "cell_type": "code",
   "execution_count": 7,
   "id": "1a4fca0e",
   "metadata": {},
   "outputs": [
    {
     "data": {
      "text/plain": [
       "'14km/h'"
      ]
     },
     "execution_count": 7,
     "metadata": {},
     "output_type": "execute_result"
    }
   ],
   "source": [
    "class Car(Vehicle):\n",
    "    def __init__(self, speed, brand):\n",
    "        # self.speed = speed -> 부모의 클래스로 접근해야 함\n",
    "        super().__init__(speed) # 부모에게서 가져옴, 선택적 인수 설정\n",
    "        self.brand = brand # 추가한 속성, 독자적\n",
    "        \n",
    "car2 = Car('14km/h', 'kia')\n",
    "car2.speed"
   ]
  },
  {
   "cell_type": "code",
   "execution_count": 8,
   "id": "ace5bb28",
   "metadata": {},
   "outputs": [
    {
     "name": "stdout",
     "output_type": "stream",
     "text": [
      "14km/h의 속력으로 달린다.\n"
     ]
    }
   ],
   "source": [
    "car2.go()"
   ]
  },
  {
   "cell_type": "markdown",
   "id": "ed8181ba",
   "metadata": {},
   "source": [
    "### 메소드 변경 => 오버라이드 override, 재정의\n",
    "- 부모클래스와 차별성을 가지는 부분에 주목"
   ]
  },
  {
   "cell_type": "code",
   "execution_count": 9,
   "id": "3307fbbf",
   "metadata": {},
   "outputs": [
    {
     "name": "stdout",
     "output_type": "stream",
     "text": [
      "차종은 nissan\n",
      "16km/h의 속력으로 달린다.\n",
      "차가 멈춘다.\n"
     ]
    }
   ],
   "source": [
    "class Car(Vehicle):  # 부모클래스와  차별성을 가지는 부분에 주목!\n",
    "    def __init__(self, speed, brand):\n",
    "        super().__init__(speed)\n",
    "        self.brand = brand # self == 나자신, super() == 부모\n",
    "        \n",
    "    def go(self): #override\n",
    "        print(f'차종은 {self.brand}')\n",
    "        # 부모의 go도 같이 타고 싶다\n",
    "        super().go()\n",
    "        \n",
    "    def stop(self): # 부모클래스에 없는 메소드\n",
    "        print('차가 멈춘다.')\n",
    "        \n",
    "car3 = Car('16km/h', 'nissan')\n",
    "car3.go()\n",
    "car3.stop()"
   ]
  },
  {
   "cell_type": "code",
   "execution_count": 10,
   "id": "3852e17a",
   "metadata": {},
   "outputs": [],
   "source": [
    "v = Vehicle('15km/h')\n",
    "# v.brand 불가 (자식클래스의 속성 사용 불가)\n",
    "# v,stop() 불가"
   ]
  },
  {
   "cell_type": "markdown",
   "id": "015a867d",
   "metadata": {},
   "source": [
    "### EX"
   ]
  },
  {
   "cell_type": "code",
   "execution_count": 11,
   "id": "7c16f25d",
   "metadata": {},
   "outputs": [
    {
     "data": {
      "text/plain": [
       "'Mrs.Son'"
      ]
     },
     "execution_count": 11,
     "metadata": {},
     "output_type": "execute_result"
    }
   ],
   "source": [
    "class Person:\n",
    "    # name\n",
    "    def __init__(self, name):\n",
    "        self.name = name\n",
    "\n",
    "class Doctor(Person):# Dr. name\n",
    "    def __init__(self, name):\n",
    "        super().__init__('Dr.' + name)\n",
    "\n",
    "# 다시\n",
    "class Male(Person):\n",
    "    # Mr.name\n",
    "    def __init__(self, name):\n",
    "        super().__init__('Mr.' + name)\n",
    "\n",
    "class Female(Person):\n",
    "    # Mrs. name\n",
    "    def __init__(self, name):\n",
    "        super().__init__('Mrs.' + name)\n",
    "\n",
    "\"\"\" Person <- Doctor (상속받음)\n",
    "            <- Female\n",
    "            <- Male\n",
    "\"\"\"\n",
    "\n",
    "Female('Son').name"
   ]
  },
  {
   "cell_type": "markdown",
   "id": "d108835d",
   "metadata": {},
   "source": [
    "### 다중 상속\n",
    "- method resolution order (MRO)\n",
    "- \n",
    "Animal <- Horse\n",
    "        <- Donkey\n",
    "                <- Mule (donkey > horse)\n",
    "                <- Hinny (Horse > Donkey)"
   ]
  },
  {
   "cell_type": "code",
   "execution_count": 12,
   "id": "b5bc06f0",
   "metadata": {},
   "outputs": [
    {
     "name": "stdout",
     "output_type": "stream",
     "text": [
      "히이호\n",
      "히히힝\n"
     ]
    }
   ],
   "source": [
    "class Animal:\n",
    "    def says(self):\n",
    "        return '동물이 운다'\n",
    "#________________________ child\n",
    "\n",
    "class Horse(Animal):\n",
    "    def says(self):\n",
    "        return '히히힝'\n",
    "    \n",
    "class Donkey(Animal):\n",
    "    def says(self):\n",
    "        return '히이호'    \n",
    "#_________________________ grandchild\n",
    "\n",
    "class Mule(Donkey, Horse): # 가까운 부모 순서대로 넣는다\n",
    "    pass\n",
    "\n",
    "class Hinny(Horse, Donkey):\n",
    "    pass\n",
    "\n",
    "print(Mule().says()) # 히이호\n",
    "print(Hinny().says())"
   ]
  },
  {
   "cell_type": "code",
   "execution_count": 13,
   "id": "a860f009",
   "metadata": {},
   "outputs": [
    {
     "data": {
      "text/plain": [
       "[__main__.Mule, __main__.Donkey, __main__.Horse, __main__.Animal, object]"
      ]
     },
     "execution_count": 13,
     "metadata": {},
     "output_type": "execute_result"
    }
   ],
   "source": [
    "Mule.mro() # 가까운 순서대로"
   ]
  },
  {
   "cell_type": "markdown",
   "id": "8911b35d",
   "metadata": {},
   "source": [
    "### 다형성, duck typing"
   ]
  },
  {
   "cell_type": "code",
   "execution_count": 14,
   "id": "bd8e2e27",
   "metadata": {},
   "outputs": [
    {
     "name": "stdout",
     "output_type": "stream",
     "text": [
      "동물이 운다\n",
      "히히힝\n",
      "히이호\n"
     ]
    }
   ],
   "source": [
    "for animal in [Animal(), Horse(), Mule()]:\n",
    "    print(animal.says())"
   ]
  },
  {
   "cell_type": "markdown",
   "id": "66f50505",
   "metadata": {},
   "source": [
    "### 메서드\n",
    "- 1. 인스턴스 메서드:\n",
    "    - 첫 번째 인수가 self인 메서드\n",
    "    - 우리가 지금까지 배운 메서드\n",
    "    - `객체 생성 -> 사용 가능`\n",
    "- 2. 클래스 메서드:\n",
    "    - 객체마다 달라지지 않음\n",
    "    - 모든 객체가 공유하는 (클래스) 변수, (클래스) 메소드\n",
    "    - cls\n",
    "    - 데코레이터 @classmethod 사용한다\n",
    "    - `객체 생성하지 않고 메서드에 접근 가능!`\n",
    "- 3. 정적 메서드\n",
    "    - 1번째 인수가 self 아님\n",
    "    - 클래스나 인스턴스에 접근하지 않는 메서드\n",
    "    - 비슷한 유틸리티라서 클래스 내에 묶어올 때 사용한다.\n",
    "    - `객체 생성하지 않고 메서드 접근 가능!`\n",
    "    - @staticmethod\n",
    "- 4. 추상 메서드\n",
    "    - abstract\n",
    "    - @abstractmethod"
   ]
  },
  {
   "cell_type": "code",
   "execution_count": 15,
   "id": "f6bd04f8",
   "metadata": {},
   "outputs": [
    {
     "data": {
      "text/plain": [
       "'히히힝'"
      ]
     },
     "execution_count": 15,
     "metadata": {},
     "output_type": "execute_result"
    }
   ],
   "source": [
    "# 1. 인스턴스 메서드\n",
    "h = Hinny() # 객체 생성\n",
    "h.says()"
   ]
  },
  {
   "cell_type": "code",
   "execution_count": 16,
   "id": "51b2e7dd",
   "metadata": {},
   "outputs": [
    {
     "name": "stdout",
     "output_type": "stream",
     "text": [
      "0\n"
     ]
    }
   ],
   "source": [
    "# 2. 클래스 메서드\n",
    "class A:\n",
    "    cnt = 0\n",
    "    \n",
    "    @classmethod\n",
    "    def move(cls): # self, super(), cls\n",
    "        print(cls.cnt)\n",
    "        \n",
    "A().move()"
   ]
  },
  {
   "cell_type": "code",
   "execution_count": 17,
   "id": "bb362dee",
   "metadata": {},
   "outputs": [
    {
     "name": "stdout",
     "output_type": "stream",
     "text": [
      "3\n"
     ]
    }
   ],
   "source": [
    "class B:\n",
    "    cnt = 0\n",
    "    def __init__(self):\n",
    "        B.cnt += 1\n",
    "    \n",
    "    @classmethod\n",
    "    def count(cls):\n",
    "        #cls.cnt += 1\n",
    "        print(cls.cnt)\n",
    "        # 객체가 생성될 때마다 횟수 증가해서 프린트하기\n",
    "        \n",
    "B()\n",
    "B()\n",
    "B().count()"
   ]
  },
  {
   "cell_type": "code",
   "execution_count": 18,
   "id": "55184224",
   "metadata": {},
   "outputs": [
    {
     "data": {
      "text/plain": [
       "'hong'"
      ]
     },
     "execution_count": 18,
     "metadata": {},
     "output_type": "execute_result"
    }
   ],
   "source": [
    "class Person:\n",
    "    def __init__(self, name, age):\n",
    "        self.name = name\n",
    "        self.age = age\n",
    "        \n",
    "    @classmethod\n",
    "    def tuple_object(cls, args):\n",
    "        # 튜플로 인자를 받아서, 객체 생성하는 메서드 만들기\n",
    "        return cls(args[0], args[1])\n",
    "\n",
    "name = 'hong'\n",
    "age = 24\n",
    "p = Person(name, age)\n",
    "\n",
    "info = name, age\n",
    "p = Person.tuple_object(info)\n",
    "# 객체 생성하지 않고 메서드에 접근한다\n",
    "# 따라서, Person() 괄호를 넣지 않는다\n",
    "\n",
    "p.name"
   ]
  },
  {
   "cell_type": "code",
   "execution_count": 19,
   "id": "922eaf7c",
   "metadata": {},
   "outputs": [
    {
     "data": {
      "text/plain": [
       "'hi'"
      ]
     },
     "execution_count": 19,
     "metadata": {},
     "output_type": "execute_result"
    }
   ],
   "source": [
    "# 3. 정적 메서드 @staticmethod\n",
    "class Coyote:\n",
    "    \n",
    "    @staticmethod\n",
    "    def says(): #self 없음\n",
    "        return 'hi'\n",
    "    \n",
    "Coyote.says() # Coyote() 아님 -> 객체랑 상관없이 사용"
   ]
  },
  {
   "cell_type": "code",
   "execution_count": 20,
   "id": "0f1eb92b",
   "metadata": {},
   "outputs": [],
   "source": [
    "class Donkey:\n",
    "    \n",
    "    @staticmethod\n",
    "    def says(cry):\n",
    "        return 'hi' + cry"
   ]
  },
  {
   "cell_type": "code",
   "execution_count": 1,
   "id": "7f38f274",
   "metadata": {},
   "outputs": [],
   "source": [
    "# 4. 추상 메서드\n",
    "# Vehicle의 변수, 메서드를 개괄적으로 설명 -> blueprint, 한 눈에 보려고\n",
    "# 상속받는 아이가 이를 구현하게 만듦 \n",
    "\n",
    "from abc import *\n",
    "\n",
    "class Vehicle(metaclass = ABCMeta): # 추상클래스\n",
    "    # 변수에 뭘 넣을지 정의하기\n",
    "    speed = '속도'\n",
    "    \n",
    "    # 자식 클래스가 오버라이드해야 하는 메서드 정의, 구체화히지는 않는다\n",
    "    @abstractmethod\n",
    "    def drive(self):\n",
    "        print('교통수단에 관하여')\n",
    "        \n",
    "    def stop(self):\n",
    "        pass\n",
    "    \n",
    "    def park(self):\n",
    "        pass\n",
    "    \n",
    "    # ----------------------\n",
    "        \n",
    "class Car(Vehicle):\n",
    "    def drive(self):\n",
    "        return super().speed"
   ]
  },
  {
   "cell_type": "markdown",
   "id": "92605e8f",
   "metadata": {},
   "source": [
    "### 매직메서드\n",
    "- __init__ : special method\n",
    "\n",
    "\n",
    "- object 클래스 메서드 재정의하는 것\n",
    "    - __str__\n",
    "        - 인스턴스를 스트링으로 출력\n",
    "        - print(인스턴스(객체))했을 때 출력되는 값\n",
    "    - __repr__\n",
    "        - 사용자가 이해할 수 있게 객체를 출력하고 싶을 때 사용한다"
   ]
  },
  {
   "cell_type": "code",
   "execution_count": 27,
   "id": "5e36322d",
   "metadata": {},
   "outputs": [],
   "source": [
    "class Person:\n",
    "    def __init__(self, name):\n",
    "        self.name = name"
   ]
  },
  {
   "cell_type": "code",
   "execution_count": 28,
   "id": "a08da1d9",
   "metadata": {},
   "outputs": [
    {
     "data": {
      "text/plain": [
       "<__main__.Person at 0x64baf40>"
      ]
     },
     "execution_count": 28,
     "metadata": {},
     "output_type": "execute_result"
    }
   ],
   "source": [
    "p = Person('lee') # 객체 생성\n",
    "p"
   ]
  },
  {
   "cell_type": "code",
   "execution_count": 29,
   "id": "6aed53e5",
   "metadata": {},
   "outputs": [
    {
     "name": "stdout",
     "output_type": "stream",
     "text": [
      "<__main__.Person object at 0x064BAF40>\n"
     ]
    }
   ],
   "source": [
    "print(p)"
   ]
  },
  {
   "cell_type": "code",
   "execution_count": 31,
   "id": "faba739a",
   "metadata": {},
   "outputs": [],
   "source": [
    "class Person:\n",
    "    def __init__(self, name):\n",
    "        self.name = name\n",
    "        \n",
    "    def __str__(self):\n",
    "        # 인스턴스를 스트링으로 출력: 이름, 메모리주소\n",
    "        # print(인스턴스(객체))했을 때 출력되는 값\n",
    "        return self.name\n",
    "    \n",
    "    def __repr__(self):\n",
    "        # 사용자가 이해할 수 있게 객체를 출력하고 싶을 때 사용한다\n",
    "        return f'Person({self.name})'"
   ]
  },
  {
   "cell_type": "code",
   "execution_count": 32,
   "id": "63ece958",
   "metadata": {},
   "outputs": [
    {
     "data": {
      "text/plain": [
       "Person(Kim)"
      ]
     },
     "execution_count": 32,
     "metadata": {},
     "output_type": "execute_result"
    }
   ],
   "source": [
    "p = Person('Kim')\n",
    "p"
   ]
  },
  {
   "cell_type": "code",
   "execution_count": 33,
   "id": "9a906cc5",
   "metadata": {},
   "outputs": [
    {
     "data": {
      "text/plain": [
       "'Kim'"
      ]
     },
     "execution_count": 33,
     "metadata": {},
     "output_type": "execute_result"
    }
   ],
   "source": [
    "str(p)"
   ]
  },
  {
   "cell_type": "code",
   "execution_count": 34,
   "id": "e3ff0ee0",
   "metadata": {},
   "outputs": [
    {
     "data": {
      "text/plain": [
       "'Person(Kim)'"
      ]
     },
     "execution_count": 34,
     "metadata": {},
     "output_type": "execute_result"
    }
   ],
   "source": [
    "repr(p)"
   ]
  },
  {
   "cell_type": "markdown",
   "id": "1e9fcbee",
   "metadata": {},
   "source": [
    "### namedtuple, dataclass\n",
    "- 변수만 있는 클래스 설정할 때 더 효율적으로 사용하는 수단\n",
    "- 딕셔너리 키와 값은 가능\n",
    "- 불변 객체 (replace는 가능 => 새로운 객체에 담음)"
   ]
  },
  {
   "cell_type": "code",
   "execution_count": 35,
   "id": "507f363f",
   "metadata": {},
   "outputs": [
    {
     "data": {
      "text/plain": [
       "'kim'"
      ]
     },
     "execution_count": 35,
     "metadata": {},
     "output_type": "execute_result"
    }
   ],
   "source": [
    "from collections import namedtuple\n",
    "\n",
    "Person = namedtuple('Person', 'name age')\n",
    "a = Person('kim', 33)\n",
    "a.name"
   ]
  },
  {
   "cell_type": "code",
   "execution_count": 36,
   "id": "31085ea2",
   "metadata": {},
   "outputs": [
    {
     "data": {
      "text/plain": [
       "33"
      ]
     },
     "execution_count": 36,
     "metadata": {},
     "output_type": "execute_result"
    }
   ],
   "source": [
    "a.age"
   ]
  },
  {
   "cell_type": "code",
   "execution_count": 37,
   "id": "c75ce0c3",
   "metadata": {},
   "outputs": [
    {
     "data": {
      "text/plain": [
       "Person(name='lee', age=33)"
      ]
     },
     "execution_count": 37,
     "metadata": {},
     "output_type": "execute_result"
    }
   ],
   "source": [
    "a._replace(name = 'lee')"
   ]
  },
  {
   "cell_type": "code",
   "execution_count": null,
   "id": "fbd69a66",
   "metadata": {},
   "outputs": [],
   "source": [
    "from dataclasses import dataclass\n",
    "\n",
    "@dataclass\n",
    "class Person:\n",
    "    name: str\n",
    "    age: int"
   ]
  },
  {
   "cell_type": "code",
   "execution_count": null,
   "id": "e0c03eae",
   "metadata": {},
   "outputs": [],
   "source": [
    "a = Person('kim', 33)"
   ]
  },
  {
   "cell_type": "code",
   "execution_count": null,
   "id": "925aedd5",
   "metadata": {},
   "outputs": [],
   "source": [
    "a.age"
   ]
  }
 ],
 "metadata": {
  "kernelspec": {
   "display_name": "Python 3 (ipykernel)",
   "language": "python",
   "name": "python3"
  },
  "language_info": {
   "codemirror_mode": {
    "name": "ipython",
    "version": 3
   },
   "file_extension": ".py",
   "mimetype": "text/x-python",
   "name": "python",
   "nbconvert_exporter": "python",
   "pygments_lexer": "ipython3",
   "version": "3.9.7"
  }
 },
 "nbformat": 4,
 "nbformat_minor": 5
}
