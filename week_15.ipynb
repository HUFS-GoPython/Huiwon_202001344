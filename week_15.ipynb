{
 "cells": [
  {
   "cell_type": "markdown",
   "id": "df0cc2e2",
   "metadata": {},
   "source": [
    "## week_15 | 2022.06.10"
   ]
  },
  {
   "cell_type": "markdown",
   "id": "2bf023b3",
   "metadata": {},
   "source": [
    "### 파일과 디렉터리\n",
    "- 파일: 컴퓨터를 실행할 때 가장 기본이 되는 단위\n",
    "- 디렉터리(=폴더): 파일을 논리적으로 묶어놓은 단위\n",
    "    - 직박구리: a, b, c.....\n",
    "- 파일 = 파일명 + 확장자(.txt, .csv, ...)\n",
    "    - 바이너리, 텍스트 파일\n",
    "    - 바이너리: 이진 정보로 저장된 파일\n",
    "        - 내용 확인 불가: 확장자에 해당하는 프로그램이 있어야 함 (엑셀, 워드)\n",
    "    - 텍스트: 바이너리 -> 텍스트(문자)로 변환\n",
    "        - 메모장, python, html, ...\n",
    "        - 기준: 아스키코드, 유니코드 제정 (\"인코딩\")\n",
    "        - utf-8\n",
    "        - cp494\n",
    "        \n",
    "- f = open(파일명, 모드)\n",
    "    - r: read (default)\n",
    "    - w: write (파일 이름 없으면 새로 만들고, 있으면 덮어쓴다)\n",
    "    - a: add (기존 파일의 마지막에 추가)\n",
    "    - x: write (없을 때만 쓸 수 있게, 덮어쓰기 방지)\n",
    "    \n",
    "    - 추가저인 모드\n",
    "    - b: 바이너리\n",
    "    - t: (default) 텍스트\n",
    "        - rb, rt, ... "
   ]
  },
  {
   "cell_type": "code",
   "execution_count": 4,
   "id": "74cc514c",
   "metadata": {},
   "outputs": [
    {
     "data": {
      "text/plain": [
       "'Hello'"
      ]
     },
     "execution_count": 4,
     "metadata": {},
     "output_type": "execute_result"
    }
   ],
   "source": [
    "f = open('test.txt', 'r') # open 하면 꼭 닫아야함\n",
    "f.read(5)"
   ]
  },
  {
   "cell_type": "code",
   "execution_count": 5,
   "id": "4215f71f",
   "metadata": {},
   "outputs": [
    {
     "data": {
      "text/plain": [
       "' worl'"
      ]
     },
     "execution_count": 5,
     "metadata": {},
     "output_type": "execute_result"
    }
   ],
   "source": [
    "f.read(5) # 앞에서 읽은 부분의 뒷 부분부터 출력"
   ]
  },
  {
   "cell_type": "code",
   "execution_count": 8,
   "id": "4003e406",
   "metadata": {},
   "outputs": [],
   "source": [
    "f = open('test.txt', 'r') # open 하면 꼭 닫아야함\n",
    "data = f.read()"
   ]
  },
  {
   "cell_type": "code",
   "execution_count": 9,
   "id": "34e27fff",
   "metadata": {},
   "outputs": [
    {
     "data": {
      "text/plain": [
       "'Hello world'"
      ]
     },
     "execution_count": 9,
     "metadata": {},
     "output_type": "execute_result"
    }
   ],
   "source": [
    "data"
   ]
  },
  {
   "cell_type": "code",
   "execution_count": 10,
   "id": "05c4416a",
   "metadata": {},
   "outputs": [],
   "source": [
    "f.close() # 자원 해제 -> 다른 프로그램에서 호출할 수 있기 때문에"
   ]
  },
  {
   "cell_type": "markdown",
   "id": "1690fe9e",
   "metadata": {},
   "source": [
    "- with open(파일이름, 모드명) as f:\n",
    "    - (tab) open 함수 기능이 유지되는 블록\n",
    "    - data = f.read() => data는 살아있는 변수\n",
    "- 파일은 자원 해체됨 (자동)"
   ]
  },
  {
   "cell_type": "code",
   "execution_count": 11,
   "id": "961bb6b9",
   "metadata": {},
   "outputs": [
    {
     "data": {
      "text/plain": [
       "'Hello world'"
      ]
     },
     "execution_count": 11,
     "metadata": {},
     "output_type": "execute_result"
    }
   ],
   "source": [
    "with open('test.txt', 'r') as f:\n",
    "    data = f.read()\n",
    "    \n",
    "data"
   ]
  },
  {
   "cell_type": "markdown",
   "id": "6b2fb2a6",
   "metadata": {},
   "source": [
    "### read() \n",
    "- read(): str\n",
    "- readline(): 한줄씩\n",
    "- readlines(): 전체를 한줄씩 str으로 담아서 리스트로"
   ]
  },
  {
   "cell_type": "code",
   "execution_count": 12,
   "id": "4e69d1b1",
   "metadata": {},
   "outputs": [
    {
     "data": {
      "text/plain": [
       "'Hello world\\n'"
      ]
     },
     "execution_count": 12,
     "metadata": {},
     "output_type": "execute_result"
    }
   ],
   "source": [
    "with open('test.txt', 'r') as f:\n",
    "    data = f.readline()\n",
    "    \n",
    "data"
   ]
  },
  {
   "cell_type": "code",
   "execution_count": 13,
   "id": "d9910660",
   "metadata": {},
   "outputs": [
    {
     "data": {
      "text/plain": [
       "['Hello world', \"I'm reading a book.\"]"
      ]
     },
     "execution_count": 13,
     "metadata": {},
     "output_type": "execute_result"
    }
   ],
   "source": [
    "with open('test.txt', 'r') as f:\n",
    "    data = f.readlines() # 텍스트 정제 (개행 정제)\n",
    "    data = [line.strip() for line in data] \n",
    "    \n",
    "data"
   ]
  },
  {
   "cell_type": "code",
   "execution_count": 14,
   "id": "83245db5",
   "metadata": {},
   "outputs": [
    {
     "ename": "FileNotFoundError",
     "evalue": "[Errno 2] No such file or directory: 'text2.txt'",
     "output_type": "error",
     "traceback": [
      "\u001b[1;31m---------------------------------------------------------------------------\u001b[0m",
      "\u001b[1;31mFileNotFoundError\u001b[0m                         Traceback (most recent call last)",
      "\u001b[1;32mC:\\Users\\WIN102~1\\AppData\\Local\\Temp/ipykernel_732/2414407425.py\u001b[0m in \u001b[0;36m<module>\u001b[1;34m\u001b[0m\n\u001b[0;32m      1\u001b[0m \u001b[0mfile\u001b[0m \u001b[1;33m=\u001b[0m \u001b[1;34m'text2.txt'\u001b[0m\u001b[1;33m\u001b[0m\u001b[1;33m\u001b[0m\u001b[0m\n\u001b[1;32m----> 2\u001b[1;33m \u001b[1;32mwith\u001b[0m \u001b[0mopen\u001b[0m\u001b[1;33m(\u001b[0m\u001b[0mfile\u001b[0m\u001b[1;33m)\u001b[0m \u001b[1;32mas\u001b[0m \u001b[0mf\u001b[0m\u001b[1;33m:\u001b[0m\u001b[1;33m\u001b[0m\u001b[1;33m\u001b[0m\u001b[0m\n\u001b[0m\u001b[0;32m      3\u001b[0m     \u001b[0mf\u001b[0m\u001b[1;33m.\u001b[0m\u001b[0mread\u001b[0m\u001b[1;33m(\u001b[0m\u001b[1;33m)\u001b[0m\u001b[1;33m\u001b[0m\u001b[1;33m\u001b[0m\u001b[0m\n",
      "\u001b[1;31mFileNotFoundError\u001b[0m: [Errno 2] No such file or directory: 'text2.txt'"
     ]
    }
   ],
   "source": [
    "file = 'text2.txt'\n",
    "with open(file) as f:\n",
    "    f.read()"
   ]
  },
  {
   "cell_type": "code",
   "execution_count": 15,
   "id": "876fd7d6",
   "metadata": {},
   "outputs": [
    {
     "name": "stderr",
     "output_type": "stream",
     "text": [
      "'pwd'은(는) 내부 또는 외부 명령, 실행할 수 있는 프로그램, 또는\n",
      "배치 파일이 아닙니다.\n"
     ]
    }
   ],
   "source": [
    "!pwd"
   ]
  },
  {
   "cell_type": "code",
   "execution_count": 16,
   "id": "9e1ba9ca",
   "metadata": {},
   "outputs": [],
   "source": [
    "# . : 현재 위치\n",
    "# .. : 상위 디텍터리\n",
    "\n",
    "file = '../text2.txt'\n",
    "with open(file) as f:\n",
    "    f.read()"
   ]
  },
  {
   "cell_type": "markdown",
   "id": "771c6f74",
   "metadata": {},
   "source": [
    "### 쓰기"
   ]
  },
  {
   "cell_type": "code",
   "execution_count": 17,
   "id": "574909a7",
   "metadata": {},
   "outputs": [],
   "source": [
    "file = 'text3.txt'\n",
    "f = open(file, 'w', encoding = 'utf-8') # text3.txt가 만들어짐"
   ]
  },
  {
   "cell_type": "code",
   "execution_count": 18,
   "id": "56f60313",
   "metadata": {},
   "outputs": [],
   "source": [
    "# 파일에 작성\n",
    "for i in range(10):\n",
    "    data = f'{i}번째 줄입니다.\\n'\n",
    "    f.write(data)"
   ]
  },
  {
   "cell_type": "code",
   "execution_count": 19,
   "id": "307bc49c",
   "metadata": {},
   "outputs": [],
   "source": [
    "f.close()"
   ]
  },
  {
   "cell_type": "code",
   "execution_count": 20,
   "id": "5f95ccf3",
   "metadata": {},
   "outputs": [],
   "source": [
    "f = open(file, 'a')\n",
    "print('새로운 줄 추가', file = f)"
   ]
  },
  {
   "cell_type": "code",
   "execution_count": 21,
   "id": "34d9488c",
   "metadata": {},
   "outputs": [],
   "source": [
    "f.close()"
   ]
  },
  {
   "cell_type": "markdown",
   "id": "7b07d04c",
   "metadata": {},
   "source": [
    "### 다른 디렉토리에 파일 쓰기\n",
    "- os 활용"
   ]
  },
  {
   "cell_type": "code",
   "execution_count": 32,
   "id": "b767703f",
   "metadata": {},
   "outputs": [],
   "source": [
    "import os"
   ]
  },
  {
   "cell_type": "code",
   "execution_count": 33,
   "id": "fd6e1ce9",
   "metadata": {},
   "outputs": [],
   "source": [
    "file = './folder1/text4.txt'\n",
    "f = open(file, 'w', encoding = 'utf-8')"
   ]
  },
  {
   "cell_type": "code",
   "execution_count": 34,
   "id": "7a711027",
   "metadata": {},
   "outputs": [
    {
     "ename": "FileExistsError",
     "evalue": "[WinError 183] 파일이 이미 있으므로 만들 수 없습니다: 'folder1'",
     "output_type": "error",
     "traceback": [
      "\u001b[1;31m---------------------------------------------------------------------------\u001b[0m",
      "\u001b[1;31mFileExistsError\u001b[0m                           Traceback (most recent call last)",
      "\u001b[1;32mC:\\Users\\WIN102~1\\AppData\\Local\\Temp/ipykernel_732/2543316372.py\u001b[0m in \u001b[0;36m<module>\u001b[1;34m\u001b[0m\n\u001b[0;32m      1\u001b[0m \u001b[1;31m# folder 만들고\u001b[0m\u001b[1;33m\u001b[0m\u001b[1;33m\u001b[0m\u001b[0m\n\u001b[1;32m----> 2\u001b[1;33m \u001b[0mos\u001b[0m\u001b[1;33m.\u001b[0m\u001b[0mmkdir\u001b[0m\u001b[1;33m(\u001b[0m\u001b[1;34m'folder1'\u001b[0m\u001b[1;33m)\u001b[0m\u001b[1;33m\u001b[0m\u001b[1;33m\u001b[0m\u001b[0m\n\u001b[0m\u001b[0;32m      3\u001b[0m \u001b[1;33m\u001b[0m\u001b[0m\n\u001b[0;32m      4\u001b[0m \u001b[1;31m# 파일 쓰기\u001b[0m\u001b[1;33m\u001b[0m\u001b[1;33m\u001b[0m\u001b[0m\n\u001b[0;32m      5\u001b[0m \u001b[0mfile\u001b[0m \u001b[1;33m=\u001b[0m \u001b[1;34m'./folder1/text4.txt'\u001b[0m\u001b[1;33m\u001b[0m\u001b[1;33m\u001b[0m\u001b[0m\n",
      "\u001b[1;31mFileExistsError\u001b[0m: [WinError 183] 파일이 이미 있으므로 만들 수 없습니다: 'folder1'"
     ]
    }
   ],
   "source": [
    "# folder 만들고\n",
    "os.mkdir('folder1')\n",
    "\n",
    "# 파일 쓰기\n",
    "file = './folder1/text4.txt'\n",
    "f = open(file, 'w', encoding = 'utf-8')"
   ]
  },
  {
   "cell_type": "code",
   "execution_count": 35,
   "id": "b637bd96",
   "metadata": {},
   "outputs": [],
   "source": [
    "# 없을 때 만들어라\n",
    "if not os.path.isdir('folder1'):\n",
    "    os.mkdir('folder1')"
   ]
  },
  {
   "cell_type": "code",
   "execution_count": 36,
   "id": "c0c793d6",
   "metadata": {},
   "outputs": [
    {
     "data": {
      "text/plain": [
       "True"
      ]
     },
     "execution_count": 36,
     "metadata": {},
     "output_type": "execute_result"
    }
   ],
   "source": [
    "# 없을 때 만들어라\n",
    "os.path.exists(file) # assert"
   ]
  },
  {
   "cell_type": "code",
   "execution_count": 37,
   "id": "c07d5dd1",
   "metadata": {},
   "outputs": [],
   "source": [
    "f.close()"
   ]
  },
  {
   "cell_type": "code",
   "execution_count": 39,
   "id": "2359404f",
   "metadata": {},
   "outputs": [
    {
     "ename": "FileNotFoundError",
     "evalue": "[WinError 2] 지정된 파일을 찾을 수 없습니다: './folder1/text4.txt'",
     "output_type": "error",
     "traceback": [
      "\u001b[1;31m---------------------------------------------------------------------------\u001b[0m",
      "\u001b[1;31mFileNotFoundError\u001b[0m                         Traceback (most recent call last)",
      "\u001b[1;32mC:\\Users\\WIN102~1\\AppData\\Local\\Temp/ipykernel_732/947589125.py\u001b[0m in \u001b[0;36m<module>\u001b[1;34m\u001b[0m\n\u001b[1;32m----> 1\u001b[1;33m \u001b[0mos\u001b[0m\u001b[1;33m.\u001b[0m\u001b[0mremove\u001b[0m\u001b[1;33m(\u001b[0m\u001b[0mfile\u001b[0m\u001b[1;33m)\u001b[0m\u001b[1;33m\u001b[0m\u001b[1;33m\u001b[0m\u001b[0m\n\u001b[0m\u001b[0;32m      2\u001b[0m \u001b[0mos\u001b[0m\u001b[1;33m.\u001b[0m\u001b[0mrmdir\u001b[0m\u001b[1;33m(\u001b[0m\u001b[0mfolder1\u001b[0m\u001b[1;33m)\u001b[0m\u001b[1;33m\u001b[0m\u001b[1;33m\u001b[0m\u001b[0m\n",
      "\u001b[1;31mFileNotFoundError\u001b[0m: [WinError 2] 지정된 파일을 찾을 수 없습니다: './folder1/text4.txt'"
     ]
    }
   ],
   "source": [
    "os.remove(file)\n",
    "os.rmdir(folder1)"
   ]
  },
  {
   "cell_type": "code",
   "execution_count": 40,
   "id": "47c6bbde",
   "metadata": {},
   "outputs": [],
   "source": [
    "import shutil\n",
    "shutil.rmtree('folder1') # 강제 삭제"
   ]
  },
  {
   "cell_type": "code",
   "execution_count": 41,
   "id": "2fd621be",
   "metadata": {},
   "outputs": [
    {
     "data": {
      "text/plain": [
       "'C:\\\\Users\\\\win102108\\\\Documents\\\\git'"
      ]
     },
     "execution_count": 41,
     "metadata": {},
     "output_type": "execute_result"
    }
   ],
   "source": [
    "os.getcwd()"
   ]
  },
  {
   "cell_type": "code",
   "execution_count": 42,
   "id": "69b36ccb",
   "metadata": {},
   "outputs": [
    {
     "data": {
      "text/plain": [
       "'C:\\\\Users\\\\win102108\\\\Documents'"
      ]
     },
     "execution_count": 42,
     "metadata": {},
     "output_type": "execute_result"
    }
   ],
   "source": [
    "# 상위폴더에 쓰고 싶다\n",
    "os.chdir('..') #디렉터리 change\n",
    "os.getcwd()"
   ]
  },
  {
   "cell_type": "code",
   "execution_count": 43,
   "id": "3595dfae",
   "metadata": {},
   "outputs": [
    {
     "data": {
      "text/plain": [
       "'C:\\\\Users\\\\win102108\\\\Documents'"
      ]
     },
     "execution_count": 43,
     "metadata": {},
     "output_type": "execute_result"
    }
   ],
   "source": [
    "os.chdir('.')\n",
    "os.getcwd()"
   ]
  },
  {
   "cell_type": "code",
   "execution_count": 44,
   "id": "17f6be7a",
   "metadata": {},
   "outputs": [],
   "source": [
    "# folder: 하위폴더_새로 만들고\n",
    "if not os.path.isdir('folder2'):\n",
    "    os.mkdir('folder2')\n",
    "\n",
    "file2 = './folder2/text4.txt'\n",
    "f = open(file2, 'w', encoding = 'utf-8')\n",
    "\n",
    "# 파일 쓰기: 내용 아무거나\n",
    "for i in range(10):\n",
    "    data = f'{i}번째 줄입니다.\\n'\n",
    "    f.write(data)\n",
    "    \n",
    "f.close()"
   ]
  },
  {
   "cell_type": "markdown",
   "id": "d1fbbaad",
   "metadata": {},
   "source": [
    "### pickle\n",
    "- 객체를 저장, 불러들일 수 있다.\n",
    "- 저장: pickle.dump(변수, 파일명)\n",
    "- 열때: 변수명 = pickle.load(파일)"
   ]
  },
  {
   "cell_type": "code",
   "execution_count": 45,
   "id": "07e28001",
   "metadata": {},
   "outputs": [],
   "source": [
    "import pickle"
   ]
  },
  {
   "cell_type": "code",
   "execution_count": 46,
   "id": "b01c4757",
   "metadata": {},
   "outputs": [
    {
     "data": {
      "text/plain": [
       "[0, 1, 2, 3, 4, 5, 6, 7, 8, 9]"
      ]
     },
     "execution_count": 46,
     "metadata": {},
     "output_type": "execute_result"
    }
   ],
   "source": [
    "num = list(range(10))\n",
    "num"
   ]
  },
  {
   "cell_type": "code",
   "execution_count": 47,
   "id": "bcdb580e",
   "metadata": {},
   "outputs": [],
   "source": [
    "f = open('text.pickle', 'wb') # 바이너리로 저장이기에 열 수 없음\n",
    "pickle.dump(num, f) # 저장할 때 dump\n",
    "f.close()"
   ]
  },
  {
   "cell_type": "code",
   "execution_count": 48,
   "id": "1cbd85bc",
   "metadata": {},
   "outputs": [],
   "source": [
    "with open('text.pickle', 'rb') as f:\n",
    "    number = pickle.load(f)"
   ]
  },
  {
   "cell_type": "markdown",
   "id": "850ddd87",
   "metadata": {},
   "source": [
    "기말고사 = task가 주어짐 -> model을 만들어라\n",
    "- 어떤 기능이 필요한지(예외...)\n",
    "- 기능이 구현이 됐는지가 중요\n",
    "- 코드가 돌아가는 지\n",
    "\n",
    "- 구구단 다시 공부 (루프 돌아가는 거 유용할 것)\n",
    "- 의사코드 말고, 독스트링은 한 줄 정도\n",
    "- 이름, 확장자를 정해 놓을 것 (파일)\n",
    "- 플랫폼은 eclass 과제로"
   ]
  }
 ],
 "metadata": {
  "kernelspec": {
   "display_name": "Python 3 (ipykernel)",
   "language": "python",
   "name": "python3"
  },
  "language_info": {
   "codemirror_mode": {
    "name": "ipython",
    "version": 3
   },
   "file_extension": ".py",
   "mimetype": "text/x-python",
   "name": "python",
   "nbconvert_exporter": "python",
   "pygments_lexer": "ipython3",
   "version": "3.9.7"
  }
 },
 "nbformat": 4,
 "nbformat_minor": 5
}
