{
 "cells": [
  {
   "cell_type": "markdown",
   "id": "b377f21e",
   "metadata": {},
   "source": [
    "## WEEK_05 (2022-04-01(금))"
   ]
  },
  {
   "cell_type": "code",
   "execution_count": 115,
   "id": "056dd888",
   "metadata": {
    "scrolled": true
   },
   "outputs": [
    {
     "data": {
      "text/plain": [
       "True"
      ]
     },
     "execution_count": 115,
     "metadata": {},
     "output_type": "execute_result"
    }
   ],
   "source": [
    "import nltk\n",
    "from nltk.book import * # book말고도 다른 거 다 다운받아 놓음\n",
    "nltk.download('book', quiet = True)"
   ]
  },
  {
   "cell_type": "markdown",
   "id": "ee7f821e",
   "metadata": {},
   "source": [
    "### Exercise 1\n",
    "1. text6에서 길이가 4자 이하인 알파벳 중 ie를 포함하는 단어를 단어 개수로 출력\n",
    "    - 예: I have a car -> [1, 3, 4, 3]\n",
    "    - 그냥 list comprehension으로 담아도 상관 없음"
   ]
  },
  {
   "cell_type": "code",
   "execution_count": 3,
   "id": "304a4cfe",
   "metadata": {},
   "outputs": [
    {
     "data": {
      "text/plain": [
       "23"
      ]
     },
     "execution_count": 3,
     "metadata": {},
     "output_type": "execute_result"
    }
   ],
   "source": [
    "#1\n",
    "len([w for w in text6 if len(w) <= 4 and ('ie' in w)])"
   ]
  },
  {
   "cell_type": "markdown",
   "id": "a097bfbc",
   "metadata": {},
   "source": [
    "### Exercise 2\n",
    "2. text2에서 ch로 끝나는 단어를 출력하는데 \n",
    "    - 중복없고\n",
    "    - 첫 글자와 ch 남기고 가운데는 모두 -로 가려라\n",
    "        - 예: much -> m-ch\n",
    "            - ch로 시작하면 바꾸면 안됨\n",
    "    - 정렬:\n",
    "        - 문자 길이로 정렬하기"
   ]
  },
  {
   "cell_type": "code",
   "execution_count": 5,
   "id": "83549b0f",
   "metadata": {},
   "outputs": [
    {
     "name": "stdout",
     "output_type": "stream",
     "text": [
      "i-ch\n",
      "E-ch\n",
      "b--ch\n",
      "p--ch\n",
      "W--ch\n",
      "b---ch\n",
      "s---ch\n",
      "e---ch\n",
      "s----ch\n",
      "s----ch\n",
      "s----ch\n",
      "d-----ch\n"
     ]
    }
   ],
   "source": [
    "# 좋지 않은 예\n",
    "token = [w for (w, count) in FreqDist(text2).items()\n",
    "    if count == 1 and w.endswith('ch')]\n",
    "\n",
    "sorted_token = sorted(token, key = len)\n",
    "sorted_token\n",
    "\n",
    "for i in range (len(sorted_token)):\n",
    "    print(sorted_token[i][0] + '-' * len(sorted_token[i][:-3]) + 'ch')"
   ]
  },
  {
   "cell_type": "code",
   "execution_count": 25,
   "id": "31342e40",
   "metadata": {},
   "outputs": [
    {
     "name": "stdout",
     "output_type": "stream",
     "text": [
      "r-ch\n",
      "i-ch\n",
      "e-ch\n",
      "s-ch\n",
      "m-ch\n",
      "m--ch\n",
      "c--ch\n",
      "t--ch\n",
      "p--ch\n",
      "w--ch\n",
      "w--ch\n",
      "r--ch\n",
      "c--ch\n",
      "t--ch\n",
      "m--ch\n",
      "f--ch\n",
      "b--ch\n",
      "b---ch\n",
      "c---ch\n",
      "s---ch\n",
      "s---ch\n",
      "a---ch\n",
      "e---ch\n",
      "b---ch\n",
      "s---ch\n",
      "s----ch\n",
      "s----ch\n",
      "s----ch\n",
      "d-----ch\n",
      "d-----ch\n",
      "r-----ch\n",
      "a-----ch\n"
     ]
    }
   ],
   "source": [
    "# 수정 : 리스트 컴프리헨션\n",
    "# 주의 ! 중복을 없앨 때는 소문자화 후에 !\n",
    "words = sorted(set([w.lower() for w in text2 if w.endswith('ch')]), key = len)\n",
    "\n",
    "for i in range (len(words)):\n",
    "    print(words[i][0] + '-' * len(words[i][:-3]) + 'ch')"
   ]
  },
  {
   "cell_type": "markdown",
   "id": "f266ef52",
   "metadata": {},
   "source": [
    "## Chapter 6\n",
    "\n",
    "## 반복문\n",
    "- for, while\n",
    "\n",
    "### while\n",
    "- 어떤 `조건`이 만족할 때까지 블록 수행\n",
    "- 해당 조건지 거짓이면 수행을 멈춘다\n",
    "    - 언제 빠져나오는지 정확히 알아야 한다.\n",
    "- for + if\n",
    "\n",
    "#### for vs. while\n",
    "- for loop: 반복 횟수 정확히 알고, 반복 횟수 변하지 않을 때\n",
    "    - 예: 전체 학생 성적 산출\n",
    "-  while loop : 반복 횟수 정확하지 않고, 어떤 조건 만족시킬 때 프로그램 종료하고 싶다면 사용\n",
    "    - 예: 가위바위보로 이기면 종료"
   ]
  },
  {
   "cell_type": "code",
   "execution_count": 6,
   "id": "d442258c",
   "metadata": {},
   "outputs": [
    {
     "name": "stdout",
     "output_type": "stream",
     "text": [
      "0\n",
      "1\n",
      "2\n",
      "3\n",
      "4\n",
      "5\n",
      "6\n",
      "7\n",
      "8\n",
      "9\n"
     ]
    }
   ],
   "source": [
    "for i in range(10):\n",
    "    print(i)"
   ]
  },
  {
   "cell_type": "code",
   "execution_count": 1,
   "id": "70a648d7",
   "metadata": {},
   "outputs": [],
   "source": [
    "#동일\n",
    "#1\n",
    "# [word for word in text1.tokens]\n",
    "\n",
    "#2\n",
    "# for word in text1.tokens:\n",
    "    # print(word)"
   ]
  },
  {
   "cell_type": "code",
   "execution_count": 13,
   "id": "ee2e2f51",
   "metadata": {},
   "outputs": [
    {
     "name": "stdout",
     "output_type": "stream",
     "text": [
      "0\n",
      "1\n",
      "2\n",
      "3\n",
      "4\n"
     ]
    }
   ],
   "source": [
    "j = 0 # 항상 초기화 하는 작업이 필요\n",
    "while j < 5: # (셋번째) 0, 1, 2, 3, 4, 5가 되면 false\n",
    "    print(j) # (첫번째) 0, 1, 2, 3, 4\n",
    "    j += 1   # (두번째) 1, 2, 3, 4, 5"
   ]
  },
  {
   "cell_type": "code",
   "execution_count": 14,
   "id": "79a4fc6d",
   "metadata": {},
   "outputs": [
    {
     "data": {
      "text/plain": [
       "5"
      ]
     },
     "execution_count": 14,
     "metadata": {},
     "output_type": "execute_result"
    }
   ],
   "source": [
    "# j값은?\n",
    "j"
   ]
  },
  {
   "cell_type": "code",
   "execution_count": 3,
   "id": "5145235b",
   "metadata": {},
   "outputs": [
    {
     "name": "stdout",
     "output_type": "stream",
     "text": [
      "1\n",
      "2\n",
      "3\n",
      "4\n",
      "5\n"
     ]
    }
   ],
   "source": [
    "j = 0 # 항상 초기화 하는 작업이 필요\n",
    "while j < 5: # 0, 1, 2 ,4\n",
    "    # print(j) # 0, 1, 2,, 4\n",
    "    j += 1 # 1, 2, 3, 4, 5\n",
    "    print(j)"
   ]
  },
  {
   "cell_type": "code",
   "execution_count": 2,
   "id": "216c2a6e",
   "metadata": {},
   "outputs": [
    {
     "name": "stdout",
     "output_type": "stream",
     "text": [
      "a\n",
      "b\n",
      "c\n",
      "a\n",
      "b\n",
      "c\n"
     ]
    }
   ],
   "source": [
    "# for문 방법\n",
    "characters = ['a', 'b','c']\n",
    "for ch in characters:\n",
    "    print(ch)\n",
    "\n",
    "#while문 방법\n",
    "ch = 0 \n",
    "characters = ['a', 'b','c']\n",
    "\n",
    "while ch < len(characters):\n",
    "    print(characters[ch])\n",
    "    ch += 1"
   ]
  },
  {
   "cell_type": "markdown",
   "id": "d067b314",
   "metadata": {},
   "source": [
    "### 반복문의 제어\n",
    "- 의도치 않게 코드를 종료시킬 수 있기 때문에 되도록 사용하지 않는다\n",
    "- break: 논리적으로 반복을 종료시키는 방법. break 시점을 잘 알아야 함\n",
    "- else: 어떤 조건히 '완전히' 끝났을 때 한 번 더 실행하는 블록. break로 끝난 것과 구분할 수 있다.\n",
    "- continue: 특정 조건을 건너뛰고 다음 조건을 수행함"
   ]
  },
  {
   "cell_type": "code",
   "execution_count": 29,
   "id": "a64045cf",
   "metadata": {},
   "outputs": [
    {
     "name": "stdout",
     "output_type": "stream",
     "text": [
      "0\n",
      "1\n",
      "2\n",
      "3\n",
      "4\n"
     ]
    }
   ],
   "source": [
    "# for문 break\n",
    "for i in range(10):\n",
    "    if i == 5: break\n",
    "    print(i)\n",
    "\n",
    "# 5는 break 되기 때문에 출력 안된다"
   ]
  },
  {
   "cell_type": "code",
   "execution_count": 31,
   "id": "42d6d7ef",
   "metadata": {},
   "outputs": [
    {
     "name": "stdout",
     "output_type": "stream",
     "text": [
      "0\n",
      "1\n",
      "2\n",
      "3\n",
      "4\n"
     ]
    }
   ],
   "source": [
    "# while문 break\n",
    "j = 0\n",
    "while j < 5:\n",
    "    print(j)\n",
    "    if j == 4: break\n",
    "    j += 1"
   ]
  },
  {
   "cell_type": "code",
   "execution_count": 34,
   "id": "25f46310",
   "metadata": {},
   "outputs": [
    {
     "name": "stdout",
     "output_type": "stream",
     "text": [
      "0\n",
      "1\n",
      "2\n",
      "3\n",
      "4\n",
      "5\n",
      "6\n",
      "7\n",
      "8\n",
      "9\n",
      "ended\n"
     ]
    }
   ],
   "source": [
    "# for문 else\n",
    "\n",
    "# else 블럭에 포함된 수행문은\n",
    "# for 반복문이 반복형의 마지막 요소까지 모두 반복했을 경우 그 다음에 수행된다\n",
    "# 즉, 모든 반복이 성공적으로 수행된 경우에 한 번 수행된다.\n",
    "# 하지만 break문을 만나면 else 구문은 수행되지 않고 for 블럭을 완전히 빠져나간다.\n",
    "\n",
    "for i in range(10):\n",
    "    if i == 16:\n",
    "        break\n",
    "    print(i)\n",
    "else:\n",
    "    print(\"ended\")"
   ]
  },
  {
   "cell_type": "code",
   "execution_count": 35,
   "id": "661ee4f0",
   "metadata": {},
   "outputs": [
    {
     "name": "stdout",
     "output_type": "stream",
     "text": [
      "0\n",
      "1\n",
      "2\n",
      "3\n",
      "4\n"
     ]
    }
   ],
   "source": [
    "# break 문을 만나서 else 구문은 수행되지 않고 for문을 빠져나옴\n",
    "# ended 출력 안됨\n",
    "\n",
    "for i in range(10):\n",
    "    if i == 5:\n",
    "        break\n",
    "    print(i)\n",
    "else:\n",
    "    print(\"ended\")"
   ]
  },
  {
   "cell_type": "code",
   "execution_count": 37,
   "id": "31617631",
   "metadata": {},
   "outputs": [
    {
     "name": "stdout",
     "output_type": "stream",
     "text": [
      "0\n",
      "1\n",
      "2\n",
      "3\n",
      "4\n",
      "ended\n"
     ]
    }
   ],
   "source": [
    "# while문 else\n",
    "\n",
    "j = 0\n",
    "while j < 5:\n",
    "    print(j)\n",
    "    if j == 16: break\n",
    "    j += 1\n",
    "else:\n",
    "    print('ended')"
   ]
  },
  {
   "cell_type": "code",
   "execution_count": 39,
   "id": "64611564",
   "metadata": {},
   "outputs": [
    {
     "name": "stdout",
     "output_type": "stream",
     "text": [
      "0\n",
      "1\n",
      "2\n",
      "3\n",
      "4\n",
      "5\n",
      "7\n",
      "8\n",
      "9\n",
      "ended\n"
     ]
    }
   ],
   "source": [
    "# Continue\n",
    "\n",
    "for i in range(10):\n",
    "    if i == 6:\n",
    "        continue\n",
    "    print(i)\n",
    "else:\n",
    "    print(\"ended\")\n",
    "    \n",
    "# 6만빼고 수행"
   ]
  },
  {
   "cell_type": "markdown",
   "id": "f8446d07",
   "metadata": {},
   "source": [
    "### 구구단\n",
    "- 1. for, while 선택한 뒤, n단을 입력받아서 n단을 출력한다.\n",
    "     - 출력: == 3단 ==\n",
    "             3 X 1 = 3\n",
    "             ...\n",
    "             3 X 9 = 27\n",
    "\n",
    "- 2. 1 ~ n단까지 출력한다.\n",
    "\n",
    "- 3. 시작단, 끝단 둘 다 입력받을 것\n",
    "    - 예: 4 ~ 7단\n",
    "    - 시작단이 끝단보다 작을 때 어떻게 처리할지\n",
    "    \n",
    "- 4. 프로그램으로 만든다. (메뉴를 선택해서)\n",
    "    - 1) n단 출력 2) 1~ n단출력, 3) n부터 m단"
   ]
  },
  {
   "cell_type": "code",
   "execution_count": 51,
   "id": "ebe1cd1a",
   "metadata": {},
   "outputs": [
    {
     "name": "stdout",
     "output_type": "stream",
     "text": [
      "단을 입력하시오: 3\n",
      "== 3단 ==\n",
      "3 X 1 = 3\n",
      "3 X 2 = 6\n",
      "3 X 3 = 9\n",
      "3 X 4 = 12\n",
      "3 X 5 = 15\n",
      "3 X 6 = 18\n",
      "3 X 7 = 21\n",
      "3 X 8 = 24\n",
      "3 X 9 = 27\n"
     ]
    }
   ],
   "source": [
    "#1. while 문으로....\n",
    "\n",
    "num = int(input(\"단을 입력하시오: \"))\n",
    "print(f'== {num}단 ==')\n",
    "\n",
    "i = 1\n",
    "while i < 10:\n",
    "    print(f'{num} X {i} = {num * i}')\n",
    "    i += 1"
   ]
  },
  {
   "cell_type": "code",
   "execution_count": 87,
   "id": "22969f2e",
   "metadata": {},
   "outputs": [
    {
     "name": "stdout",
     "output_type": "stream",
     "text": [
      "몇단까지 출력할까요: 1\n",
      "== 1단 ==\n",
      "1 X 1 = 1\n",
      "1 X 2 = 2\n",
      "1 X 3 = 3\n",
      "1 X 4 = 4\n",
      "1 X 5 = 5\n",
      "1 X 6 = 6\n",
      "1 X 7 = 7\n",
      "1 X 8 = 8\n",
      "1 X 9 = 9\n"
     ]
    }
   ],
   "source": [
    "#2\n",
    "n = int(input(\"몇단까지 출력할까요: \"))\n",
    "  \n",
    "for i in range(1, n+1):\n",
    "    print(f'== {i}단 ==')\n",
    "    for k in range(1, 10):\n",
    "        print(f'{i} X {k} = {i * k}')"
   ]
  },
  {
   "cell_type": "code",
   "execution_count": 90,
   "id": "8fa8fdd4",
   "metadata": {},
   "outputs": [
    {
     "name": "stdout",
     "output_type": "stream",
     "text": [
      "시작단을 입력하시오: 1\n",
      "끝을 입력하시오: 1\n",
      "== 1단 ==\n",
      "1 X 1 = 1\n",
      "1 X 2 = 2\n",
      "1 X 3 = 3\n",
      "1 X 4 = 4\n",
      "1 X 5 = 5\n",
      "1 X 6 = 6\n",
      "1 X 7 = 7\n",
      "1 X 8 = 8\n",
      "1 X 9 = 9\n"
     ]
    }
   ],
   "source": [
    "#3. 시작단이 끝단보다 클 때 !! (중요)\n",
    "i, k = 0, 0\n",
    "\n",
    "i = int(input(\"시작단을 입력하시오: \"))\n",
    "n = int(input(\"끝을 입력하시오: \"))\n",
    "\n",
    "while True:\n",
    "    if i <= n:\n",
    "        for i in range(i, n+1):\n",
    "            print(f'== {i}단 ==')\n",
    "            for k in range(1, 10):\n",
    "                print(f'{i} X {k} = {i * k}')\n",
    "        break\n",
    "                \n",
    "    elif i > n:\n",
    "        print('시작단이 끝단보다 큽니다. 다시 입력하시오')\n",
    "        i = int(input(\"시작단을 입력하시오: \"))\n",
    "        n = int(input(\"끝을 입력하시오: \"))"
   ]
  },
  {
   "cell_type": "code",
   "execution_count": 104,
   "id": "8dc6de59",
   "metadata": {},
   "outputs": [
    {
     "name": "stdout",
     "output_type": "stream",
     "text": [
      "실행할 메뉴를 선택하시오. 1번(n단), 2번(1 ~ n단), 3번(n부터 m단))1번\n",
      "몇단을 출력할까요: 1\n",
      "== 1단 ==\n",
      "1 X 1 = 1\n",
      "1 X 2 = 2\n",
      "1 X 3 = 3\n",
      "1 X 4 = 4\n",
      "1 X 5 = 5\n",
      "1 X 6 = 6\n",
      "1 X 7 = 7\n",
      "1 X 8 = 8\n",
      "1 X 9 = 9\n"
     ]
    }
   ],
   "source": [
    "# 4. 프로그램으로 만든다. (메뉴를 선택해서)\n",
    "# 1) n단 출력 2) 1~ n단출력, 3) n부터 m단\n",
    "\n",
    "button = input(\"실행할 메뉴를 선택하시오. 1번(n단), 2번(1 ~ n단), 3번(n부터 m단))\")\n",
    "\n",
    "while True:\n",
    "    if button == \"1번\":\n",
    "        num = int(input(\"몇단을 출력할까요: \"))\n",
    "        print(f'== {num}단 ==')\n",
    "        \n",
    "        i = 1\n",
    "        while i < 10:\n",
    "            print(f'{num} X {i} = {num * i}')\n",
    "            i += 1\n",
    "        break\n",
    "\n",
    "    elif button == \"2번\":\n",
    "        n = int(input(\"몇단까지 출력할까요: \"))\n",
    "        for i in range(1, n+1):\n",
    "            print(f'== {i}단 ==')\n",
    "            for k in range(1, 10):\n",
    "                print(f'{i} X {k} = {i * k}')\n",
    "        break\n",
    "\n",
    "    elif button == \"3번\":\n",
    "        i, k = 0, 0\n",
    "        i = int(input(\"시작단을 입력하시오: \"))\n",
    "        n = int(input(\"끝을 입력하시오: \"))\n",
    "\n",
    "        while True:\n",
    "            if i <= n:\n",
    "                for i in range(i, n+1):\n",
    "                    print(f'== {i}단 ==')\n",
    "                    for k in range(1, 10):\n",
    "                        print(f'{i} X {k} = {i * k}')\n",
    "                break\n",
    "\n",
    "            elif i > n:\n",
    "                print('시작단이 끝단보다 큽니다. 다시 입력하시오')\n",
    "                i = int(input(\"시작단을 입력하시오: \"))\n",
    "                n = int(input(\"끝을 입력하시오: \"))\n",
    "        break\n",
    "                \n",
    "    else:\n",
    "        print(\"1번, 2번, 3번 중에 선택하시오\")\n",
    "        button = input(\"실행할 메뉴를 선택하시오. 1번(n단), 2번(1 ~ n단), 3번(n부터 m단))\")"
   ]
  },
  {
   "cell_type": "markdown",
   "id": "0022e7ab",
   "metadata": {},
   "source": [
    "### print formatting\n",
    "- 1. f string\n",
    "    - f, F 둘다 사용 가능\n",
    "    - f'{var}'\n",
    "\n",
    "- 2. format\n",
    "    - '{}'.format(variable)\n",
    "\n",
    "- 3. %\n",
    "    - ' % type' % variable"
   ]
  },
  {
   "cell_type": "code",
   "execution_count": 106,
   "id": "4f6b43c3",
   "metadata": {},
   "outputs": [
    {
     "name": "stdout",
     "output_type": "stream",
     "text": [
      "나의 이름은 lee\n"
     ]
    }
   ],
   "source": [
    "name = 'lee'\n",
    "print(f'나의 이름은 {name}')"
   ]
  },
  {
   "cell_type": "code",
   "execution_count": 107,
   "id": "8db5081d",
   "metadata": {},
   "outputs": [
    {
     "name": "stdout",
     "output_type": "stream",
     "text": [
      "나의 이름은 l\n"
     ]
    }
   ],
   "source": [
    "print('나의 이름은 {:.1s}'.format(name)) #소수점 출력 시 활용"
   ]
  },
  {
   "cell_type": "code",
   "execution_count": 108,
   "id": "f9ebd113",
   "metadata": {},
   "outputs": [
    {
     "name": "stdout",
     "output_type": "stream",
     "text": [
      "나의 이름은 lee입니다\n"
     ]
    }
   ],
   "source": [
    "print('나의 이름은 %s입니다' % name)"
   ]
  },
  {
   "cell_type": "code",
   "execution_count": 111,
   "id": "e75fc54e",
   "metadata": {},
   "outputs": [
    {
     "name": "stdout",
     "output_type": "stream",
     "text": [
      "나의 이름은 name = 'lee'!!!!\n"
     ]
    }
   ],
   "source": [
    "# 변수이름까지 같이 출력\n",
    "print(f'나의 이름은 {name = }!!!!')"
   ]
  },
  {
   "cell_type": "markdown",
   "id": "6012be72",
   "metadata": {},
   "source": [
    "## NLTK Corpus\n",
    "\n",
    "- 다양한 종류의 코퍼스가 있음\n",
    "- 더 다양한 언어 분석이 가능\n",
    "- 종류\n",
    "    - gutenberg - 저작권이 만료된 문학작품\n",
    "    - brown\n",
    "    - inaugural\n",
    "\n",
    "- 함수\n",
    "    - words()\n",
    "    - sents()\n",
    "    - fileids() : 구텐버그 테마를 파일 아이디로 찾음\n",
    "    - raw()"
   ]
  },
  {
   "cell_type": "code",
   "execution_count": 136,
   "id": "d7a5b53b",
   "metadata": {},
   "outputs": [
    {
     "data": {
      "text/plain": [
       "True"
      ]
     },
     "execution_count": 136,
     "metadata": {},
     "output_type": "execute_result"
    }
   ],
   "source": [
    "import nltk\n",
    "from nltk.corpus import gutenberg\n",
    "nltk.download('gutenberg', quiet = True)"
   ]
  },
  {
   "cell_type": "code",
   "execution_count": 119,
   "id": "bb784a2b",
   "metadata": {},
   "outputs": [
    {
     "data": {
      "text/plain": [
       "['[', 'Emma', 'by', 'Jane', 'Austen', '1816', ']', ...]"
      ]
     },
     "execution_count": 119,
     "metadata": {},
     "output_type": "execute_result"
    }
   ],
   "source": [
    "# book에서는 token으로 접근\n",
    "gutenberg.words()"
   ]
  },
  {
   "cell_type": "code",
   "execution_count": 120,
   "id": "84c3c410",
   "metadata": {},
   "outputs": [
    {
     "data": {
      "text/plain": [
       "['austen-emma.txt',\n",
       " 'austen-persuasion.txt',\n",
       " 'austen-sense.txt',\n",
       " 'bible-kjv.txt',\n",
       " 'blake-poems.txt',\n",
       " 'bryant-stories.txt',\n",
       " 'burgess-busterbrown.txt',\n",
       " 'carroll-alice.txt',\n",
       " 'chesterton-ball.txt',\n",
       " 'chesterton-brown.txt',\n",
       " 'chesterton-thursday.txt',\n",
       " 'edgeworth-parents.txt',\n",
       " 'melville-moby_dick.txt',\n",
       " 'milton-paradise.txt',\n",
       " 'shakespeare-caesar.txt',\n",
       " 'shakespeare-hamlet.txt',\n",
       " 'shakespeare-macbeth.txt',\n",
       " 'whitman-leaves.txt']"
      ]
     },
     "execution_count": 120,
     "metadata": {},
     "output_type": "execute_result"
    }
   ],
   "source": [
    "gutenberg.fileids()"
   ]
  },
  {
   "cell_type": "code",
   "execution_count": 126,
   "id": "a6078657",
   "metadata": {},
   "outputs": [
    {
     "name": "stdout",
     "output_type": "stream",
     "text": [
      "['[', 'Emma', 'by', 'Jane', 'Austen', '1816', ']', ...]\n",
      "['[', 'Emma', 'by', 'Jane', 'Austen', '1816', ']', ...]\n"
     ]
    }
   ],
   "source": [
    "#  각 파일 접근 방법\n",
    "print(gutenberg.words('austen-emma.txt'))\n",
    "\n",
    "# 각 파일 접근 방법 (파일 여러개 -> 리스트로)\n",
    "print(gutenberg.words(['austen-emma.txt', 'austen-persuasion.txt']))"
   ]
  },
  {
   "cell_type": "code",
   "execution_count": 132,
   "id": "d9a1853e",
   "metadata": {},
   "outputs": [
    {
     "name": "stdout",
     "output_type": "stream",
     "text": [
      "austen-emma의 글자는 887071개, 단어는 887071개, 문장은 7752개\n",
      "austen-persuasion의 글자는 466292개, 단어는 466292개, 문장은 3747개\n",
      "austen-sense의 글자는 673022개, 단어는 673022개, 문장은 4999개\n",
      "bible-kjv의 글자는 4332554개, 단어는 4332554개, 문장은 30103개\n",
      "blake-poems의 글자는 38153개, 단어는 38153개, 문장은 438개\n",
      "bryant-stories의 글자는 249439개, 단어는 249439개, 문장은 2863개\n",
      "burgess-busterbrown의 글자는 84663개, 단어는 84663개, 문장은 1054개\n",
      "carroll-alice의 글자는 144395개, 단어는 144395개, 문장은 1703개\n",
      "chesterton-ball의 글자는 457450개, 단어는 457450개, 문장은 4779개\n",
      "chesterton-brown의 글자는 406629개, 단어는 406629개, 문장은 3806개\n",
      "chesterton-thursday의 글자는 320525개, 단어는 320525개, 문장은 3742개\n",
      "edgeworth-parents의 글자는 935158개, 단어는 935158개, 문장은 10230개\n",
      "melville-moby_dick의 글자는 1242990개, 단어는 1242990개, 문장은 10059개\n",
      "milton-paradise의 글자는 468220개, 단어는 468220개, 문장은 1851개\n",
      "shakespeare-caesar의 글자는 112310개, 단어는 112310개, 문장은 2163개\n",
      "shakespeare-hamlet의 글자는 162881개, 단어는 162881개, 문장은 3106개\n",
      "shakespeare-macbeth의 글자는 100351개, 단어는 100351개, 문장은 1907개\n",
      "whitman-leaves의 글자는 711215개, 단어는 711215개, 문장은 4250개\n"
     ]
    }
   ],
   "source": [
    "# 구텐버그의 각 파일을 돌아가면서 글자수, 단어수, 문장수를 출력.\n",
    "\n",
    "for file in gutenberg.fileids():\n",
    "    num_raws = len(gutenberg.raw(file))\n",
    "    num_words = len(gutenberg.words(file))\n",
    "    num_sents = len(gutenberg.sents(file))\n",
    "    print(f'{file[:-4]}의 글자는 {num_raws}개, 단어는 {num_raws}개, 문장은 {num_sents}개')"
   ]
  },
  {
   "cell_type": "code",
   "execution_count": 149,
   "id": "43dae1f7",
   "metadata": {},
   "outputs": [
    {
     "data": {
      "text/plain": [
       "4"
      ]
     },
     "execution_count": 149,
     "metadata": {},
     "output_type": "execute_result"
    }
   ],
   "source": [
    "corpus1 = gutenberg.words('austen-emma.txt')\n",
    "fdist = nltk.FreqDist([w.lower() for w in corpus1])\n",
    "fdist['tree']"
   ]
  },
  {
   "cell_type": "markdown",
   "id": "cf9eaf21",
   "metadata": {},
   "source": [
    "## nltk.book 관련"
   ]
  },
  {
   "cell_type": "code",
   "execution_count": 138,
   "id": "7e301752",
   "metadata": {},
   "outputs": [],
   "source": [
    "# nltk.book text 1 ~ 9 까지\n",
    "texts = [text1, 2, 3, ...,]"
   ]
  },
  {
   "cell_type": "code",
   "execution_count": null,
   "id": "b116a1d1",
   "metadata": {},
   "outputs": [],
   "source": [
    "#1. text 1 ~ 9를 str으로 만든다."
   ]
  },
  {
   "cell_type": "code",
   "execution_count": 139,
   "id": "dbf126df",
   "metadata": {},
   "outputs": [
    {
     "data": {
      "text/plain": [
       "['text1',\n",
       " 'text2',\n",
       " 'text3',\n",
       " 'text4',\n",
       " 'text5',\n",
       " 'text6',\n",
       " 'text7',\n",
       " 'text8',\n",
       " 'text9']"
      ]
     },
     "execution_count": 139,
     "metadata": {},
     "output_type": "execute_result"
    }
   ],
   "source": [
    "texts = [f'text{i}' for i in range(1, 10)]\n",
    "texts"
   ]
  },
  {
   "cell_type": "code",
   "execution_count": 142,
   "id": "185b0670",
   "metadata": {},
   "outputs": [],
   "source": [
    "#2. 'text1'에 기능을 부여한다 (text1는 기능이 있고, 'text1'은 그냥 str)\n",
    "# getattr(library name, string name)"
   ]
  },
  {
   "cell_type": "code",
   "execution_count": 144,
   "id": "5be70607",
   "metadata": {},
   "outputs": [
    {
     "data": {
      "text/plain": [
       "[<Text: Moby Dick by Herman Melville 1851>,\n",
       " <Text: Sense and Sensibility by Jane Austen 1811>,\n",
       " <Text: The Book of Genesis>,\n",
       " <Text: Inaugural Address Corpus>,\n",
       " <Text: Chat Corpus>,\n",
       " <Text: Monty Python and the Holy Grail>,\n",
       " <Text: Wall Street Journal>,\n",
       " <Text: Personals Corpus>,\n",
       " <Text: The Man Who Was Thursday by G . K . Chesterton 1908>]"
      ]
     },
     "execution_count": 144,
     "metadata": {},
     "output_type": "execute_result"
    }
   ],
   "source": [
    "texts = [getattr(nltk.book, f'text{i}') for i in range(1, 10)]\n",
    "texts"
   ]
  },
  {
   "cell_type": "markdown",
   "id": "abf961af",
   "metadata": {},
   "source": [
    "### Brown\n",
    "- categories()\n",
    "    - gutenberg와 똑같지만 카테고리가 있다"
   ]
  },
  {
   "cell_type": "code",
   "execution_count": 167,
   "id": "9e98915f",
   "metadata": {},
   "outputs": [
    {
     "name": "stderr",
     "output_type": "stream",
     "text": [
      "[nltk_data] Downloading package brown to\n",
      "[nltk_data]     C:\\Users\\win102108\\AppData\\Roaming\\nltk_data...\n",
      "[nltk_data]   Package brown is already up-to-date!\n"
     ]
    }
   ],
   "source": [
    "from nltk.corpus import brown\n",
    "nltk.download('brown') # 다운 받은 후\n",
    "brown_corpus = nltk.corpus.brown #이름설정"
   ]
  },
  {
   "cell_type": "code",
   "execution_count": 168,
   "id": "0bae65fe",
   "metadata": {},
   "outputs": [
    {
     "data": {
      "text/plain": [
       "['adventure',\n",
       " 'belles_lettres',\n",
       " 'editorial',\n",
       " 'fiction',\n",
       " 'government',\n",
       " 'hobbies',\n",
       " 'humor',\n",
       " 'learned',\n",
       " 'lore',\n",
       " 'mystery',\n",
       " 'news',\n",
       " 'religion',\n",
       " 'reviews',\n",
       " 'romance',\n",
       " 'science_fiction']"
      ]
     },
     "execution_count": 168,
     "metadata": {},
     "output_type": "execute_result"
    }
   ],
   "source": [
    "brown_corpus.categories()"
   ]
  },
  {
   "cell_type": "code",
   "execution_count": 164,
   "id": "94fe28c8",
   "metadata": {},
   "outputs": [
    {
     "data": {
      "text/plain": [
       "['It', 'was', 'among', 'these', 'that', 'Hinkle', ...]"
      ]
     },
     "execution_count": 164,
     "metadata": {},
     "output_type": "execute_result"
    }
   ],
   "source": [
    "humor = brown_corpus.words(categories = 'humor')\n",
    "humor"
   ]
  },
  {
   "cell_type": "code",
   "execution_count": 165,
   "id": "85ead8ff",
   "metadata": {},
   "outputs": [
    {
     "name": "stdout",
     "output_type": "stream",
     "text": [
      "can 17\n",
      "could 33\n",
      "may 8\n",
      "will 13\n",
      "might 8\n",
      "would 56\n"
     ]
    }
   ],
   "source": [
    "# modal verbs의 쓰임\n",
    "modals = ['can', 'could', 'may', 'will', 'might', 'would']\n",
    "\n",
    "fdist_brown = nltk.FreqDist([w.lower() for w in humor])\n",
    "\n",
    "for verb in modals:\n",
    "    print(verb, fdist_brown[verb])"
   ]
  },
  {
   "cell_type": "markdown",
   "id": "688d3e5d",
   "metadata": {},
   "source": [
    "### conditional frequency distribution (CFD)\n",
    "- 조건이 붙은 fdist"
   ]
  },
  {
   "cell_type": "code",
   "execution_count": 173,
   "id": "090fa2ea",
   "metadata": {},
   "outputs": [],
   "source": [
    "# 카테고리(장르)에 따른 fdist\n",
    "cfd = nltk.ConditionalFreqDist(\n",
    "    (genre, word.lower())\n",
    "    for genre in brown_corpus.categories()\n",
    "    for word in brown_corpus.words(categories = genre))"
   ]
  },
  {
   "cell_type": "code",
   "execution_count": 177,
   "id": "2c01958c",
   "metadata": {},
   "outputs": [
    {
     "data": {
      "text/plain": [
       "1027"
      ]
     },
     "execution_count": 177,
     "metadata": {},
     "output_type": "execute_result"
    }
   ],
   "source": [
    "cfd['humor']['the']"
   ]
  },
  {
   "cell_type": "code",
   "execution_count": 179,
   "id": "93f84309",
   "metadata": {},
   "outputs": [
    {
     "data": {
      "text/plain": [
       "[(',', 1331), ('the', 1027), ('.', 877), ('and', 529), ('a', 523)]"
      ]
     },
     "execution_count": 179,
     "metadata": {},
     "output_type": "execute_result"
    }
   ],
   "source": [
    "cfd['humor'].most_common(5)"
   ]
  },
  {
   "cell_type": "code",
   "execution_count": 180,
   "id": "d981d591",
   "metadata": {},
   "outputs": [
    {
     "name": "stdout",
     "output_type": "stream",
     "text": [
      "                 can could   may  will might would \n",
      "     adventure    48   154     7    51    59   194 \n",
      "belles_lettres   249   216   221   246   113   397 \n",
      "     editorial   124    57    79   235    39   185 \n"
     ]
    }
   ],
   "source": [
    "cfd.tabulate(conditions = brown_corpus.categories()[:3], samples = modals)"
   ]
  }
 ],
 "metadata": {
  "kernelspec": {
   "display_name": "Python 3 (ipykernel)",
   "language": "python",
   "name": "python3"
  },
  "language_info": {
   "codemirror_mode": {
    "name": "ipython",
    "version": 3
   },
   "file_extension": ".py",
   "mimetype": "text/x-python",
   "name": "python",
   "nbconvert_exporter": "python",
   "pygments_lexer": "ipython3",
   "version": "3.9.7"
  }
 },
 "nbformat": 4,
 "nbformat_minor": 5
}
