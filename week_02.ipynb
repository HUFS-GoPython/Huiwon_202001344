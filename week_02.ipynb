{
 "cells": [
  {
   "cell_type": "markdown",
   "id": "e585bb66",
   "metadata": {},
   "source": [
    "### [ 2주차_고급파이썬프로그래밍_2022.03.11(금) ]"
   ]
  },
  {
   "cell_type": "markdown",
   "id": "83cbbb78",
   "metadata": {},
   "source": [
    "## Chapter 2. Variables 이어서"
   ]
  },
  {
   "cell_type": "markdown",
   "id": "3f029f78",
   "metadata": {},
   "source": [
    "1. 자료형 변환하기 (int, str, float, bool)\n",
    "- 자료형 이름으로 감싸준다"
   ]
  },
  {
   "cell_type": "code",
   "execution_count": 1,
   "id": "b2c7d312",
   "metadata": {},
   "outputs": [
    {
     "data": {
      "text/plain": [
       "int"
      ]
     },
     "execution_count": 1,
     "metadata": {},
     "output_type": "execute_result"
    }
   ],
   "source": [
    "a = 10\n",
    "type(a)"
   ]
  },
  {
   "cell_type": "code",
   "execution_count": 2,
   "id": "8ec4e2e6",
   "metadata": {},
   "outputs": [
    {
     "name": "stdout",
     "output_type": "stream",
     "text": [
      "10.0\n",
      "True\n",
      "10\n",
      "88.3\n"
     ]
    }
   ],
   "source": [
    "# int -> float\n",
    "print(float(a))\n",
    "\n",
    "# int -> bool\n",
    "print(bool(10))\n",
    "\n",
    "# float -> int (정수형으로 변환시 소수점 이하 값이 버려진다)\n",
    "print(int(10.6))\n",
    "\n",
    "# str -> int\n",
    "p = \"88.3\"\n",
    "# 주의 : str이 int 타입과 맞아야 한다\n",
    "# 오답 : int(p) -> p는 int 타입이 아닌 float 타입이기에 에러가 발행한다\n",
    "\n",
    "print(float(p))"
   ]
  },
  {
   "cell_type": "markdown",
   "id": "ca715c17",
   "metadata": {},
   "source": [
    "꿀팁"
   ]
  },
  {
   "cell_type": "code",
   "execution_count": 3,
   "id": "1a037e69",
   "metadata": {},
   "outputs": [
    {
     "name": "stdout",
     "output_type": "stream",
     "text": [
      "orange apple tomato\n",
      "the next line\n"
     ]
    }
   ],
   "source": [
    "# default : 아이템들 간 띄어써지며, 줄바꾸기가 들어감\n",
    "print('orange', 'apple', 'tomato')\n",
    "print('the next line')"
   ]
  },
  {
   "cell_type": "code",
   "execution_count": 4,
   "id": "314659c3",
   "metadata": {},
   "outputs": [
    {
     "name": "stdout",
     "output_type": "stream",
     "text": [
      "orangeappletomato\n",
      "orange apple tomato\n",
      "orange_apple_tomato\n",
      "\n",
      "5\n"
     ]
    }
   ],
   "source": [
    "# 붙여쓰고 싶을 때\n",
    "orange = \"orange\"\n",
    "apple = \"apple\"\n",
    "tomato = \"tomato\"\n",
    "\n",
    "print(orange + apple + tomato) # 연결 가능하지만, 원소 간 공백 사라짐\n",
    "print(orange, apple, tomato, sep=' ', end='\\n') #default\n",
    "print(orange, apple, tomato, sep='_', end='\\n\\n')\n",
    "\n",
    "# 라인이 짧을 때 : 세미콜론 사용하여 한 줄로\n",
    "num = 5 ; print(num)"
   ]
  },
  {
   "cell_type": "markdown",
   "id": "efc7afbf",
   "metadata": {},
   "source": [
    "2. input()"
   ]
  },
  {
   "cell_type": "code",
   "execution_count": 5,
   "id": "baf0c315",
   "metadata": {},
   "outputs": [
    {
     "name": "stdout",
     "output_type": "stream",
     "text": [
      "what's your name?23\n",
      "23\n"
     ]
    }
   ],
   "source": [
    "name = input(\"what's your name?\")\n",
    "print(name)"
   ]
  },
  {
   "cell_type": "markdown",
   "id": "943560a9",
   "metadata": {},
   "source": [
    "input을 str이 아닌 다른 타입으로 사용하고 싶을 땐 = 미리 형 변환해준다"
   ]
  },
  {
   "cell_type": "code",
   "execution_count": 6,
   "id": "303b80b5",
   "metadata": {},
   "outputs": [
    {
     "name": "stdout",
     "output_type": "stream",
     "text": [
      "How old are you?23\n",
      "23\n",
      "<class 'str'>\n",
      "How old are you23\n",
      "23\n",
      "<class 'int'>\n"
     ]
    }
   ],
   "source": [
    "age = input(\"How old are you?\")\n",
    "print(age)\n",
    "print(type(age)) # 형 변환 하지 않음\n",
    "\n",
    "age2 = int(input(\"How old are you\"))\n",
    "print(age2)\n",
    "print(type(age2)) # 형 변환 시킴 (str -> int)"
   ]
  },
  {
   "cell_type": "markdown",
   "id": "6f68d9b1",
   "metadata": {},
   "source": [
    "str과 변수가 들어갈 때 좋은 printing 방법"
   ]
  },
  {
   "cell_type": "code",
   "execution_count": 7,
   "id": "9de49105",
   "metadata": {},
   "outputs": [
    {
     "name": "stdout",
     "output_type": "stream",
     "text": [
      "당신이 태어난 해는 2000입니다.\n"
     ]
    }
   ],
   "source": [
    "# print(f'{variables})\n",
    "print(f'당신이 태어난 해는 {2022 - age2 + 1}입니다.')"
   ]
  },
  {
   "cell_type": "markdown",
   "id": "ab08158c",
   "metadata": {},
   "source": [
    "### Quiz 1\n",
    "\n",
    "- 택배 정보 입력받고 무게에 따른 값 산정하기\n",
    "\n",
    "    - 수취인 성명:\n",
    "    - 수취인 주소:\n",
    "    - 배송비: 3000원\n",
    "    - 물건 비용: <계산된 값>\n",
    "    - 총 합계: <계산된 값> 원\n",
    " \n",
    "- 물건 비용은 무게(g) * 5\n",
    "- 입력 값 = 이름, 주소, 무게"
   ]
  },
  {
   "cell_type": "code",
   "execution_count": 8,
   "id": "8f242278",
   "metadata": {},
   "outputs": [
    {
     "name": "stdout",
     "output_type": "stream",
     "text": [
      "수취인 성명min\n",
      "수취인 주소a동\n",
      "무게(g)100\n",
      "\n",
      "\n",
      "수취인 성명: min\n",
      "수취인 주소: a동\n",
      "배송비: 3000원\n",
      "물건 비용: 500\n",
      "\n",
      "\n",
      "총 합계: 3500\n"
     ]
    }
   ],
   "source": [
    "name = input(\"수취인 성명\")\n",
    "address = input(\"수취인 주소\")\n",
    "weight = int(input(\"무게(g)\"))\n",
    "print(\"\\n\")\n",
    "\n",
    "print(f'수취인 성명: {name}')\n",
    "print(f'수취인 주소: {address}')\n",
    "print(\"배송비: 3000원\")\n",
    "print(f'물건 비용: {weight * 5}')\n",
    "print(\"\\n\")\n",
    "\n",
    "print(f'총 합계: {3000 + weight * 5}')"
   ]
  },
  {
   "cell_type": "code",
   "execution_count": 9,
   "id": "b644a687",
   "metadata": {},
   "outputs": [
    {
     "name": "stdout",
     "output_type": "stream",
     "text": [
      "수취인 성명 min\n",
      "수취인 주소 a동\n",
      "무게(g) 100\n",
      "수취인 성명: min\n",
      "수취인 주소: a동\n",
      "배송비: 3000\n",
      "물건 비용: 500\n",
      "총 합계: 3500\n"
     ]
    }
   ],
   "source": [
    "# 더 좋은 방법\n",
    "\n",
    "# 정해진 '배송비'를 변수로 받는 것이 좋음\n",
    "name = input(\"수취인 성명 \")\n",
    "address = input(\"수취인 주소 \")\n",
    "weight = int(input(\"무게(g) \"))\n",
    "delivery_cost = 3000\n",
    "\n",
    "print(f'수취인 성명: {name}')\n",
    "print(f'수취인 주소: {address}')\n",
    "print(f'배송비: {delivery_cost}')\n",
    "print(f'물건 비용: {weight * 5}')\n",
    "print(f'총 합계: {delivery_cost + weight * 5}')"
   ]
  },
  {
   "cell_type": "markdown",
   "id": "60f68d47",
   "metadata": {},
   "source": [
    "## Chapter 3. Numbers"
   ]
  },
  {
   "cell_type": "markdown",
   "id": "e7d8c860",
   "metadata": {},
   "source": [
    "Boolean\n",
    "\n",
    "- true / false\n",
    "- if문에서 주로 사용 (조건식) : \"만약 어떤 값이 True면...\""
   ]
  },
  {
   "cell_type": "code",
   "execution_count": 10,
   "id": "6e389ee2",
   "metadata": {},
   "outputs": [
    {
     "name": "stdout",
     "output_type": "stream",
     "text": [
      "True\n",
      "True\n",
      "False\n",
      "\n",
      "\n",
      "False\n",
      "False\n",
      "True\n"
     ]
    }
   ],
   "source": [
    "# 0을 제외한 숫자는 True\n",
    "\n",
    "print(bool(1))\n",
    "print(bool(-1))\n",
    "print(bool(0))\n",
    "print(\"\\n\")\n",
    "\n",
    "print(bool(None)) # 공백은 False\n",
    "print(bool())\n",
    "print(bool('apple')) # 문장은 True"
   ]
  },
  {
   "cell_type": "markdown",
   "id": "0922bc52",
   "metadata": {},
   "source": [
    "Integer\n",
    "\n",
    "- 분수나 소수가 아닌 '정수'\n",
    "- 음수는 '-' 기호를 붙인다: i.e., -50\n",
    "- default = 양수\n",
    "- 숫자 앞에는 0을 쓰지 못한다. i.e., 09\n",
    "    - 0bxx (10진수가 아닌 경우에는 가능)\n",
    "   "
   ]
  },
  {
   "cell_type": "code",
   "execution_count": 11,
   "id": "92548853",
   "metadata": {},
   "outputs": [
    {
     "name": "stdout",
     "output_type": "stream",
     "text": [
      "100 0\n",
      "100000\n"
     ]
    }
   ],
   "source": [
    "# 숫자 사이에 쉼표를 쓰면 오류\n",
    "print(100, 000) # 두개의 원소로 봄\n",
    "print(100_000) # 숫자 사이의 언더바는 인식하지 않는다"
   ]
  },
  {
   "cell_type": "markdown",
   "id": "1734fde3",
   "metadata": {},
   "source": [
    "Operator\n",
    "- 연산자 | +, -, *, /\n",
    "- 피연산자 | operand : 1, 2, ..\n",
    "- 수식 | expression"
   ]
  },
  {
   "cell_type": "code",
   "execution_count": 12,
   "id": "5509928e",
   "metadata": {},
   "outputs": [
    {
     "name": "stdout",
     "output_type": "stream",
     "text": [
      "13\n",
      "5\n",
      "36\n",
      "2.25\n",
      "6561\n"
     ]
    }
   ],
   "source": [
    "x = 9\n",
    "y = 4\n",
    "\n",
    "#연산\n",
    "print(x + y)\n",
    "print(x - y)\n",
    "print(x * y)\n",
    "print(x / y) # division by zero = 항시 유의\n",
    "print(x ** y) # 거듭제곱 | expotential"
   ]
  },
  {
   "cell_type": "code",
   "execution_count": 13,
   "id": "c83a30c1",
   "metadata": {},
   "outputs": [
    {
     "name": "stdout",
     "output_type": "stream",
     "text": [
      "2.25\n",
      "2\n",
      "1\n"
     ]
    }
   ],
   "source": [
    "# 암기할 것!\n",
    "\n",
    "print(x / y) # 결과물\n",
    "print(x // y) # 몫 (소수점 아래 버림)\n",
    "print(x % y) # 나머지"
   ]
  },
  {
   "cell_type": "code",
   "execution_count": 14,
   "id": "49a1274b",
   "metadata": {},
   "outputs": [
    {
     "data": {
      "text/plain": [
       "(2, 1)"
      ]
     },
     "execution_count": 14,
     "metadata": {},
     "output_type": "execute_result"
    }
   ],
   "source": [
    "divmod(x, y) # (몫, 나머지) -> 튜플형식"
   ]
  },
  {
   "cell_type": "code",
   "execution_count": 15,
   "id": "d5f987fc",
   "metadata": {},
   "outputs": [
    {
     "data": {
      "text/plain": [
       "13"
      ]
     },
     "execution_count": 15,
     "metadata": {},
     "output_type": "execute_result"
    }
   ],
   "source": [
    "# 숫자 사이의 공백은 무시가 됨\n",
    "1 + 2 +           + 10"
   ]
  },
  {
   "cell_type": "markdown",
   "id": "7637e938",
   "metadata": {},
   "source": [
    "복합 대입 연산자 | compound assignment operator"
   ]
  },
  {
   "cell_type": "code",
   "execution_count": 16,
   "id": "2cc23c73",
   "metadata": {},
   "outputs": [
    {
     "name": "stdout",
     "output_type": "stream",
     "text": [
      "9\n",
      "6\n"
     ]
    }
   ],
   "source": [
    "# 잘못된 예\n",
    "x + 5\n",
    "x - 3\n",
    "print(x)\n",
    "\n",
    "#1. x - 3 계산\n",
    "#2. temp = x - 3 (임시변수에 담는다)\n",
    "#3. x = temp\n",
    "x = x - 3\n",
    "print(x)"
   ]
  },
  {
   "cell_type": "code",
   "execution_count": 17,
   "id": "3e625dd7",
   "metadata": {},
   "outputs": [
    {
     "name": "stdout",
     "output_type": "stream",
     "text": [
      "13\n",
      "10\n",
      "30\n",
      "10.0\n",
      "3.0\n",
      "81.0\n"
     ]
    }
   ],
   "source": [
    "# 복합 대입 연산자를 활용 -> 더 단순한 형태로\n",
    "\n",
    "x = 10\n",
    "x += 3\n",
    "# x = x + 3\n",
    "print(x)\n",
    "\n",
    "x -= 3\n",
    "# x = x - 3\n",
    "print(x)\n",
    "\n",
    "x *= 3\n",
    "# x = x * 3\n",
    "print(x)\n",
    "\n",
    "x /= 3\n",
    "# x = x / 3\n",
    "print(x)\n",
    "\n",
    "x //= 3\n",
    "# x = x / 3하여 나온 몫 (소수점 이하를 버림)\n",
    "print(x)\n",
    "\n",
    "x **= 4\n",
    "# x = x의 4제곱\n",
    "print(x)"
   ]
  },
  {
   "cell_type": "markdown",
   "id": "ae0dc77c",
   "metadata": {},
   "source": [
    "Quiz 1.\n",
    "- 반지름을 입력 받아서 원의 면적 구하기\n",
    "- 면접 = pi * r제곱"
   ]
  },
  {
   "cell_type": "code",
   "execution_count": 18,
   "id": "11ae150c",
   "metadata": {},
   "outputs": [
    {
     "name": "stdout",
     "output_type": "stream",
     "text": [
      "반지름의 길이: 3\n",
      "원의 면적은 28.274328입니다.\n"
     ]
    }
   ],
   "source": [
    "pi = 3.141592\n",
    "radius = float(input(\"반지름의 길이: \"))\n",
    "area = pi * (radius ** 2)\n",
    "\n",
    "print(f'원의 면적은 {area}입니다.')"
   ]
  },
  {
   "cell_type": "markdown",
   "id": "1ab219ae",
   "metadata": {},
   "source": [
    "Quiz 2.\n",
    "- 숫자를 입력 받고 3의 배수인지 확인하기\n",
    "- 숫자를 입력받고 홀수인지 확인하기"
   ]
  },
  {
   "cell_type": "code",
   "execution_count": 19,
   "id": "9368a074",
   "metadata": {},
   "outputs": [
    {
     "name": "stdout",
     "output_type": "stream",
     "text": [
      "숫자를 입력하시오: 10\n",
      "3의 배수가 아닙니다.\n",
      "짝수 입니다.\n"
     ]
    }
   ],
   "source": [
    "num = int(input(\"숫자를 입력하시오: \"))\n",
    "\n",
    "# Quiz 2-1\n",
    "\n",
    "if num % 3 == 0:\n",
    "  print(\"3의 배수가 맞습니다.\")\n",
    "else:\n",
    "  print (\"3의 배수가 아닙니다.\")\n",
    "\n",
    "\n",
    "# Quiz 2-2\n",
    "\n",
    "if num % 2 == 0:\n",
    "  print(\"짝수 입니다.\")\n",
    "else:\n",
    "  print(\"홀수 입니다.\")"
   ]
  },
  {
   "cell_type": "markdown",
   "id": "650570b1",
   "metadata": {},
   "source": [
    "지수 표현\n",
    "- e의 앞부분은 '소수, 정수' 둘 다 가능\n",
    "- 뒷부분은 정수여야 됨\n",
    "- 뒷부분이 음수면 소수점 자릿수를 의미\n",
    "- 대소문자 관계없이 e, E 둘다 사용 가능\n",
    "- 예: '1.0e04'"
   ]
  },
  {
   "cell_type": "code",
   "execution_count": 20,
   "id": "299b0a69",
   "metadata": {},
   "outputs": [
    {
     "name": "stdout",
     "output_type": "stream",
     "text": [
      "10000.0\n",
      "0.0001\n",
      "0.0004005\n"
     ]
    }
   ],
   "source": [
    "print(1.0e4)\n",
    "print(1.0e-4)\n",
    "print(4005.0e-7)"
   ]
  },
  {
   "cell_type": "markdown",
   "id": "a3e9909c",
   "metadata": {},
   "source": [
    "### Chapter 3 _ 연습문제\n",
    "\n",
    "- 3.1 1시간은 몇 초인가?\n",
    "    - 대화식 인터프리터를 계산기로 사용해서 1시간(60분)에 1분(60초)을 곱하기\n",
    "- 3.2 계산한 결과를 seconds_per_hour 변수에 저장  \n",
    "\n",
    "- 3.3 1일은 몇 초인가? seconds_per_hour 변수를 사용\n",
    "- 3.4 계산한 결과를 seconds_per_day 변수에 저장  \n",
    "\n",
    "- 3.5 부동소수점(/) 나눗셈을 사용해서 seconds_per_day를 seconds_per_hour로 나누기\n",
    "- 3.6 정수(//) 나눗셈을 사용해서 seconds_per_day를 seconds_per_hour로 나누기. 3.5 문제 결과에서 본 .0 부분을 제외하고 결과가 같은가?"
   ]
  },
  {
   "cell_type": "code",
   "execution_count": 34,
   "id": "37bd478e",
   "metadata": {},
   "outputs": [
    {
     "name": "stdout",
     "output_type": "stream",
     "text": [
      "24.0\n",
      "24\n"
     ]
    }
   ],
   "source": [
    "seconds_per_hour = 60 * 60\n",
    "seconds_per_day = seconds_per_hour * 24\n",
    "\n",
    "print(seconds_per_day / seconds_per_hour)\n",
    "print(seconds_per_day // seconds_per_hour)"
   ]
  },
  {
   "cell_type": "code",
   "execution_count": 36,
   "id": "7a3ee57d",
   "metadata": {},
   "outputs": [],
   "source": [
    "#3.6\n",
    "# 3.5 문제 결과와 비교했을 때 .0 (소수점 이하 부분)을 제외하고 같은 결과"
   ]
  },
  {
   "cell_type": "markdown",
   "id": "f64301f5",
   "metadata": {},
   "source": [
    "### Chapter 4. If 조건문\n"
   ]
  },
  {
   "cell_type": "markdown",
   "id": "a19246f1",
   "metadata": {},
   "source": [
    "[ 코드 짜는 팁 ]"
   ]
  },
  {
   "cell_type": "markdown",
   "id": "c169a303",
   "metadata": {},
   "source": [
    "1. 주석 달기 : `#`\n",
    "- '#' : hash, sharp, ...\n",
    "- '#' : 시작지점부터 라인 끝까지가 주석 처리됨\n",
    "- \"\"\" \"\"\" : 긴 주석\n",
    "- 주석을 다는 이유 : '의미' 외 전달사항이 있을 때 (의도, 오류 표현 등)\n",
    "    - 코드에 대한 설명을 하려하는 것이 아니다\n",
    "    - 코드만 봐도 의도가 전달되는 것이 좋음"
   ]
  },
  {
   "cell_type": "code",
   "execution_count": 21,
   "id": "0b83ef68",
   "metadata": {},
   "outputs": [
    {
     "name": "stdout",
     "output_type": "stream",
     "text": [
      "3\n"
     ]
    }
   ],
   "source": [
    "a = 3 #주석입니다\n",
    "\"\"\"\n",
    "주석1\n",
    "주석2\n",
    "\"\"\"\n",
    "print(a)"
   ]
  },
  {
   "cell_type": "code",
   "execution_count": 22,
   "id": "91c3dd76",
   "metadata": {},
   "outputs": [
    {
     "name": "stdout",
     "output_type": "stream",
     "text": [
      "hey, there #\n"
     ]
    }
   ],
   "source": [
    "# 문자열 안에 있는 sharp는 부호로 인식한다\n",
    "print('hey, there #')"
   ]
  },
  {
   "cell_type": "markdown",
   "id": "afb73c2b",
   "metadata": {},
   "source": [
    "2. 라인 유지하기 : `\\`\n",
    "- 들여쓰기 ( default = space 4개, 탭을 이용해서)\n",
    "- 논리 구조를 나타내기 때문에 굉장히 중요\n",
    "- 한 줄에 80자 정도 (넘어가면 백슬래시로 라인을 끊어준다 `\\`)\n",
    "    -  주의할 점\n",
    "        - 백슬래시 입력 후 -> 다음 줄에 계속 입력\n",
    "        - 줄 끝에 \\ 입력하면 여전히 같은 줄로 인식"
   ]
  },
  {
   "cell_type": "code",
   "execution_count": 23,
   "id": "2135a974",
   "metadata": {},
   "outputs": [
    {
     "name": "stdout",
     "output_type": "stream",
     "text": [
      "<built-in function sum>\n"
     ]
    },
    {
     "ename": "TypeError",
     "evalue": "unsupported operand type(s) for +: 'int' and 'NoneType'",
     "output_type": "error",
     "traceback": [
      "\u001b[1;31m---------------------------------------------------------------------------\u001b[0m",
      "\u001b[1;31mTypeError\u001b[0m                                 Traceback (most recent call last)",
      "\u001b[1;32mC:\\Users\\WIN102~1\\AppData\\Local\\Temp/ipykernel_7996/560074425.py\u001b[0m in \u001b[0;36m<module>\u001b[1;34m\u001b[0m\n\u001b[1;32m----> 1\u001b[1;33m \u001b[0msum\u001b[0m \u001b[1;33m=\u001b[0m \u001b[1;36m1\u001b[0m \u001b[1;33m+\u001b[0m\u001b[0;31m \u001b[0m\u001b[0;31m\\\u001b[0m\u001b[1;33m\u001b[0m\u001b[1;33m\u001b[0m\u001b[0m\n\u001b[0m\u001b[0;32m      2\u001b[0m \u001b[0mprint\u001b[0m\u001b[1;33m(\u001b[0m\u001b[0msum\u001b[0m\u001b[1;33m)\u001b[0m\u001b[1;33m\u001b[0m\u001b[1;33m\u001b[0m\u001b[0m\n",
      "\u001b[1;31mTypeError\u001b[0m: unsupported operand type(s) for +: 'int' and 'NoneType'"
     ]
    }
   ],
   "source": [
    "sum = 1 + \\\n",
    "print(sum)"
   ]
  },
  {
   "cell_type": "code",
   "execution_count": 24,
   "id": "712627cd",
   "metadata": {},
   "outputs": [
    {
     "name": "stdout",
     "output_type": "stream",
     "text": [
      "3\n"
     ]
    }
   ],
   "source": [
    "sum = 1 + \\\n",
    "2\n",
    "print(sum)"
   ]
  },
  {
   "cell_type": "markdown",
   "id": "5fdc8d45",
   "metadata": {},
   "source": [
    "IF\n",
    "- 뒤에 붙는 따옴표(:) 이전에 띄어쓰기 하지 말 것\n",
    "\n",
    "1) if문  \n",
    "\n",
    "if <조건식>:  \n",
    "<실행할 코드>\n",
    "\n",
    "2) if - else  \n",
    "\n",
    "if <조건식>:  \n",
    "  <실행할 코드1>  \n",
    "else:  \n",
    "  <실행할 코드2>\n",
    "  \n",
    "3) 조건이 2개 이상일 때 (if - elif - else)\n",
    "\n",
    "if <조건식1>:  \n",
    "  <실행할 코드1>  \n",
    "elif <조건식2>:  \n",
    "  <실행할 코드2>  \n",
    "else:  \n",
    "  <실행할 코드3>  "
   ]
  },
  {
   "cell_type": "code",
   "execution_count": 25,
   "id": "be513482",
   "metadata": {},
   "outputs": [
    {
     "name": "stdout",
     "output_type": "stream",
     "text": [
      "두 수는 같지않다\n"
     ]
    }
   ],
   "source": [
    "if  3 != 1:\n",
    "  print(\"두 수는 같지않다\")"
   ]
  },
  {
   "cell_type": "code",
   "execution_count": 26,
   "id": "24352865",
   "metadata": {},
   "outputs": [
    {
     "name": "stdout",
     "output_type": "stream",
     "text": [
      "두 수는 같지않다\n"
     ]
    }
   ],
   "source": [
    "if  3 != 1:\n",
    "  print(\"두 수는 같지않다\")\n",
    "else:\n",
    "  print(\"두 수가 같다\")"
   ]
  },
  {
   "cell_type": "code",
   "execution_count": 27,
   "id": "1746835d",
   "metadata": {},
   "outputs": [
    {
     "name": "stdout",
     "output_type": "stream",
     "text": [
      "3보다 크다\n"
     ]
    }
   ],
   "source": [
    "a = 4\n",
    "\n",
    "if a < 3:\n",
    "  print(\"3보다 작다\")\n",
    "elif a == 3:\n",
    "  print(\"3이다\")\n",
    "else:\n",
    "  print(\"3보다 크다\")"
   ]
  },
  {
   "cell_type": "code",
   "execution_count": 28,
   "id": "b3c38adc",
   "metadata": {},
   "outputs": [],
   "source": [
    "# 틀린 예 (if만을 사용한 경우)\n",
    "if a < 3:\n",
    "  print(\"3보다 작다\")\n",
    "\n",
    "if a == 3:\n",
    "  print(\"3이다\")\n",
    "\n",
    "if a > 4:\n",
    "  print(\"3보다 크다\")\n",
    "\n",
    "# 각각 별개의 조건문으로 판별됨\n",
    "# 답이 없는 것으로 처리됨"
   ]
  },
  {
   "cell_type": "markdown",
   "id": "41b9c3e5",
   "metadata": {},
   "source": [
    "비교연산자\n",
    "\n",
    "    x < y\n",
    "    x > y\n",
    "    x >= y\n",
    "    x <= y\n",
    "    x == y (값이 다른 것)\n",
    "    x != y\n",
    "    x is y (값, 메모리 주소)\n",
    "    x is not y"
   ]
  },
  {
   "cell_type": "markdown",
   "id": "847bbd21",
   "metadata": {},
   "source": [
    "Quiz\n",
    "\n",
    "4.1. 시험 점수를 입력 받고, 90점 이상이면 true, 아니면 false 반환하기"
   ]
  },
  {
   "cell_type": "code",
   "execution_count": 29,
   "id": "d6a74225",
   "metadata": {},
   "outputs": [
    {
     "name": "stdout",
     "output_type": "stream",
     "text": [
      "시험점수를 입력하시오: 100\n",
      "True\n"
     ]
    }
   ],
   "source": [
    "exam_score = float(input(\"시험점수를 입력하시오: \"))\n",
    "\n",
    "if exam_score >= 90:\n",
    "  print(\"True\")\n",
    "else:\n",
    "  print(\"False\")"
   ]
  },
  {
   "cell_type": "markdown",
   "id": "fbc5fb4a",
   "metadata": {},
   "source": [
    "4.2 시험 점수를 입력 받고, 95점 이상 A+, 90점 이상 A, 85점 이상 B+, 나머지 F로 출력하세요."
   ]
  },
  {
   "cell_type": "code",
   "execution_count": 30,
   "id": "11862b47",
   "metadata": {},
   "outputs": [
    {
     "name": "stdout",
     "output_type": "stream",
     "text": [
      "시험점수를 입력하시오: 70\n",
      "F\n"
     ]
    }
   ],
   "source": [
    "exam_score = float(input(\"시험점수를 입력하시오: \"))\n",
    "\n",
    "if exam_score >= 95:\n",
    "  print(\"A+\")\n",
    "elif exam_score >= 90:\n",
    "  print(\"A\")\n",
    "elif exam_score >= 85:\n",
    "  print(\"B+\")\n",
    "else:\n",
    "  print(\"F\")"
   ]
  },
  {
   "cell_type": "markdown",
   "id": "41d682a3",
   "metadata": {},
   "source": [
    "### chapter 4 _ 연습문제\n",
    "4.1.\n",
    "- 1~10 사이의 숫자를 선택해 secret 변수에 할당하고, 다른 숫자를 선택해 guess 변수에 할당\n",
    "- if, elif, else 문을 사용해 guess 변수가 secret 변수보다 작으면 'too low', 크면 'too high', 일치하면 'just right' 출력"
   ]
  },
  {
   "cell_type": "code",
   "execution_count": 31,
   "id": "6024e836",
   "metadata": {},
   "outputs": [
    {
     "name": "stdout",
     "output_type": "stream",
     "text": [
      "1~10 사이의 숫자 중 하나를 선택하시오 : 1\n",
      "위의 숫자를 제외하고, 1~10 사이의 숫자 중 하나를 선택하시오 : 10\n",
      "too high\n"
     ]
    }
   ],
   "source": [
    "secret = int(input(\"1~10 사이의 숫자 중 하나를 선택하시오 : \"))\n",
    "guess = int(input(\"위의 숫자를 제외하고, 1~10 사이의 숫자 중 하나를 선택하시오 : \"))\n",
    "\n",
    "if secret > guess:\n",
    "    print(\"too low\")\n",
    "elif secret < guess:\n",
    "    print(\"too high\")\n",
    "else:\n",
    "    print(\"just right\")"
   ]
  },
  {
   "cell_type": "markdown",
   "id": "729fc500",
   "metadata": {},
   "source": [
    "4.2.\n",
    "- True나 False를 small과 green 변수에 할당\n",
    "- if와 else문을 사용하여 small과 green을 기준으로 체리, 완두콩, 수박, 호박을 출력하기"
   ]
  },
  {
   "cell_type": "code",
   "execution_count": 37,
   "id": "572f9713",
   "metadata": {},
   "outputs": [
    {
     "name": "stdout",
     "output_type": "stream",
     "text": [
      "cherry\n"
     ]
    }
   ],
   "source": [
    "small = True\n",
    "green = False\n",
    "\n",
    "if small:\n",
    "    if green:\n",
    "        print(\"pea\")\n",
    "    else:\n",
    "        print(\"cherry\")\n",
    "        \n",
    "else:\n",
    "    if green:\n",
    "        print(\"watermelon\")\n",
    "    else:\n",
    "        print(\"pumpkin\")"
   ]
  }
 ],
 "metadata": {
  "kernelspec": {
   "display_name": "Python 3 (ipykernel)",
   "language": "python",
   "name": "python3"
  },
  "language_info": {
   "codemirror_mode": {
    "name": "ipython",
    "version": 3
   },
   "file_extension": ".py",
   "mimetype": "text/x-python",
   "name": "python",
   "nbconvert_exporter": "python",
   "pygments_lexer": "ipython3",
   "version": "3.9.7"
  }
 },
 "nbformat": 4,
 "nbformat_minor": 5
}
